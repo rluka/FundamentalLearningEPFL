{
 "cells": [
  {
   "cell_type": "markdown",
   "metadata": {},
   "source": [
    "# From Numpy to PyTorch\n",
    "\n",
    "**What will you learn in this notebook**:\n",
    "- Tensors syntax\n",
    "- Autograd\n",
    "- Neural Network modules"
   ]
  },
  {
   "cell_type": "markdown",
   "metadata": {},
   "source": [
    "Let's get back to last week exercise and migrate it to PyTorch. Luckily, the syntax is almost identical. The main difference is that *arrays* are replaced by *tensors*, and all the `np.*` functions become `torch.*`. For more advanced functionalities, we refer you to the [official documentation][torch_doc].\n",
    "\n",
    "[torch_doc]: https://pytorch.org/docs/stable/index.html\n",
    "\n",
    "## Single layer MLP in Numpy\n",
    "\n",
    "Recall the feedforward neural network with a single hidden layer.\n",
    "\n",
    "![simple_mlp](./simple_mlp.png)\n",
    "\n",
    "Below is the Numpy implementation of the activations and the feedforward propagation"
   ]
  },
  {
   "cell_type": "code",
   "execution_count": 1,
   "metadata": {},
   "outputs": [],
   "source": [
    "import numpy as np\n",
    "from typing import Tuple\n",
    "from numpy.typing import NDArray\n",
    "\n",
    "def np_sigmoid(t):\n",
    "    \"\"\"apply sigmoid function on t.\"\"\"\n",
    "    return 1.0 / (1 + np.exp(-t))\n",
    "\n",
    "def np_grad_sigmoid(t):\n",
    "    \"\"\"return the derivative of sigmoid on t.\"\"\"\n",
    "    return np_sigmoid(t) * (1 - np_sigmoid(t))\n",
    "\n",
    "def np_mlp(\n",
    "    x: NDArray[np.float_], w_1: NDArray[np.float_], w_2: NDArray[np.float_]\n",
    ") -> Tuple[NDArray[np.float_], NDArray[np.float_], NDArray[np.float_]]:\n",
    "    \"\"\"Feed forward propagation on MLP\n",
    "\n",
    "    Args:\n",
    "        x (NDArray[np.float_]): Input vector of shape (d_in,)\n",
    "        w_1 (NDArray[np.float_]): Parameter matrix of first hidden layer, of shape (d_in, d_hid)\n",
    "        w_2 (NDArray[np.float_]): Parameter vector of output layer, of shape (d_hid,)\n",
    "\n",
    "    Returns:\n",
    "        Tuple[NDArray[np.float], NDArray[np.float], NDArray[np.float]]: Three\n",
    "            arrays `y_hat`, `z_1`, `z_2`, containing repsectively the output and\n",
    "            the two preactivations.\n",
    "    \"\"\"\n",
    "    z_1 = w_1.T @ x\n",
    "    x_1 = np_sigmoid(z_1)\n",
    "    z_2 = w_2.T @ x_1\n",
    "    y_hat = np_sigmoid(z_2)\n",
    "    \n",
    "    return y_hat, z_1, z_2\n"
   ]
  },
  {
   "cell_type": "markdown",
   "metadata": {},
   "source": [
    "And this is the backpropagation with the Mean-squared error loss $\\mathcal L (y, \\hat y) = \\frac{1}{2} \\left( y - \\hat y \\right)^2$:"
   ]
  },
  {
   "cell_type": "code",
   "execution_count": 2,
   "metadata": {},
   "outputs": [],
   "source": [
    "def np_mlp_backpropagation(\n",
    "    y: NDArray[np.int_],\n",
    "    x: NDArray[np.float_],\n",
    "    w_2: NDArray[np.float_],\n",
    "    y_hat: NDArray[np.float_],\n",
    "    z_1: NDArray[np.float_],\n",
    "    z_2: NDArray[np.float_],\n",
    ") -> Tuple[NDArray[np.float_], NDArray[np.float_]]:\n",
    "    \"\"\"Do backpropagation and get parameter gradients.\n",
    "\n",
    "    Args:\n",
    "        y (NDArray[np.int_]): True label\n",
    "        x (NDArray[np.float_]): Input data\n",
    "        w_2 (NDArray[np.float_]): Readout layer parameters\n",
    "        y_hat (NDArray[np.float_]): MLP output\n",
    "        z_1 (NDArray[np.float_]): Hidden layer preactivations\n",
    "        z_2 (NDArray[np.float_]): Readout layer preactivations\n",
    "\n",
    "    Returns:\n",
    "        Tuple[NDArray[np.float_], NDArray[np.float_]]: Gradients of w_1 and w_2\n",
    "    \"\"\"\n",
    "    # Feed forward\n",
    "    _loss = 0.5 * (y - y_hat)**2\n",
    "\n",
    "    # Backpropogation\n",
    "    delta_2 = (y_hat - y) * np_grad_sigmoid(z_2)\n",
    "    x_1 = np_sigmoid(z_1)\n",
    "    dw_2 = delta_2 * x_1\n",
    "    delta_1 = delta_2 * w_2* np_grad_sigmoid(z_1)\n",
    "    dw_1 = np.outer(x, delta_1)\n",
    "\n",
    "    return dw_1, dw_2"
   ]
  },
  {
   "cell_type": "markdown",
   "metadata": {},
   "source": [
    "Now, we can compute the MLP output and retrieve the gradients"
   ]
  },
  {
   "cell_type": "code",
   "execution_count": 3,
   "metadata": {},
   "outputs": [
    {
     "name": "stdout",
     "output_type": "stream",
     "text": [
      "(4, 5)\n",
      "(5,)\n"
     ]
    }
   ],
   "source": [
    "x_np = np.array([0.01, 0.02, 0.03, 0.04])\n",
    "w_1_np = np.random.randn(4, 5)\n",
    "w_2_np = np.random.randn(5)\n",
    "\n",
    "y = 1\n",
    "\n",
    "y_hat_np, z_1, z_2 = np_mlp(x_np, w_1_np, w_2_np)\n",
    "dw_1_np, dw_2_np = np_mlp_backpropagation(y, x_np, w_2_np, y_hat_np, z_1, z_2)\n",
    "\n",
    "print(dw_1_np.shape)\n",
    "print(dw_2_np.shape)"
   ]
  },
  {
   "cell_type": "markdown",
   "metadata": {},
   "source": [
    "This indeed works, but as soon as we change the neural network architecture we have to change our backpropagation function, and keep track of all the computations that involve each parameter. It is a lot of work which we want to delegate to the machine.\n",
    "This is what *automatic differentiation* does, and libraries like PyTorch implement it."
   ]
  },
  {
   "cell_type": "markdown",
   "metadata": {},
   "source": [
    "## Exercise 1\n",
    "\n",
    "We can manipulate tensors as we want and, by asking for `require_grad=True`, PyTorch handles automatic differentation!"
   ]
  },
  {
   "cell_type": "code",
   "execution_count": 4,
   "metadata": {},
   "outputs": [],
   "source": [
    "import torch"
   ]
  },
  {
   "cell_type": "code",
   "execution_count": 5,
   "metadata": {},
   "outputs": [
    {
     "name": "stdout",
     "output_type": "stream",
     "text": [
      "c tensor(nan, grad_fn=<SumBackward0>)\n",
      "c.shape: torch.Size([])\n",
      "\n",
      "b.grad: tensor([-4.0393, -1.5182,  6.4476, -0.1653,  9.2753])\n",
      "b.grad.shape: torch.Size([5])\n"
     ]
    }
   ],
   "source": [
    "# EXAMPLE\n",
    "\n",
    "a = torch.randn(10, 5)\n",
    "b = torch.ones(5, requires_grad=True)\n",
    "\n",
    "# Note that c is a scalar\n",
    "c = torch.log(a @ b).sum()\n",
    "print(\"c\", c)\n",
    "print(\"c.shape:\", c.shape)\n",
    "print()\n",
    "\n",
    "# We ask to perform backpropagation\n",
    "c.backward()\n",
    "\n",
    "print(\"b.grad:\", b.grad)\n",
    "print(\"b.grad.shape:\", b.grad.shape)\n"
   ]
  },
  {
   "cell_type": "markdown",
   "metadata": {},
   "source": [
    "We now convert the previous code to PyTorch. Autograd is responsible of keeping track of each element in the computations, so we only need to implement the forward pass!"
   ]
  },
  {
   "cell_type": "code",
   "execution_count": 6,
   "metadata": {},
   "outputs": [],
   "source": [
    "def sigmoid(t) -> torch.FloatTensor:\n",
    "    \"\"\"apply sigmoid function on t.\"\"\"\n",
    "    #vvvvv YOUR CODE HERE vvvvv#\n",
    "    return 1.0 / (1 + torch.exp(-t))\n",
    "\n",
    "    #^^^^^^^^^^^^^^^^^^^^^^^^^^#\n",
    "\n",
    "def mlp(\n",
    "    x: torch.Tensor, w_1: torch.Tensor, w_2: torch.Tensor\n",
    ") -> torch.Tensor:\n",
    "    \"\"\"Feed forward propagation on MLP\n",
    "\n",
    "    Args:\n",
    "        x (torch.Tensor): Input vector of shape (d_in,)\n",
    "        w_1 (torch.Tensor): Parameter matrix of first hidden layer, of shape (d_in, d_hid)\n",
    "        w_2 (torch.Tensor): Parameter vector of output layer, of shape (d_hid,)\n",
    "\n",
    "    Returns:\n",
    "        torch.Tensor: Network output\n",
    "    \"\"\"\n",
    "    #vvvvv YOUR CODE HERE vvvvv#\n",
    "    z_1 = w_1.T @ x\n",
    "    x_1 = sigmoid(z_1)\n",
    "    z_2 = w_2.T @ x_1\n",
    "    y_hat = sigmoid(z_2)\n",
    "\n",
    "    #^^^^^^^^^^^^^^^^^^^^^^^^^^#\n",
    "    \n",
    "    return y_hat\n"
   ]
  },
  {
   "cell_type": "markdown",
   "metadata": {},
   "source": [
    "Now, we can verify that the output corresponds to the numpy implementation"
   ]
  },
  {
   "cell_type": "code",
   "execution_count": 7,
   "metadata": {},
   "outputs": [
    {
     "name": "stdout",
     "output_type": "stream",
     "text": [
      "True\n",
      "True\n"
     ]
    },
    {
     "name": "stderr",
     "output_type": "stream",
     "text": [
      "/var/folders/_8/gcl9g3rs7_77v18zc98r2rjm0000gn/T/ipykernel_66376/2594122369.py:24: UserWarning: The use of `x.T` on tensors of dimension other than 2 to reverse their shape is deprecated and it will throw an error in a future release. Consider `x.mT` to transpose batches of matricesor `x.permute(*torch.arange(x.ndim - 1, -1, -1))` to reverse the dimensions of a tensor. (Triggered internally at  /Users/runner/miniforge3/conda-bld/pytorch-recipe_1647804309932/work/aten/src/ATen/native/TensorShape.cpp:2318.)\n",
      "  z_2 = w_2.T @ x_1\n"
     ]
    }
   ],
   "source": [
    "#vvvvv YOUR CODE HERE vvvvv#\n",
    "\n",
    "# Convert arrays to tensors. Mind that we will ask for parameters gradients!\n",
    "x = torch.tensor(x_np)\n",
    "w_1 = torch.tensor(w_1_np, requires_grad=True)\n",
    "w_2 = torch.tensor(w_2_np, requires_grad=True)\n",
    "\n",
    "\n",
    "y_hat = mlp(x, w_1, w_2)\n",
    "loss = 0.5 * (y - y_hat)**2\n",
    "\n",
    "#Now perform backpropagation\n",
    "loss.backward()\n",
    "\n",
    "#^^^^^^^^^^^^^^^^^^^^^^^^^^#\n",
    "\n",
    "print(np.allclose(w_1.grad.numpy(), dw_1_np))\n",
    "print(np.allclose(w_2.grad.numpy(), dw_2_np))\n"
   ]
  },
  {
   "cell_type": "markdown",
   "metadata": {},
   "source": [
    "## Exercise 2\n",
    "\n",
    "Computing gradients has now got much easier! :grin:\n",
    "\n",
    "Still, PyTorch provides an even easier interface to build and train neural networks, whose components are in the `torch.nn` module.\n",
    "The main tool is the `torch.nn.Module` class, from which all neural networks shall inherit. This must implement a `forward` method, and, if needed, declare its parameters in the `__init__` method. \n",
    "\n",
    "Let's convert our MLP to a proper Module"
   ]
  },
  {
   "cell_type": "code",
   "execution_count": 13,
   "metadata": {},
   "outputs": [],
   "source": [
    "class MLP(torch.nn.Module):\n",
    "    def __init__(self, dim_in: int, dim_hidden: int) -> None:\n",
    "        #vvvvv YOUR CODE HERE vvvvv#\n",
    "        super().__init__()\n",
    "\n",
    "        self.w_1 = torch.nn.Parameter(\n",
    "            torch.randn((dim_in, dim_hidden)),\n",
    "            requires_grad=True,\n",
    "        )\n",
    "        self.w_2 = torch.nn.Parameter(\n",
    "            torch.randn((dim_hidden, 1)),\n",
    "            requires_grad=True,\n",
    "        )\n",
    "\n",
    "        #^^^^^^^^^^^^^^^^^^^^^^^^^^#\n",
    "    \n",
    "    def forward(self, x: torch.Tensor) -> torch.Tensor:\n",
    "        #vvvvv YOUR CODE HERE vvvvv#\n",
    "        z_1 = self.w_1.T @ x\n",
    "        x_1 = z_1.sigmoid()  # Let's use PyTorch built-in sigmoid!\n",
    "        z_2 = self.w_2.T @ x_1\n",
    "        return z_2.sigmoid()\n",
    "\n",
    "        #^^^^^^^^^^^^^^^^^^^^^^^^^^#"
   ]
  },
  {
   "cell_type": "markdown",
   "metadata": {},
   "source": [
    "Even better, `torch.nn` comes with a lot of layers and functions which are ready to use.\n",
    "\n",
    "For instance, we have a `torch.sigmoid` function, as well as `torch.nn.Linear` layer and a `torch.nn.MSELoss` loss.\n",
    "\n",
    "Here is a minimal implementation of our forward and backward pass:"
   ]
  },
  {
   "cell_type": "code",
   "execution_count": 14,
   "metadata": {},
   "outputs": [],
   "source": [
    "from torch import nn\n",
    "\n",
    "class MyMLP(nn.Module):\n",
    "    def __init__(self, dim_in: int, dim_hidden: int) -> None:\n",
    "        super().__init__()\n",
    "\n",
    "        # NOTE: Linear has a `bias` term by default!\n",
    "        self.linear1 = nn.Linear(dim_in, dim_hidden, bias=False)\n",
    "        self.linear2 = nn.Linear(dim_hidden, 1, bias=False)\n",
    "    \n",
    "    def forward(self, x):\n",
    "        x = self.linear1(x).sigmoid()\n",
    "        return self.linear2(x).sigmoid()"
   ]
  },
  {
   "cell_type": "markdown",
   "metadata": {},
   "source": [
    "Now initialize your model and compute the gradients with resect to the MSE loss"
   ]
  },
  {
   "cell_type": "code",
   "execution_count": 17,
   "metadata": {},
   "outputs": [
    {
     "name": "stdout",
     "output_type": "stream",
     "text": [
      "MyMLP(\n",
      "  (linear1): Linear(in_features=5, out_features=10, bias=False)\n",
      "  (linear2): Linear(in_features=10, out_features=1, bias=False)\n",
      ")\n"
     ]
    }
   ],
   "source": [
    "DIM_IN = 5\n",
    "DIM_HIDDEN = 10\n",
    "\n",
    "x = torch.ones(DIM_IN)\n",
    "y = torch.tensor([0.1])\n",
    "\n",
    "#vvvvv YOUR CODE HERE vvvvv#\n",
    "\n",
    "my_mlp = MyMLP(DIM_IN, DIM_HIDDEN)\n",
    "print(my_mlp)\n",
    "\n",
    "loss = nn.MSELoss()\n",
    "\n",
    "# Backpropagate\n",
    "\n",
    "loss(y, my_mlp(x)).backward()\n",
    "\n",
    "#^^^^^^^^^^^^^^^^^^^^^^^^^^#"
   ]
  },
  {
   "cell_type": "markdown",
   "metadata": {},
   "source": [
    "## Question\n",
    "\n",
    "Check the sizes of the gradients of each layer and verify that they correspond to what you expect."
   ]
  },
  {
   "cell_type": "code",
   "execution_count": 24,
   "metadata": {},
   "outputs": [
    {
     "name": "stdout",
     "output_type": "stream",
     "text": [
      "torch.Size([10, 5])\n",
      "torch.Size([1, 10])\n"
     ]
    }
   ],
   "source": [
    "#vvvvv YOUR CODE HERE vvvvv#\n",
    "\n",
    "# Note that we have multiple ways to retrieve the parameters\n",
    "#\n",
    "# This one works for the MyMLP module define above, but different modules will\n",
    "# have other submodules and parameter names\n",
    "\n",
    "gw_1 = my_mlp.linear1.get_parameter('weight')\n",
    "gw_2 = my_mlp.linear2.get_parameter('weight')\n",
    "\n",
    "print(gw_1.shape)\n",
    "print(gw_2.shape)\n",
    "#^^^^^^^^^^^^^^^^^^^^^^^^^^#"
   ]
  },
  {
   "cell_type": "markdown",
   "metadata": {},
   "source": [
    "The `nn.Sequential` module stacks the given layer one after the other.\n",
    "Still, to get more control on the forward, is better to stick to self-defined module"
   ]
  },
  {
   "cell_type": "code",
   "execution_count": 11,
   "metadata": {},
   "outputs": [
    {
     "name": "stdout",
     "output_type": "stream",
     "text": [
      "Sequential(\n",
      "  (0): Linear(in_features=5, out_features=10, bias=False)\n",
      "  (1): Sigmoid()\n",
      "  (2): Linear(in_features=10, out_features=1, bias=False)\n",
      "  (3): Sigmoid()\n",
      ")\n"
     ]
    }
   ],
   "source": [
    "sequential_mlp = nn.Sequential(\n",
    "    nn.Linear(DIM_IN, DIM_HIDDEN, bias=False),\n",
    "    nn.Sigmoid(),\n",
    "    nn.Linear(DIM_HIDDEN, 1, bias=False),\n",
    "    nn.Sigmoid(),\n",
    ")\n",
    "\n",
    "print(sequential_mlp)"
   ]
  },
  {
   "cell_type": "code",
   "execution_count": null,
   "metadata": {},
   "outputs": [],
   "source": []
  }
 ],
 "metadata": {
  "kernelspec": {
   "display_name": "Python 3.10.4 ('playground')",
   "language": "python",
   "name": "python3"
  },
  "language_info": {
   "codemirror_mode": {
    "name": "ipython",
    "version": 3
   },
   "file_extension": ".py",
   "mimetype": "text/x-python",
   "name": "python",
   "nbconvert_exporter": "python",
   "pygments_lexer": "ipython3",
   "version": "3.10.4"
  },
  "vscode": {
   "interpreter": {
    "hash": "1b6258ac5f9ce9aee8bc7e8f09e746bac739d42425ff8343fe5df569d2e6cb19"
   }
  }
 },
 "nbformat": 4,
 "nbformat_minor": 4
}
