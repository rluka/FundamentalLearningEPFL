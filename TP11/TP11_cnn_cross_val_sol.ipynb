{
 "cells": [
  {
   "cell_type": "markdown",
   "metadata": {},
   "source": [
    "# Introduction\n",
    "\n",
    "**What did we learn last week?**: We got a first look at PyTorch and trained a deep learning model with automatic differentiation.\n",
    "\n",
    "**What you will learn today**: We will take a closer look at Convolutional Neural Networks and understand why they are ubiquitously used. Then, we will look at the *correct* way of evaluating performance. Finally, we will explore some important hyperparameters/design decision for \n",
    "boosting performance."
   ]
  },
  {
   "cell_type": "markdown",
   "metadata": {},
   "source": [
    "## Convolutional Neural Networks\n",
    "\n",
    "Great sources:\n",
    "- https://poloclub.github.io/cnn-explainer/\n",
    "- https://setosa.io/ev/image-kernels/\n",
    "\n",
    "![](https://poloclub.github.io/cnn-explainer/assets/figures/convlayer_detailedview_demo.gif)\n",
    "\n",
    "**Why convolutions and not fully-connected layers?** In the previous lab, we used a MultiLayer Perceptron (MLP) to perform classification on the MNIST dataset of handwritten digits. However, MLPs expect a vector as an input and, hence, our first step was to *flatten* the image; from an input of shape $(1, 28, 28)$ we got a vector of $1\\times28\\times28=784$ elements. Then, each layer of the MLP is fully connected, meaning that all $784$ elements are fed into each neuron of the next layer.\n",
    "\n",
    "Does this sound reasonable?\n",
    "\n",
    "No! First, by flattening we implicitly lose *local* information. Assume you look at pixel in location $(5,5)$, then the neighboring pixels $(4,5),(6,5), (5,4), (5,6),\\dots$ are important and must be \"somewhat similar\". Second, by using all elements of the previous layer. the top left and bottom right pixels are used in the same computation. \n",
    "\n",
    "Convolutional Neural Networks address these (and more) concerns and are suitable for the image domain. But, what are convolutions? We start with a small matrix of weights, e.g. $3\\times3$, which is called a kernel. The kernel is then slided over the 2d input and we perform elementwise multiplication with the values the kernel is currently on. The summation of the $3\\times3=9$ elements is the output for the pixel. Hence, the kernel performs a \"local\" computation. *Back in the day*, kernels were hand-designed to perform a specific operation. For example, the Sobel operator is used for edge-detection:\n",
    "\n",
    "$$\n",
    "\\mathbf{G}_x=\\left[\\begin{array}{ccc}\n",
    "+1 & 0 & -1 \\\\\n",
    "+2 & 0 & -2 \\\\\n",
    "+1 & 0 & -1\n",
    "\\end{array}\\right] * \\mathbf{A} \\quad \\text { and } \\quad \\mathbf{G}_y=\\left[\\begin{array}{ccc}\n",
    "+1 & +2 & +1 \\\\\n",
    "0 & 0 & 0 \\\\\n",
    "-1 & -2 & -1\n",
    "\\end{array}\\right] * \\mathbf{A}\n",
    "$$\n",
    "\n",
    "$$\n",
    "\\mathbf{G}=\\sqrt{\\mathbf{G}_x^2+\\mathbf{G}_y^2}\n",
    "$$\n",
    "\n",
    "For example:\n",
    "\n",
    "![](https://miro.medium.com/max/640/1*m9XHMKQPY6mKYsaykuVAsw.webp)\n",
    "\n",
    "Creating filters for every different scenario requires domain knowledge and is cumbersome. (Convolutional) Neural Networks learn the values of these filters in an \"end-to-end\" manner! "
   ]
  },
  {
   "cell_type": "code",
   "execution_count": 1,
   "metadata": {},
   "outputs": [],
   "source": [
    "%load_ext autoreload\n",
    "%autoreload 2"
   ]
  },
  {
   "cell_type": "code",
   "execution_count": 2,
   "metadata": {},
   "outputs": [],
   "source": [
    "# import our \"local\" library of functions\n",
    "from training_utils import train_epoch, fit, predict, visualize_images\n",
    "\n",
    "# also import everything else that we need\n",
    "import torch\n",
    "import torch.nn as nn\n",
    "import torchvision\n",
    "from torch.utils.data import DataLoader\n",
    "import matplotlib.pyplot as plt\n"
   ]
  },
  {
   "cell_type": "code",
   "execution_count": 3,
   "metadata": {},
   "outputs": [
    {
     "name": "stdout",
     "output_type": "stream",
     "text": [
      "cuda\n"
     ]
    }
   ],
   "source": [
    "# define the hyperparameters\n",
    "BATCH_SIZE = 1024\n",
    "TEST_BATCH_SIZE = 1024\n",
    "LEARNING_RATE = 0.01\n",
    "\n",
    "# find out which device is available\n",
    "DEVICE = torch.device(\"cuda\" if torch.cuda.is_available() else \"cpu\")\n",
    "print(DEVICE)"
   ]
  },
  {
   "cell_type": "code",
   "execution_count": 4,
   "metadata": {},
   "outputs": [],
   "source": [
    "transform = torchvision.transforms.ToTensor()\n",
    "\n",
    "# load the train dataset\n",
    "train_dataset = torchvision.datasets.MNIST(\n",
    "    root='./data/', \n",
    "    train=True, \n",
    "    download=True,\n",
    "    transform=transform)\n",
    "\n",
    "# load the test dataset\n",
    "test_dataset = torchvision.datasets.MNIST(\n",
    "    root='./data/', \n",
    "    train=False, \n",
    "    download=True,\n",
    "    transform=transform)\n",
    "\n",
    "train_dataloader = DataLoader(\n",
    "    dataset=train_dataset, \n",
    "    batch_size=BATCH_SIZE,\n",
    "    shuffle=True, \n",
    "    num_workers=2)\n",
    "\n",
    "\n",
    "test_dataloader = DataLoader(\n",
    "    dataset=test_dataset, \n",
    "    batch_size=TEST_BATCH_SIZE,\n",
    "    shuffle=False, \n",
    "    num_workers=2)"
   ]
  },
  {
   "cell_type": "code",
   "execution_count": 5,
   "metadata": {},
   "outputs": [
    {
     "data": {
      "image/png": "[encoded data removed]",
      "text/plain": [
       "<Figure size 640x480 with 1 Axes>"
      ]
     },
     "metadata": {},
     "output_type": "display_data"
    }
   ],
   "source": [
    "visualize_images(train_dataloader)"
   ]
  },
  {
   "cell_type": "code",
   "execution_count": 6,
   "metadata": {},
   "outputs": [],
   "source": [
    "class CNN(nn.Module): \n",
    "    def __init__(self):\n",
    "        super().__init__()\n",
    "\n",
    "        # We use a Sequential, i.e. the inputs passes through each of\n",
    "        # the modules below, one-by-one\n",
    "        self.conv = nn.Sequential(         \n",
    "            nn.Conv2d(\n",
    "                in_channels=1,              \n",
    "                out_channels=16,            \n",
    "                kernel_size=3,              \n",
    "                stride=1,                   \n",
    "                padding=1,                  \n",
    "            ),                              \n",
    "            nn.ReLU(),                      \n",
    "            nn.MaxPool2d(kernel_size=2), \n",
    "            nn.Conv2d(\n",
    "                in_channels=16, \n",
    "                out_channels=32, \n",
    "                kernel_size=3, \n",
    "                stride=1, \n",
    "                padding=1),     \n",
    "            nn.ReLU(),                      \n",
    "            nn.MaxPool2d(2),    \n",
    "        )\n",
    "              \n",
    "        # fully connected layer, output 10 classes   \n",
    "        self.out = nn.Linear(1568, 10)    \n",
    "        \n",
    "    def forward(self, x):\n",
    "        x = self.conv(x)\n",
    "        x = x.view(x.size(0), -1) \n",
    "        x = self.out(x)\n",
    "        return x   \n",
    "        "
   ]
  },
  {
   "cell_type": "code",
   "execution_count": 7,
   "metadata": {},
   "outputs": [
    {
     "name": "stdout",
     "output_type": "stream",
     "text": [
      "Epoch 0: Loss=1.3424238855555906\n",
      "Epoch 1: Loss=0.4347091372740471\n",
      "Epoch 2: Loss=0.27281367273653967\n",
      "Epoch 3: Loss=0.2040534150802483\n",
      "Epoch 4: Loss=0.17384801981812817\n",
      "Epoch 5: Loss=0.14725201412782832\n",
      "Epoch 6: Loss=0.13151269418708347\n",
      "Epoch 7: Loss=0.11933324044033633\n",
      "Epoch 8: Loss=0.109466893314305\n",
      "Epoch 9: Loss=0.10127120073569024\n",
      "Test set: Avg. loss: 0.0916, Accuracy: 9728/10000 (97%)\n"
     ]
    },
    {
     "data": {
      "text/plain": [
       "(0.09164995613098144, tensor(97.2800, device='cuda:0'))"
      ]
     },
     "execution_count": 7,
     "metadata": {},
     "output_type": "execute_result"
    }
   ],
   "source": [
    "# initialize model\n",
    "cnn = CNN().to(DEVICE)\n",
    "\n",
    "# define the optimizer\n",
    "optimizer = torch.optim.SGD(cnn.parameters(), lr=0.1)\n",
    "\n",
    "# train the CNN\n",
    "losses = fit(\n",
    "    model=cnn, \n",
    "    train_dataloader=train_dataloader,\n",
    "    optimizer=optimizer,\n",
    "    epochs=10,\n",
    "    device=DEVICE\n",
    ")\n",
    "\n",
    "predict(model=cnn, test_dataloader=test_dataloader, device=DEVICE)"
   ]
  },
  {
   "cell_type": "markdown",
   "metadata": {},
   "source": [
    "## CIFAR10"
   ]
  },
  {
   "cell_type": "code",
   "execution_count": 8,
   "metadata": {},
   "outputs": [
    {
     "name": "stdout",
     "output_type": "stream",
     "text": [
      "Files already downloaded and verified\n",
      "Files already downloaded and verified\n"
     ]
    }
   ],
   "source": [
    "transform = torchvision.transforms.ToTensor()\n",
    "\n",
    "# load the train dataset\n",
    "train_dataset = torchvision.datasets.CIFAR10(\n",
    "    root='./data/', \n",
    "    train=True, \n",
    "    download=True,\n",
    "    transform=transform)\n",
    "\n",
    "# load the test dataset\n",
    "test_dataset = torchvision.datasets.CIFAR10(\n",
    "    root='./data/', \n",
    "    train=False, \n",
    "    download=True,\n",
    "    transform=transform)\n",
    "\n",
    "train_dataloader = DataLoader(\n",
    "    dataset=train_dataset, \n",
    "    batch_size=BATCH_SIZE,\n",
    "    shuffle=True, \n",
    "    num_workers=2)\n",
    "\n",
    "\n",
    "test_dataloader = DataLoader(\n",
    "    dataset=test_dataset, \n",
    "    batch_size=TEST_BATCH_SIZE,\n",
    "    shuffle=False, \n",
    "    num_workers=2)"
   ]
  },
  {
   "cell_type": "code",
   "execution_count": 9,
   "metadata": {},
   "outputs": [
    {
     "data": {
      "image/png": "[encoded data removed]",
      "text/plain": [
       "<Figure size 640x480 with 1 Axes>"
      ]
     },
     "metadata": {},
     "output_type": "display_data"
    }
   ],
   "source": [
    "visualize_images(train_dataloader)"
   ]
  },
  {
   "cell_type": "code",
   "execution_count": 10,
   "metadata": {},
   "outputs": [
    {
     "ename": "RuntimeError",
     "evalue": "Given groups=1, weight of size [16, 1, 3, 3], expected input[1024, 3, 32, 32] to have 1 channels, but got 3 channels instead",
     "output_type": "error",
     "traceback": [
      "\u001b[0;31m---------------------------------------------------------------------------\u001b[0m",
      "\u001b[0;31mRuntimeError\u001b[0m                              Traceback (most recent call last)",
      "\u001b[1;32m/home/ndimitri/clones/PrivateFundamentalLearningEPFL/TP11/TP11_cnn_cross_val_sol.ipynb Cell 13\u001b[0m in \u001b[0;36m<cell line: 9>\u001b[0;34m()\u001b[0m\n\u001b[1;32m      <a href='vscode-notebook-cell://ssh-remote%2Bsticluster006.iccluster.epfl.ch/home/ndimitri/clones/PrivateFundamentalLearningEPFL/TP11/TP11_cnn_cross_val_sol.ipynb#X15sdnNjb2RlLXJlbW90ZQ%3D%3D?line=4'>5</a>\u001b[0m optimizer \u001b[39m=\u001b[39m torch\u001b[39m.\u001b[39moptim\u001b[39m.\u001b[39mSGD(cnn\u001b[39m.\u001b[39mparameters(), lr\u001b[39m=\u001b[39m\u001b[39m0.1\u001b[39m)\n\u001b[1;32m      <a href='vscode-notebook-cell://ssh-remote%2Bsticluster006.iccluster.epfl.ch/home/ndimitri/clones/PrivateFundamentalLearningEPFL/TP11/TP11_cnn_cross_val_sol.ipynb#X15sdnNjb2RlLXJlbW90ZQ%3D%3D?line=7'>8</a>\u001b[0m \u001b[39m# train the CNN\u001b[39;00m\n\u001b[0;32m----> <a href='vscode-notebook-cell://ssh-remote%2Bsticluster006.iccluster.epfl.ch/home/ndimitri/clones/PrivateFundamentalLearningEPFL/TP11/TP11_cnn_cross_val_sol.ipynb#X15sdnNjb2RlLXJlbW90ZQ%3D%3D?line=8'>9</a>\u001b[0m losses \u001b[39m=\u001b[39m fit(\n\u001b[1;32m     <a href='vscode-notebook-cell://ssh-remote%2Bsticluster006.iccluster.epfl.ch/home/ndimitri/clones/PrivateFundamentalLearningEPFL/TP11/TP11_cnn_cross_val_sol.ipynb#X15sdnNjb2RlLXJlbW90ZQ%3D%3D?line=9'>10</a>\u001b[0m     model\u001b[39m=\u001b[39;49mcnn, \n\u001b[1;32m     <a href='vscode-notebook-cell://ssh-remote%2Bsticluster006.iccluster.epfl.ch/home/ndimitri/clones/PrivateFundamentalLearningEPFL/TP11/TP11_cnn_cross_val_sol.ipynb#X15sdnNjb2RlLXJlbW90ZQ%3D%3D?line=10'>11</a>\u001b[0m     train_dataloader\u001b[39m=\u001b[39;49mtrain_dataloader,\n\u001b[1;32m     <a href='vscode-notebook-cell://ssh-remote%2Bsticluster006.iccluster.epfl.ch/home/ndimitri/clones/PrivateFundamentalLearningEPFL/TP11/TP11_cnn_cross_val_sol.ipynb#X15sdnNjb2RlLXJlbW90ZQ%3D%3D?line=11'>12</a>\u001b[0m     optimizer\u001b[39m=\u001b[39;49moptimizer,\n\u001b[1;32m     <a href='vscode-notebook-cell://ssh-remote%2Bsticluster006.iccluster.epfl.ch/home/ndimitri/clones/PrivateFundamentalLearningEPFL/TP11/TP11_cnn_cross_val_sol.ipynb#X15sdnNjb2RlLXJlbW90ZQ%3D%3D?line=12'>13</a>\u001b[0m     epochs\u001b[39m=\u001b[39;49m\u001b[39m10\u001b[39;49m,\n\u001b[1;32m     <a href='vscode-notebook-cell://ssh-remote%2Bsticluster006.iccluster.epfl.ch/home/ndimitri/clones/PrivateFundamentalLearningEPFL/TP11/TP11_cnn_cross_val_sol.ipynb#X15sdnNjb2RlLXJlbW90ZQ%3D%3D?line=13'>14</a>\u001b[0m     device\u001b[39m=\u001b[39;49mDEVICE\n\u001b[1;32m     <a href='vscode-notebook-cell://ssh-remote%2Bsticluster006.iccluster.epfl.ch/home/ndimitri/clones/PrivateFundamentalLearningEPFL/TP11/TP11_cnn_cross_val_sol.ipynb#X15sdnNjb2RlLXJlbW90ZQ%3D%3D?line=14'>15</a>\u001b[0m )\n\u001b[1;32m     <a href='vscode-notebook-cell://ssh-remote%2Bsticluster006.iccluster.epfl.ch/home/ndimitri/clones/PrivateFundamentalLearningEPFL/TP11/TP11_cnn_cross_val_sol.ipynb#X15sdnNjb2RlLXJlbW90ZQ%3D%3D?line=16'>17</a>\u001b[0m predict(model\u001b[39m=\u001b[39mcnn, test_dataloader\u001b[39m=\u001b[39mtest_dataloader, device\u001b[39m=\u001b[39mDEVICE)\n",
      "File \u001b[0;32m~/clones/PrivateFundamentalLearningEPFL/TP11/training_utils.py:65\u001b[0m, in \u001b[0;36mfit\u001b[0;34m(model, train_dataloader, optimizer, epochs, device)\u001b[0m\n\u001b[1;32m     63\u001b[0m losses \u001b[39m=\u001b[39m []\n\u001b[1;32m     64\u001b[0m \u001b[39mfor\u001b[39;00m epoch \u001b[39min\u001b[39;00m \u001b[39mrange\u001b[39m(epochs):\n\u001b[0;32m---> 65\u001b[0m     running_loss \u001b[39m=\u001b[39m train_epoch(\n\u001b[1;32m     66\u001b[0m         model\u001b[39m=\u001b[39;49mmodel,\n\u001b[1;32m     67\u001b[0m         train_dataloader\u001b[39m=\u001b[39;49mtrain_dataloader,\n\u001b[1;32m     68\u001b[0m         optimizer\u001b[39m=\u001b[39;49moptimizer,\n\u001b[1;32m     69\u001b[0m         device\u001b[39m=\u001b[39;49mdevice,\n\u001b[1;32m     70\u001b[0m     )\n\u001b[1;32m     71\u001b[0m     \u001b[39mprint\u001b[39m(\u001b[39mf\u001b[39m\u001b[39m\"\u001b[39m\u001b[39mEpoch \u001b[39m\u001b[39m{\u001b[39;00mepoch\u001b[39m}\u001b[39;00m\u001b[39m: Loss=\u001b[39m\u001b[39m{\u001b[39;00mrunning_loss\u001b[39m}\u001b[39;00m\u001b[39m\"\u001b[39m)\n\u001b[1;32m     72\u001b[0m     losses\u001b[39m.\u001b[39mappend(running_loss)\n",
      "File \u001b[0;32m~/clones/PrivateFundamentalLearningEPFL/TP11/training_utils.py:33\u001b[0m, in \u001b[0;36mtrain_epoch\u001b[0;34m(model, train_dataloader, optimizer, device)\u001b[0m\n\u001b[1;32m     30\u001b[0m optimizer\u001b[39m.\u001b[39mzero_grad()\n\u001b[1;32m     32\u001b[0m \u001b[39m# do the forward pass\u001b[39;00m\n\u001b[0;32m---> 33\u001b[0m output \u001b[39m=\u001b[39m model(data)\n\u001b[1;32m     35\u001b[0m \u001b[39m# compute the loss\u001b[39;00m\n\u001b[1;32m     36\u001b[0m loss \u001b[39m=\u001b[39m F\u001b[39m.\u001b[39mcross_entropy(output, target)\n",
      "File \u001b[0;32m~/.conda/envs/nikdim/lib/python3.9/site-packages/torch/nn/modules/module.py:1110\u001b[0m, in \u001b[0;36mModule._call_impl\u001b[0;34m(self, *input, **kwargs)\u001b[0m\n\u001b[1;32m   1106\u001b[0m \u001b[39m# If we don't have any hooks, we want to skip the rest of the logic in\u001b[39;00m\n\u001b[1;32m   1107\u001b[0m \u001b[39m# this function, and just call forward.\u001b[39;00m\n\u001b[1;32m   1108\u001b[0m \u001b[39mif\u001b[39;00m \u001b[39mnot\u001b[39;00m (\u001b[39mself\u001b[39m\u001b[39m.\u001b[39m_backward_hooks \u001b[39mor\u001b[39;00m \u001b[39mself\u001b[39m\u001b[39m.\u001b[39m_forward_hooks \u001b[39mor\u001b[39;00m \u001b[39mself\u001b[39m\u001b[39m.\u001b[39m_forward_pre_hooks \u001b[39mor\u001b[39;00m _global_backward_hooks\n\u001b[1;32m   1109\u001b[0m         \u001b[39mor\u001b[39;00m _global_forward_hooks \u001b[39mor\u001b[39;00m _global_forward_pre_hooks):\n\u001b[0;32m-> 1110\u001b[0m     \u001b[39mreturn\u001b[39;00m forward_call(\u001b[39m*\u001b[39;49m\u001b[39minput\u001b[39;49m, \u001b[39m*\u001b[39;49m\u001b[39m*\u001b[39;49mkwargs)\n\u001b[1;32m   1111\u001b[0m \u001b[39m# Do not call functions when jit is used\u001b[39;00m\n\u001b[1;32m   1112\u001b[0m full_backward_hooks, non_full_backward_hooks \u001b[39m=\u001b[39m [], []\n",
      "\u001b[1;32m/home/ndimitri/clones/PrivateFundamentalLearningEPFL/TP11/TP11_cnn_cross_val_sol.ipynb Cell 13\u001b[0m in \u001b[0;36mCNN.forward\u001b[0;34m(self, x)\u001b[0m\n\u001b[1;32m     <a href='vscode-notebook-cell://ssh-remote%2Bsticluster006.iccluster.epfl.ch/home/ndimitri/clones/PrivateFundamentalLearningEPFL/TP11/TP11_cnn_cross_val_sol.ipynb#X15sdnNjb2RlLXJlbW90ZQ%3D%3D?line=29'>30</a>\u001b[0m \u001b[39mdef\u001b[39;00m \u001b[39mforward\u001b[39m(\u001b[39mself\u001b[39m, x):\n\u001b[0;32m---> <a href='vscode-notebook-cell://ssh-remote%2Bsticluster006.iccluster.epfl.ch/home/ndimitri/clones/PrivateFundamentalLearningEPFL/TP11/TP11_cnn_cross_val_sol.ipynb#X15sdnNjb2RlLXJlbW90ZQ%3D%3D?line=30'>31</a>\u001b[0m     x \u001b[39m=\u001b[39m \u001b[39mself\u001b[39;49m\u001b[39m.\u001b[39;49mconv(x)\n\u001b[1;32m     <a href='vscode-notebook-cell://ssh-remote%2Bsticluster006.iccluster.epfl.ch/home/ndimitri/clones/PrivateFundamentalLearningEPFL/TP11/TP11_cnn_cross_val_sol.ipynb#X15sdnNjb2RlLXJlbW90ZQ%3D%3D?line=31'>32</a>\u001b[0m     x \u001b[39m=\u001b[39m x\u001b[39m.\u001b[39mview(x\u001b[39m.\u001b[39msize(\u001b[39m0\u001b[39m), \u001b[39m-\u001b[39m\u001b[39m1\u001b[39m) \n\u001b[1;32m     <a href='vscode-notebook-cell://ssh-remote%2Bsticluster006.iccluster.epfl.ch/home/ndimitri/clones/PrivateFundamentalLearningEPFL/TP11/TP11_cnn_cross_val_sol.ipynb#X15sdnNjb2RlLXJlbW90ZQ%3D%3D?line=32'>33</a>\u001b[0m     x \u001b[39m=\u001b[39m \u001b[39mself\u001b[39m\u001b[39m.\u001b[39mout(x)\n",
      "File \u001b[0;32m~/.conda/envs/nikdim/lib/python3.9/site-packages/torch/nn/modules/module.py:1110\u001b[0m, in \u001b[0;36mModule._call_impl\u001b[0;34m(self, *input, **kwargs)\u001b[0m\n\u001b[1;32m   1106\u001b[0m \u001b[39m# If we don't have any hooks, we want to skip the rest of the logic in\u001b[39;00m\n\u001b[1;32m   1107\u001b[0m \u001b[39m# this function, and just call forward.\u001b[39;00m\n\u001b[1;32m   1108\u001b[0m \u001b[39mif\u001b[39;00m \u001b[39mnot\u001b[39;00m (\u001b[39mself\u001b[39m\u001b[39m.\u001b[39m_backward_hooks \u001b[39mor\u001b[39;00m \u001b[39mself\u001b[39m\u001b[39m.\u001b[39m_forward_hooks \u001b[39mor\u001b[39;00m \u001b[39mself\u001b[39m\u001b[39m.\u001b[39m_forward_pre_hooks \u001b[39mor\u001b[39;00m _global_backward_hooks\n\u001b[1;32m   1109\u001b[0m         \u001b[39mor\u001b[39;00m _global_forward_hooks \u001b[39mor\u001b[39;00m _global_forward_pre_hooks):\n\u001b[0;32m-> 1110\u001b[0m     \u001b[39mreturn\u001b[39;00m forward_call(\u001b[39m*\u001b[39;49m\u001b[39minput\u001b[39;49m, \u001b[39m*\u001b[39;49m\u001b[39m*\u001b[39;49mkwargs)\n\u001b[1;32m   1111\u001b[0m \u001b[39m# Do not call functions when jit is used\u001b[39;00m\n\u001b[1;32m   1112\u001b[0m full_backward_hooks, non_full_backward_hooks \u001b[39m=\u001b[39m [], []\n",
      "File \u001b[0;32m~/.conda/envs/nikdim/lib/python3.9/site-packages/torch/nn/modules/container.py:141\u001b[0m, in \u001b[0;36mSequential.forward\u001b[0;34m(self, input)\u001b[0m\n\u001b[1;32m    139\u001b[0m \u001b[39mdef\u001b[39;00m \u001b[39mforward\u001b[39m(\u001b[39mself\u001b[39m, \u001b[39minput\u001b[39m):\n\u001b[1;32m    140\u001b[0m     \u001b[39mfor\u001b[39;00m module \u001b[39min\u001b[39;00m \u001b[39mself\u001b[39m:\n\u001b[0;32m--> 141\u001b[0m         \u001b[39minput\u001b[39m \u001b[39m=\u001b[39m module(\u001b[39minput\u001b[39;49m)\n\u001b[1;32m    142\u001b[0m     \u001b[39mreturn\u001b[39;00m \u001b[39minput\u001b[39m\n",
      "File \u001b[0;32m~/.conda/envs/nikdim/lib/python3.9/site-packages/torch/nn/modules/module.py:1110\u001b[0m, in \u001b[0;36mModule._call_impl\u001b[0;34m(self, *input, **kwargs)\u001b[0m\n\u001b[1;32m   1106\u001b[0m \u001b[39m# If we don't have any hooks, we want to skip the rest of the logic in\u001b[39;00m\n\u001b[1;32m   1107\u001b[0m \u001b[39m# this function, and just call forward.\u001b[39;00m\n\u001b[1;32m   1108\u001b[0m \u001b[39mif\u001b[39;00m \u001b[39mnot\u001b[39;00m (\u001b[39mself\u001b[39m\u001b[39m.\u001b[39m_backward_hooks \u001b[39mor\u001b[39;00m \u001b[39mself\u001b[39m\u001b[39m.\u001b[39m_forward_hooks \u001b[39mor\u001b[39;00m \u001b[39mself\u001b[39m\u001b[39m.\u001b[39m_forward_pre_hooks \u001b[39mor\u001b[39;00m _global_backward_hooks\n\u001b[1;32m   1109\u001b[0m         \u001b[39mor\u001b[39;00m _global_forward_hooks \u001b[39mor\u001b[39;00m _global_forward_pre_hooks):\n\u001b[0;32m-> 1110\u001b[0m     \u001b[39mreturn\u001b[39;00m forward_call(\u001b[39m*\u001b[39;49m\u001b[39minput\u001b[39;49m, \u001b[39m*\u001b[39;49m\u001b[39m*\u001b[39;49mkwargs)\n\u001b[1;32m   1111\u001b[0m \u001b[39m# Do not call functions when jit is used\u001b[39;00m\n\u001b[1;32m   1112\u001b[0m full_backward_hooks, non_full_backward_hooks \u001b[39m=\u001b[39m [], []\n",
      "File \u001b[0;32m~/.conda/envs/nikdim/lib/python3.9/site-packages/torch/nn/modules/conv.py:447\u001b[0m, in \u001b[0;36mConv2d.forward\u001b[0;34m(self, input)\u001b[0m\n\u001b[1;32m    446\u001b[0m \u001b[39mdef\u001b[39;00m \u001b[39mforward\u001b[39m(\u001b[39mself\u001b[39m, \u001b[39minput\u001b[39m: Tensor) \u001b[39m-\u001b[39m\u001b[39m>\u001b[39m Tensor:\n\u001b[0;32m--> 447\u001b[0m     \u001b[39mreturn\u001b[39;00m \u001b[39mself\u001b[39;49m\u001b[39m.\u001b[39;49m_conv_forward(\u001b[39minput\u001b[39;49m, \u001b[39mself\u001b[39;49m\u001b[39m.\u001b[39;49mweight, \u001b[39mself\u001b[39;49m\u001b[39m.\u001b[39;49mbias)\n",
      "File \u001b[0;32m~/.conda/envs/nikdim/lib/python3.9/site-packages/torch/nn/modules/conv.py:443\u001b[0m, in \u001b[0;36mConv2d._conv_forward\u001b[0;34m(self, input, weight, bias)\u001b[0m\n\u001b[1;32m    439\u001b[0m \u001b[39mif\u001b[39;00m \u001b[39mself\u001b[39m\u001b[39m.\u001b[39mpadding_mode \u001b[39m!=\u001b[39m \u001b[39m'\u001b[39m\u001b[39mzeros\u001b[39m\u001b[39m'\u001b[39m:\n\u001b[1;32m    440\u001b[0m     \u001b[39mreturn\u001b[39;00m F\u001b[39m.\u001b[39mconv2d(F\u001b[39m.\u001b[39mpad(\u001b[39minput\u001b[39m, \u001b[39mself\u001b[39m\u001b[39m.\u001b[39m_reversed_padding_repeated_twice, mode\u001b[39m=\u001b[39m\u001b[39mself\u001b[39m\u001b[39m.\u001b[39mpadding_mode),\n\u001b[1;32m    441\u001b[0m                     weight, bias, \u001b[39mself\u001b[39m\u001b[39m.\u001b[39mstride,\n\u001b[1;32m    442\u001b[0m                     _pair(\u001b[39m0\u001b[39m), \u001b[39mself\u001b[39m\u001b[39m.\u001b[39mdilation, \u001b[39mself\u001b[39m\u001b[39m.\u001b[39mgroups)\n\u001b[0;32m--> 443\u001b[0m \u001b[39mreturn\u001b[39;00m F\u001b[39m.\u001b[39;49mconv2d(\u001b[39minput\u001b[39;49m, weight, bias, \u001b[39mself\u001b[39;49m\u001b[39m.\u001b[39;49mstride,\n\u001b[1;32m    444\u001b[0m                 \u001b[39mself\u001b[39;49m\u001b[39m.\u001b[39;49mpadding, \u001b[39mself\u001b[39;49m\u001b[39m.\u001b[39;49mdilation, \u001b[39mself\u001b[39;49m\u001b[39m.\u001b[39;49mgroups)\n",
      "\u001b[0;31mRuntimeError\u001b[0m: Given groups=1, weight of size [16, 1, 3, 3], expected input[1024, 3, 32, 32] to have 1 channels, but got 3 channels instead"
     ]
    }
   ],
   "source": [
    "# initialize model\n",
    "cnn = CNN().to(DEVICE)\n",
    "\n",
    "# define the optimizer\n",
    "optimizer = torch.optim.SGD(cnn.parameters(), lr=0.1)\n",
    "\n",
    "\n",
    "# train the CNN\n",
    "losses = fit(\n",
    "    model=cnn, \n",
    "    train_dataloader=train_dataloader,\n",
    "    optimizer=optimizer,\n",
    "    epochs=10,\n",
    "    device=DEVICE\n",
    ")\n",
    "\n",
    "predict(model=cnn, test_dataloader=test_dataloader, device=DEVICE)"
   ]
  },
  {
   "cell_type": "markdown",
   "metadata": {},
   "source": [
    "The above failed! Why? Make modifications to the model and perform the same training loop."
   ]
  },
  {
   "cell_type": "code",
   "execution_count": 11,
   "metadata": {},
   "outputs": [
    {
     "name": "stdout",
     "output_type": "stream",
     "text": [
      "Epoch 0: Loss=2.236043555395944\n",
      "Epoch 1: Loss=2.123767901440056\n",
      "Epoch 2: Loss=2.00022139354628\n",
      "Epoch 3: Loss=1.92256291301883\n",
      "Epoch 4: Loss=1.841679531700757\n",
      "Epoch 5: Loss=1.7267791932942915\n",
      "Epoch 6: Loss=1.6641074370364755\n",
      "Epoch 7: Loss=1.615259282442988\n",
      "Epoch 8: Loss=1.5763658017528301\n",
      "Epoch 9: Loss=1.5407379014151437\n",
      "Test set: Avg. loss: 1.5569, Accuracy: 4450/10000 (44%)\n"
     ]
    },
    {
     "data": {
      "text/plain": [
       "(1.55694384765625, tensor(44.5000, device='cuda:0'))"
      ]
     },
     "execution_count": 11,
     "metadata": {},
     "output_type": "execute_result"
    }
   ],
   "source": [
    "class CifarCNN(nn.Module): \n",
    "    def __init__(self):\n",
    "        super().__init__()\n",
    "\n",
    "        # We use a Sequential, i.e. the inputs passes through each of\n",
    "        # the modules below, one-by-one\n",
    "        self.conv = nn.Sequential(         \n",
    "            nn.Conv2d(\n",
    "                in_channels=3,              \n",
    "                out_channels=16,            \n",
    "                kernel_size=3,              \n",
    "                stride=1,                   \n",
    "                padding=1,                  \n",
    "            ),                              \n",
    "            nn.ReLU(),                      \n",
    "            nn.MaxPool2d(kernel_size=2), \n",
    "            nn.Conv2d(\n",
    "                in_channels=16, \n",
    "                out_channels=32, \n",
    "                kernel_size=3, \n",
    "                stride=1, \n",
    "                padding=1),     \n",
    "            nn.ReLU(),                      \n",
    "            nn.MaxPool2d(2),    \n",
    "        )\n",
    "              \n",
    "        # fully connected layer, output 10 classes   \n",
    "        self.out = nn.Linear(2048, 10)    \n",
    "        \n",
    "    def forward(self, x):\n",
    "        x = self.conv(x)\n",
    "        x = x.view(x.size(0), -1) \n",
    "        x = self.out(x)\n",
    "        return x   \n",
    "\n",
    "cnn_cifar = CifarCNN().to(DEVICE)\n",
    "\n",
    "# define the optimizer\n",
    "optimizer = torch.optim.SGD(cnn_cifar.parameters(), lr=0.1)\n",
    "\n",
    "\n",
    "# train the CNN\n",
    "losses = fit(\n",
    "    model=cnn_cifar, \n",
    "    train_dataloader=train_dataloader,\n",
    "    optimizer=optimizer,\n",
    "    epochs=10,\n",
    "    device=DEVICE\n",
    ")\n",
    "\n",
    "predict(model=cnn_cifar, test_dataloader=test_dataloader, device=DEVICE)"
   ]
  },
  {
   "cell_type": "markdown",
   "metadata": {},
   "source": [
    "**Takeaways**: CIfar10 is a more complex dataset than MNIST; the images are larger and RGB, the model is larger and a simple training scheme returns very bad results! How can we change this?"
   ]
  },
  {
   "cell_type": "markdown",
   "metadata": {},
   "source": [
    "## Validation set\n",
    "\n",
    "Before looking into tips and tricks for boosting the performance of a model, we need to establish a proper evaluation protocol. This is where the validation set comes in. \n",
    "\n",
    "In the real world, we do not have access to the test set, e.g., customer churning or self-driving cars. But, still, we need to evaluate the performance of our models on *unseen data*. The most common way is to split the training set into training+validation."
   ]
  },
  {
   "cell_type": "code",
   "execution_count": 12,
   "metadata": {},
   "outputs": [
    {
     "name": "stdout",
     "output_type": "stream",
     "text": [
      "Dataset MNIST\n",
      "    Number of datapoints: 60000\n",
      "    Root location: ./data/\n",
      "    Split: Train\n",
      "    StandardTransform\n",
      "Transform: ToTensor()\n",
      "The training set has 60000 samples.\n",
      "<torch.utils.data.dataset.Subset object at 0x7fd30deacb20>\n"
     ]
    }
   ],
   "source": [
    "# load the train dataset\n",
    "train_dataset = torchvision.datasets.MNIST(\n",
    "    root='./data/', \n",
    "    train=True, \n",
    "    download=True,\n",
    "    transform=transform)\n",
    "\n",
    "# load the test dataset\n",
    "test_dataset = torchvision.datasets.MNIST(\n",
    "    root='./data/', \n",
    "    train=False, \n",
    "    download=True,\n",
    "    transform=transform)\n",
    "\n",
    "print(train_dataset)\n",
    "\n",
    "# Split the training set into training + validation. \n",
    "# How many samples does the training set have?\n",
    "print(f\"The training set has {len(train_dataset)} samples.\")\n",
    "\n",
    "# Split the dataset into ?????-10k samples for training-validation.\n",
    "from torch.utils.data import random_split\n",
    "train_dataset,  valid_dataset = random_split(\n",
    "    train_dataset, \n",
    "    lengths=[50000, 10000], \n",
    "    generator=torch.Generator().manual_seed(42) #use a generator to insure reproducibilty\n",
    ")\n",
    "\n",
    "# what is the type of the \"new\" training dataset?\n",
    "print(train_dataset)"
   ]
  },
  {
   "cell_type": "code",
   "execution_count": 13,
   "metadata": {},
   "outputs": [],
   "source": [
    "train_dataloader = DataLoader(\n",
    "    dataset=train_dataset, \n",
    "    batch_size=BATCH_SIZE,\n",
    "    shuffle=True, \n",
    "    num_workers=2)\n",
    "\n",
    "valid_dataloader = DataLoader(\n",
    "    dataset=valid_dataset, \n",
    "    batch_size=TEST_BATCH_SIZE,\n",
    "    shuffle=False, \n",
    "    num_workers=2)\n",
    "\n",
    "test_dataloader = DataLoader(\n",
    "    dataset=test_dataset, \n",
    "    batch_size=TEST_BATCH_SIZE,\n",
    "    shuffle=False, \n",
    "    num_workers=2)"
   ]
  },
  {
   "cell_type": "markdown",
   "metadata": {},
   "source": [
    "Modify the fit function to also use a validation set"
   ]
  },
  {
   "cell_type": "code",
   "execution_count": 14,
   "metadata": {},
   "outputs": [],
   "source": [
    "from typing import Optional\n",
    "\n",
    "def fit(\n",
    "    model: nn.Module, \n",
    "    train_dataloader: DataLoader, \n",
    "    optimizer: torch.optim.Optimizer, \n",
    "    epochs: int, \n",
    "    device: torch.device,\n",
    "    valid_dataloader: Optional[DataLoader]=None):\n",
    "    '''\n",
    "    the fit method simply calls the train_epoch() method for a \n",
    "    specified number of epochs.\n",
    "    '''\n",
    "\n",
    "    # keep track of the losses in order to visualize them later\n",
    "    # Train for numerous epochs:\n",
    "    train_losses = []\n",
    "    valid_losses = []\n",
    "    valid_accs = []\n",
    "    for epoch in range(epochs):\n",
    "        train_loss = train_epoch(\n",
    "            model=model, \n",
    "            train_dataloader=train_dataloader, \n",
    "            optimizer=optimizer, \n",
    "            device=device\n",
    "        )\n",
    "        train_losses.append(train_loss)\n",
    "\n",
    "        if valid_dataloader is not None:\n",
    "            valid_loss, valid_acc = predict(model, valid_dataloader, device, verbose=False)\n",
    "            valid_losses.append(valid_loss)\n",
    "            valid_accs.append(valid_acc)\n",
    "\n",
    "        if valid_dataloader is None:\n",
    "            print(f\"Epoch {epoch}: Train Loss={train_loss:.4f}\")\n",
    "        else:\n",
    "            print(f\"Epoch {epoch}: Train Loss={train_loss:.4f}, Validation Loss={valid_loss:.4f}, Validation acc={valid_acc:.4f}\")\n",
    "\n",
    "    return train_losses, valid_losses, valid_accs"
   ]
  },
  {
   "cell_type": "code",
   "execution_count": 15,
   "metadata": {},
   "outputs": [
    {
     "name": "stdout",
     "output_type": "stream",
     "text": [
      "Epoch 0: Train Loss=1.6152, Validation Loss=0.8601, Validation acc=71.2300\n",
      "Epoch 1: Train Loss=0.5424, Validation Loss=0.4212, Validation acc=86.9500\n",
      "Epoch 2: Train Loss=0.3194, Validation Loss=0.2713, Validation acc=92.0300\n",
      "Epoch 3: Train Loss=0.2408, Validation Loss=0.2229, Validation acc=93.5900\n",
      "Epoch 4: Train Loss=0.1993, Validation Loss=0.1935, Validation acc=94.4300\n",
      "Epoch 5: Train Loss=0.1707, Validation Loss=0.1684, Validation acc=95.1600\n",
      "Epoch 6: Train Loss=0.1516, Validation Loss=0.1515, Validation acc=95.6800\n",
      "Epoch 7: Train Loss=0.1365, Validation Loss=0.1358, Validation acc=95.9400\n",
      "Epoch 8: Train Loss=0.1227, Validation Loss=0.1285, Validation acc=96.1200\n",
      "Epoch 9: Train Loss=0.1149, Validation Loss=0.1225, Validation acc=96.5000\n",
      "Test set: Avg. loss: 0.1039, Accuracy: 9686/10000 (97%)\n"
     ]
    },
    {
     "data": {
      "text/plain": [
       "(0.10386053390502929, tensor(96.8600, device='cuda:0'))"
      ]
     },
     "execution_count": 15,
     "metadata": {},
     "output_type": "execute_result"
    }
   ],
   "source": [
    "cnn = CNN().to(DEVICE)\n",
    "\n",
    "# define the optimizer\n",
    "optimizer = torch.optim.SGD(cnn.parameters(), lr=0.1)\n",
    "\n",
    "train_losses, valid_losses, valid_accs = fit(\n",
    "    model=cnn, \n",
    "    train_dataloader=train_dataloader,\n",
    "    valid_dataloader=valid_dataloader,\n",
    "    optimizer=optimizer,\n",
    "    epochs=10,\n",
    "    device=DEVICE\n",
    ")\n",
    "\n",
    "predict(model=cnn, test_dataloader=test_dataloader, device=DEVICE)"
   ]
  },
  {
   "cell_type": "markdown",
   "metadata": {},
   "source": [
    "## Importance of optimizer and learning rate\n",
    "\n",
    "So far in this lab, we have used the same learning rate and optimizer (vanilla SGD). However, the choice of optimizer and the corresponding hyperparameters play a crucial role in the end performance."
   ]
  },
  {
   "cell_type": "markdown",
   "metadata": {},
   "source": [
    "Explore the exact same experiment as before BUT change the learning rate to $0.001$. How does this change affect performance?"
   ]
  },
  {
   "cell_type": "code",
   "execution_count": 16,
   "metadata": {},
   "outputs": [
    {
     "name": "stdout",
     "output_type": "stream",
     "text": [
      "Epoch 0: Train Loss=2.2937, Validation Loss=2.2909, Validation acc=11.0300\n",
      "Epoch 1: Train Loss=2.2890, Validation Loss=2.2863, Validation acc=14.3700\n",
      "Epoch 2: Train Loss=2.2844, Validation Loss=2.2816, Validation acc=18.4100\n",
      "Epoch 3: Train Loss=2.2797, Validation Loss=2.2769, Validation acc=21.8500\n",
      "Epoch 4: Train Loss=2.2750, Validation Loss=2.2720, Validation acc=24.5500\n",
      "Epoch 5: Train Loss=2.2701, Validation Loss=2.2670, Validation acc=26.9500\n",
      "Epoch 6: Train Loss=2.2651, Validation Loss=2.2619, Validation acc=29.4500\n",
      "Epoch 7: Train Loss=2.2599, Validation Loss=2.2565, Validation acc=32.7700\n",
      "Epoch 8: Train Loss=2.2544, Validation Loss=2.2508, Validation acc=36.8000\n",
      "Epoch 9: Train Loss=2.2486, Validation Loss=2.2449, Validation acc=40.8300\n",
      "Test set: Avg. loss: 2.2450, Accuracy: 3983/10000 (40%)\n"
     ]
    },
    {
     "data": {
      "text/plain": [
       "Text(0, 0.5, 'Train loss')"
      ]
     },
     "execution_count": 16,
     "metadata": {},
     "output_type": "execute_result"
    },
    {
     "data": {
      "image/png": "[encoded data removed]",
      "text/plain": [
       "<Figure size 640x480 with 1 Axes>"
      ]
     },
     "metadata": {},
     "output_type": "display_data"
    }
   ],
   "source": [
    "cnn = CNN().to(DEVICE)\n",
    "\n",
    "optimizer = torch.optim.SGD(cnn.parameters(), lr=0.001)\n",
    "\n",
    "train_losses, valid_losses, valid_accs = fit(\n",
    "    model=cnn, \n",
    "    train_dataloader=train_dataloader,\n",
    "    valid_dataloader=valid_dataloader,\n",
    "    optimizer=optimizer,\n",
    "    epochs=10,\n",
    "    device=DEVICE\n",
    ")\n",
    "\n",
    "predict(model=cnn, test_dataloader=test_dataloader, device=DEVICE)\n",
    "\n",
    "plt.plot(train_losses, \"-o\")\n",
    "plt.xlabel(\"Epoch\")\n",
    "plt.ylabel(\"Train loss\")"
   ]
  },
  {
   "cell_type": "markdown",
   "metadata": {
    "id": "AE-bh1Sox_Ve"
   },
   "source": [
    "In this lab we have used (mini-batch) Stochastic Gradient Descent or simply SGD. For simplicity we consider the case for only one sample. The update rule is the following:\n",
    "\n",
    "$$\n",
    "\\mathbf{w}^{(\\tau+1)} \\gets \\mathbf{w}^{(\\tau)} - \\eta\\nabla \\mathcal{L}\\left(\\mathbf{x}, y;\\mathbf{w}^{(\\tau)}\\right)\n",
    "$$\n",
    "\n",
    "How can we improve our algorithm and encourage faster convergence? Momentum can actually help. The idea is simple: we will use the update made on the previous step and incorporate it to our current update, giving momentum to our algorithm. The actual update rule is the following:\n",
    "\n",
    "$$\n",
    "\\begin{align}\n",
    "\\mathbf{v}^{(\\tau+1)} &\\gets \\gamma\\mathbf{v}^{(\\tau)} + \\nabla \\mathcal{L}\\left(\\mathbf{x}, y;\\mathbf{w}^{(\\tau)}\\right)\n",
    "\\\\\n",
    "\\mathbf{w}^{(\\tau+1)} &\\gets \\mathbf{w}^{(\\tau)} - \\eta \\mathbf{v}^{(\\tau)}\n",
    "\\end{align}\n",
    "$$\n",
    "\n",
    "Apart from making convergence faster, momentum has other benefits:\n",
    "* dampens oscillations \n",
    "* helps us navigate ravines around local optima [1]\n",
    "\n",
    "If you are more interested in the various optimizers take a look at reference [1].\n",
    "\n",
    "----\n",
    "[1] Ruder, S., 2016. An overview of gradient descent optimization algorithms. arXiv preprint arXiv:1609.04747.\n",
    "\n"
   ]
  },
  {
   "cell_type": "code",
   "execution_count": 17,
   "metadata": {},
   "outputs": [
    {
     "name": "stdout",
     "output_type": "stream",
     "text": [
      "Epoch 0: Train Loss=2.2957, Validation Loss=2.2779, Validation acc=24.5400\n",
      "Epoch 1: Train Loss=2.2589, Validation Loss=2.2333, Validation acc=48.3800\n",
      "Epoch 2: Train Loss=2.1983, Validation Loss=2.1491, Validation acc=62.8300\n",
      "Epoch 3: Train Loss=2.0707, Validation Loss=1.9573, Validation acc=70.1000\n",
      "Epoch 4: Train Loss=1.7651, Validation Loss=1.5069, Validation acc=74.9300\n",
      "Epoch 5: Train Loss=1.2087, Validation Loss=0.9337, Validation acc=79.2600\n",
      "Epoch 6: Train Loss=0.7738, Validation Loss=0.6616, Validation acc=82.4800\n",
      "Epoch 7: Train Loss=0.5893, Validation Loss=0.5450, Validation acc=85.0500\n",
      "Epoch 8: Train Loss=0.5015, Validation Loss=0.4826, Validation acc=86.4000\n",
      "Epoch 9: Train Loss=0.4515, Validation Loss=0.4429, Validation acc=87.3100\n",
      "Test set: Avg. loss: 0.4176, Accuracy: 8838/10000 (88%)\n"
     ]
    },
    {
     "data": {
      "text/plain": [
       "Text(0, 0.5, 'Train loss')"
      ]
     },
     "execution_count": 17,
     "metadata": {},
     "output_type": "execute_result"
    },
    {
     "data": {
      "image/png": "[encoded data removed]",
      "text/plain": [
       "<Figure size 640x480 with 1 Axes>"
      ]
     },
     "metadata": {},
     "output_type": "display_data"
    }
   ],
   "source": [
    "cnn = CNN().to(DEVICE)\n",
    "\n",
    "optimizer = torch.optim.SGD(cnn.parameters(), lr=0.001, momentum=0.9)\n",
    "\n",
    "train_losses, valid_losses, valid_accs = fit(\n",
    "    model=cnn, \n",
    "    train_dataloader=train_dataloader,\n",
    "    valid_dataloader=valid_dataloader,\n",
    "    optimizer=optimizer,\n",
    "    epochs=10,\n",
    "    device=DEVICE\n",
    ")\n",
    "\n",
    "predict(model=cnn, test_dataloader=test_dataloader, device=DEVICE)\n",
    "\n",
    "plt.plot(train_losses, \"-o\")\n",
    "plt.xlabel(\"Epoch\")\n",
    "plt.ylabel(\"Train loss\")"
   ]
  },
  {
   "cell_type": "code",
   "execution_count": null,
   "metadata": {},
   "outputs": [],
   "source": []
  },
  {
   "cell_type": "markdown",
   "metadata": {},
   "source": [
    "## Hyperparameters: Learning rate and batch size\n",
    "\n",
    "While intution can help us select the settings of an experiment, the choice becomes complicated when more and more hyperparameters need to be taken account. Just to name a few, we might want to select learning rate, momentum or optimizer, batch size, number of layers, width of layers etc\n",
    "\n",
    "Hence, we need a systematic way to approach this problem. The most simple way is to perfrom a grid search; define a list of choices for each hyperparameter and search over all combinations."
   ]
  },
  {
   "cell_type": "code",
   "execution_count": 18,
   "metadata": {},
   "outputs": [
    {
     "name": "stdout",
     "output_type": "stream",
     "text": [
      "Epoch 0: Train Loss=2.2557, Validation Loss=2.1517, Validation acc=57.3000\n",
      "Epoch 1: Train Loss=1.4546, Validation Loss=0.7003, Validation acc=79.4700\n",
      "Epoch 2: Train Loss=0.5120, Validation Loss=0.4277, Validation acc=87.7700\n",
      "Epoch 3: Train Loss=0.3862, Validation Loss=0.3904, Validation acc=88.2100\n",
      "Epoch 4: Train Loss=0.3368, Validation Loss=0.3641, Validation acc=89.2300\n",
      "Epoch 5: Train Loss=0.3086, Validation Loss=0.3335, Validation acc=89.7700\n",
      "Epoch 6: Train Loss=0.2839, Validation Loss=0.3126, Validation acc=90.4400\n",
      "Epoch 7: Train Loss=0.2625, Validation Loss=0.3006, Validation acc=90.3900\n",
      "Epoch 8: Train Loss=0.2447, Validation Loss=0.2616, Validation acc=91.9200\n",
      "Epoch 9: Train Loss=0.2288, Validation Loss=0.2548, Validation acc=92.4900\n",
      "%%%%%%%%%%%%%%%%%%%%%%%%%%%%%%%%%%%%%%%%%%%%%%%%%%%%%%%%%%%%%%%%%%%%%%%%%%%%%%%%%%%%%%%%%%%%%%%%%%%%\n",
      "Trial 0[lr=0.01, bs=256]: Validation accuracy = 92.4900\n",
      "%%%%%%%%%%%%%%%%%%%%%%%%%%%%%%%%%%%%%%%%%%%%%%%%%%%%%%%%%%%%%%%%%%%%%%%%%%%%%%%%%%%%%%%%%%%%%%%%%%%%\n",
      "Epoch 0: Train Loss=2.1488, Validation Loss=1.8604, Validation acc=67.7800\n",
      "Epoch 1: Train Loss=1.2437, Validation Loss=0.7606, Validation acc=81.1900\n",
      "Epoch 2: Train Loss=0.6009, Validation Loss=0.5098, Validation acc=85.6000\n",
      "Epoch 3: Train Loss=0.4577, Validation Loss=0.4452, Validation acc=87.0200\n",
      "Epoch 4: Train Loss=0.4011, Validation Loss=0.3873, Validation acc=88.8800\n",
      "Epoch 5: Train Loss=0.3673, Validation Loss=0.3646, Validation acc=89.4400\n",
      "Epoch 6: Train Loss=0.3466, Validation Loss=0.3429, Validation acc=90.1300\n",
      "Epoch 7: Train Loss=0.3269, Validation Loss=0.3347, Validation acc=90.3900\n",
      "Epoch 8: Train Loss=0.3131, Validation Loss=0.3110, Validation acc=91.0000\n",
      "Epoch 9: Train Loss=0.2992, Validation Loss=0.3130, Validation acc=90.4600\n",
      "%%%%%%%%%%%%%%%%%%%%%%%%%%%%%%%%%%%%%%%%%%%%%%%%%%%%%%%%%%%%%%%%%%%%%%%%%%%%%%%%%%%%%%%%%%%%%%%%%%%%\n",
      "Trial 1[lr=0.01, bs=512]: Validation accuracy = 90.4600\n",
      "%%%%%%%%%%%%%%%%%%%%%%%%%%%%%%%%%%%%%%%%%%%%%%%%%%%%%%%%%%%%%%%%%%%%%%%%%%%%%%%%%%%%%%%%%%%%%%%%%%%%\n",
      "Epoch 0: Train Loss=0.6516, Validation Loss=0.2370, Validation acc=93.2800\n",
      "Epoch 1: Train Loss=0.1539, Validation Loss=0.1449, Validation acc=95.5700\n",
      "Epoch 2: Train Loss=0.1097, Validation Loss=0.1005, Validation acc=97.0600\n",
      "Epoch 3: Train Loss=0.0886, Validation Loss=0.1000, Validation acc=96.8400\n",
      "Epoch 4: Train Loss=0.0776, Validation Loss=0.0964, Validation acc=97.1000\n",
      "Epoch 5: Train Loss=0.0688, Validation Loss=0.0928, Validation acc=97.2900\n",
      "Epoch 6: Train Loss=0.0636, Validation Loss=0.0769, Validation acc=97.8700\n",
      "Epoch 7: Train Loss=0.0576, Validation Loss=0.0727, Validation acc=97.9100\n",
      "Epoch 8: Train Loss=0.0542, Validation Loss=0.0635, Validation acc=98.1900\n",
      "Epoch 9: Train Loss=0.0514, Validation Loss=0.0636, Validation acc=98.1600\n",
      "%%%%%%%%%%%%%%%%%%%%%%%%%%%%%%%%%%%%%%%%%%%%%%%%%%%%%%%%%%%%%%%%%%%%%%%%%%%%%%%%%%%%%%%%%%%%%%%%%%%%\n",
      "Trial 2[lr=0.1, bs=256]: Validation accuracy = 98.1600\n",
      "%%%%%%%%%%%%%%%%%%%%%%%%%%%%%%%%%%%%%%%%%%%%%%%%%%%%%%%%%%%%%%%%%%%%%%%%%%%%%%%%%%%%%%%%%%%%%%%%%%%%\n",
      "Epoch 0: Train Loss=1.1282, Validation Loss=0.3807, Validation acc=88.2500\n",
      "Epoch 1: Train Loss=0.2631, Validation Loss=0.2350, Validation acc=92.9500\n",
      "Epoch 2: Train Loss=0.1873, Validation Loss=0.1712, Validation acc=95.0400\n",
      "Epoch 3: Train Loss=0.1446, Validation Loss=0.1420, Validation acc=95.8600\n",
      "Epoch 4: Train Loss=0.1226, Validation Loss=0.1200, Validation acc=96.2300\n",
      "Epoch 5: Train Loss=0.1089, Validation Loss=0.1076, Validation acc=96.8200\n",
      "Epoch 6: Train Loss=0.0964, Validation Loss=0.1008, Validation acc=97.1900\n",
      "Epoch 7: Train Loss=0.0881, Validation Loss=0.0984, Validation acc=97.0600\n",
      "Epoch 8: Train Loss=0.0827, Validation Loss=0.0868, Validation acc=97.2700\n",
      "Epoch 9: Train Loss=0.0768, Validation Loss=0.0816, Validation acc=97.5400\n",
      "%%%%%%%%%%%%%%%%%%%%%%%%%%%%%%%%%%%%%%%%%%%%%%%%%%%%%%%%%%%%%%%%%%%%%%%%%%%%%%%%%%%%%%%%%%%%%%%%%%%%\n",
      "Trial 3[lr=0.1, bs=512]: Validation accuracy = 97.5400\n",
      "%%%%%%%%%%%%%%%%%%%%%%%%%%%%%%%%%%%%%%%%%%%%%%%%%%%%%%%%%%%%%%%%%%%%%%%%%%%%%%%%%%%%%%%%%%%%%%%%%%%%\n"
     ]
    }
   ],
   "source": [
    "# Perform a grid search over 2 values of learning rate and 2 values of Batch size.\n",
    "\n",
    "from itertools import product\n",
    "\n",
    "LR_GRID = [0.01, 0.1]\n",
    "BS_GRID = [256, 512]\n",
    "\n",
    "\n",
    "grid = list(product(LR_GRID, BS_GRID))\n",
    "\n",
    "models = {}\n",
    "for index, (lr, bs) in enumerate(grid):\n",
    "\n",
    "    train_dataloader = DataLoader(\n",
    "        dataset=train_dataset, \n",
    "        batch_size=bs,\n",
    "        shuffle=True, \n",
    "        num_workers=2)\n",
    "\n",
    "    cnn = CNN().to(DEVICE)\n",
    "\n",
    "    optimizer = torch.optim.SGD(cnn.parameters(), lr=lr)\n",
    "\n",
    "    train_losses, valid_losses, valid_accs = fit(\n",
    "        model=cnn, \n",
    "        train_dataloader=train_dataloader,\n",
    "        valid_dataloader=valid_dataloader,\n",
    "        optimizer=optimizer,\n",
    "        epochs=10,\n",
    "        device=DEVICE\n",
    "    )\n",
    "\n",
    "    print(f\"%\"*100)\n",
    "    print(f\"Trial {index}[lr={lr}, bs={bs}]: Validation accuracy = {valid_accs[-1]:.4f}\")\n",
    "    print(f\"%\"*100)\n",
    "\n",
    "    models[index] = cnn"
   ]
  },
  {
   "cell_type": "code",
   "execution_count": 19,
   "metadata": {},
   "outputs": [
    {
     "name": "stdout",
     "output_type": "stream",
     "text": [
      "Test set: Avg. loss: 0.0671, Accuracy: 9800/10000 (98%)\n"
     ]
    },
    {
     "data": {
      "text/plain": [
       "(0.06706104888916016, tensor(98., device='cuda:0'))"
      ]
     },
     "execution_count": 19,
     "metadata": {},
     "output_type": "execute_result"
    }
   ],
   "source": [
    "# Evaluate the performance on the test set with the best model!\n",
    "predict(model=models[3], test_dataloader=test_dataloader, device=DEVICE)\n"
   ]
  }
 ],
 "metadata": {
  "kernelspec": {
   "display_name": "Python 3.9.12 64-bit",
   "language": "python",
   "name": "python3"
  },
  "language_info": {
   "codemirror_mode": {
    "name": "ipython",
    "version": 3
   },
   "file_extension": ".py",
   "mimetype": "text/x-python",
   "name": "python",
   "nbconvert_exporter": "python",
   "pygments_lexer": "ipython3",
   "version": "3.9.12"
  },
  "orig_nbformat": 4,
  "vscode": {
   "interpreter": {
    "hash": "03a8ff65f077f05ff345d067c3fc612a41150fb0cbc9d89e43af938917f7b052"
   }
  }
 },
 "nbformat": 4,
 "nbformat_minor": 2
}
