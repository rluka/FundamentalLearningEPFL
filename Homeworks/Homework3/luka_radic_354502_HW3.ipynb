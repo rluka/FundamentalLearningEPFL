{
  "cells": [
    {
      "cell_type": "markdown",
      "metadata": {
        "id": "rdbLD14fsnFc",
        "tags": []
      },
      "source": [
        "# Homework 3 - Luka Radić\n",
        "## SCIPER: 354502"
      ]
    },
    {
      "cell_type": "markdown",
      "metadata": {
        "id": "25eNQUQEtRY9",
        "tags": []
      },
      "source": [
        "## Import the libraries needed"
      ]
    },
    {
      "cell_type": "code",
      "execution_count": 1,
      "metadata": {
        "id": "f31vHJl-tTvg"
      },
      "outputs": [],
      "source": [
        "import numpy as np\n",
        "import torch\n",
        "import torch.nn as nn\n",
        "import torch.nn.functional as F\n",
        "import torch.optim as optim\n",
        "import torchvision\n",
        "import torchvision.transforms as T\n",
        "import matplotlib.pyplot as plt\n",
        "from torch.utils.data import Dataset, DataLoader, Subset, random_split\n",
        "from typing import Optional"
      ]
    },
    {
      "cell_type": "markdown",
      "metadata": {
        "id": "nin18ZUfttp0",
        "jp-MarkdownHeadingCollapsed": true,
        "tags": []
      },
      "source": [
        "## Exercise 1: Backpropagation with logistic loss"
      ]
    },
    {
      "cell_type": "markdown",
      "source": [
        "We first define the `sigmoid` and `grad_sigmoid` functions that we will use throughout the exercise."
      ],
      "metadata": {
        "id": "lcm3CvfoVPDn"
      }
    },
    {
      "cell_type": "code",
      "execution_count": 2,
      "metadata": {
        "id": "46G2sLaquudg"
      },
      "outputs": [],
      "source": [
        "# Defining the constants used throughout the exercise\n",
        "D = 5\n",
        "K = 6\n",
        "\n",
        "def sigmoid(x):\n",
        "    return 1.0 / (1 + np.exp(-x))\n",
        "\n",
        "def grad_sigmoid(x):\n",
        "    return sigmoid(x) * (1 - sigmoid(x))"
      ]
    },
    {
      "cell_type": "markdown",
      "metadata": {
        "id": "co24-RInH7lS"
      },
      "source": [
        "### Task 1: `predict` function"
      ]
    },
    {
      "cell_type": "markdown",
      "source": [
        "The `predict` function takes a batch of samples and the weights between input and hidden layers, as well as hidden and output layers, and returns a prediction in the interval $[0,1]$."
      ],
      "metadata": {
        "id": "eer3tuz4WkDy"
      }
    },
    {
      "cell_type": "code",
      "execution_count": 3,
      "metadata": {
        "id": "A7qgZ-6itzz1"
      },
      "outputs": [],
      "source": [
        "def predict(X,W):\n",
        "    X_0 = X\n",
        "\n",
        "    W_1 = W[\"w_1\"]\n",
        "    w_2 = W[\"w_2\"]\n",
        "\n",
        "    Z_1 = X_0 @ W_1\n",
        "    X_1 = sigmoid(Z_1)\n",
        "    z_2 = X_1 @ w_2\n",
        "    y_hat = sigmoid(z_2)\n",
        "\n",
        "    return Z_1, z_2, y_hat"
      ]
    },
    {
      "cell_type": "markdown",
      "metadata": {
        "id": "3Dpb43naH7lS"
      },
      "source": [
        "### Task 2: `logistic_loss` function"
      ]
    },
    {
      "cell_type": "code",
      "execution_count": 4,
      "metadata": {
        "id": "DsmnOacmH7lT"
      },
      "outputs": [],
      "source": [
        "def logistic_loss(y, y_hat):\n",
        "    eps = 1e-12\n",
        "    log_loss = -y.dot(np.log(y_hat+eps)) - (1-y).dot(np.log(1-y_hat+eps))\n",
        "    return np.mean( log_loss )"
      ]
    },
    {
      "cell_type": "code",
      "execution_count": 5,
      "metadata": {
        "colab": {
          "base_uri": "https://localhost:8080/"
        },
        "id": "_-nPJxUJH7lT",
        "outputId": "e9e0b536-5c6d-4ae3-ad57-1bef8a4c4bdd"
      },
      "outputs": [
        {
          "output_type": "stream",
          "name": "stdout",
          "text": [
            "The average log-loss of the batch is -5.000444502909205e-12\n"
          ]
        }
      ],
      "source": [
        "B = 5 # esentially it can be anything, the result does not depend on it\n",
        "y = np.zeros(B)\n",
        "y_hat = np.zeros(B)\n",
        "log_loss = logistic_loss(y, y_hat)\n",
        "print(\"The average log-loss of the batch is {}\".format(log_loss))"
      ]
    },
    {
      "cell_type": "markdown",
      "source": [],
      "metadata": {
        "id": "9ZLWJgOVdsv9"
      }
    },
    {
      "cell_type": "markdown",
      "metadata": {
        "id": "Y-61MxHJH7lT"
      },
      "source": [
        "### Task 3: `stable_logistic_loss` function"
      ]
    },
    {
      "cell_type": "code",
      "execution_count": 6,
      "metadata": {
        "id": "imGUrtChH7lU"
      },
      "outputs": [],
      "source": [
        "def stable_logistic_loss(y, z_2):\n",
        "    log_loss = y.dot(np.logaddexp(0,-z_2)) + (1-y).dot(np.logaddexp(0,z_2))\n",
        "    return np.mean( log_loss )"
      ]
    },
    {
      "cell_type": "code",
      "execution_count": 7,
      "metadata": {
        "colab": {
          "base_uri": "https://localhost:8080/"
        },
        "id": "C-6zj2bHH7lU",
        "outputId": "99aa0bbf-6fc0-4fe0-a325-b5cb592a085b"
      },
      "outputs": [
        {
          "output_type": "stream",
          "name": "stdout",
          "text": [
            "The average stable-log-loss of the batch is 0.0\n"
          ]
        }
      ],
      "source": [
        "B = 5 # esentially it can be anything, the result does not depend on it\n",
        "y = np.zeros(B)\n",
        "z_2 = -1e10 * np.ones(B)\n",
        "stable_log_loss = stable_logistic_loss(y, z_2)\n",
        "print(\"The average stable-log-loss of the batch is {}\".format(stable_log_loss))"
      ]
    },
    {
      "cell_type": "markdown",
      "metadata": {
        "tags": [],
        "id": "MIfsfjpwH7lV"
      },
      "source": [
        "### Task 4: Analytical backpropagation"
      ]
    },
    {
      "cell_type": "markdown",
      "metadata": {
        "id": "p4npSqWEH7lV"
      },
      "source": [
        "Let us denote with:\n",
        "- $x_i^{(0)}$ the $i$-th component of the input vector\n",
        "- $w_{ij}^{(1)}$ the weight of the edge connecting $x_i^{(0)}$ and the $j$-th node in the hidden layer $z_j^{(1)}$\n",
        "- $w_j^{(2)}$ the weight of the edge connecting $z_j^{(1)}$ and the output node $z^{(2)}$\n",
        "- $\\hat{y}$ the final prediction\n",
        "\n",
        "where $i=\\overline{1,D},\\; j=\\overline{1,K}$. Note that the inputs of activation functions for each node in the NN can be calculated as:\n",
        "$$\n",
        "z_j^{(1)} = \\sum_{i=1}^D \\; w_{ij}^{(1)} x_i^{(0)}, \\quad z^{(2)} = \\sum_{j=1}^K \\; w_j^{(2)} \\sigma\\left(z_j^{(1)}\\right)\n",
        "$$\n",
        "We use the stable implementation of logistic loss:\n",
        "$$\n",
        "\\mathcal{L}(x,y,w) = y \\log\\left( 1 + e^{-z^{(2)}} \\right) + (1-y) \\log\\left( 1 + e^{z^{(2)}} \\right)\n",
        "$$\n",
        "\n",
        "We first find the partial derivatives of *hidden-output* weights:\n",
        "$$\n",
        "\\begin{align*}\n",
        "    \\frac{\\partial \\mathcal{L}(x,y,w)}{\\partial w_j^{(2)}} &= - y \\frac{e^{-z^{(2)}}}{1 + e^{-z^{(2)}}} \\frac{\\partial z^{(2)}}{\\partial w_j^{(2)}} + (1-y) \\frac{e^{z^{(2)}}}{1 + e^{z^{(2)}}} \\frac{\\partial z^{(2)}}{\\partial w_j^{(2)}} \\\\\n",
        "    &= \\left[ - y \\frac{e^{-z^{(2)}}}{1 + e^{-z^{(2)}}} + (1-y) \\frac{e^{z^{(2)}}}{1 + e^{z^{(2)}}} \\right] \\; \\sigma\\left(z_j^{(1)}\\right)\n",
        "\\end{align*}\n",
        "$$\n",
        "\n",
        "Now we find the partial derivatives of *input-hidden* weights. For that purpose, it is useful to rewrite $z^{(2)}$ as:\n",
        "$$\n",
        "z^{(2)} = \\sum_{j=1}^K \\; w_j^{(2)} \\sigma\\left(z_j^{(1)}\\right) = \\sum_{j=1}^K \\; w_j^{(2)} \\sigma\\left(\\sum_{i=1}^D \\; w_{ij}^{(1)} x_i^{(0)}\\right)\n",
        "$$\n",
        "\n",
        "$$\n",
        "\\begin{align*}\n",
        "    \\frac{\\partial \\mathcal{L}(x,y,w)}{\\partial w_{ij}^{(1)}} &= \\left[ - y \\frac{e^{-z^{(2)}}}{1 + e^{-z^{(2)}}} + (1-y) \\frac{e^{z^{(2)}}}{1 + e^{z^{(2)}}} \\right] \\frac{\\partial z^{(2)}}{\\partial w_{ij}^{(1)}} \\\\\n",
        "    &= \\left[ - y \\frac{e^{-z^{(2)}}}{1 + e^{-z^{(2)}}} + (1-y) \\frac{e^{z^{(2)}}}{1 + e^{z^{(2)}}} \\right] \\; w_j^{(2)} \\sigma'\\left(\\sum_{i=1}^D \\; w_{ij}^{(1)} x_i^{(0)}\\right) x_i^{(0)}\n",
        "\\end{align*}\n",
        "$$\n",
        "\n",
        "Considering that\n",
        "$$\n",
        "\\frac{d\\sigma(x)}{dx} = \\frac{e^{-x}}{(1+e^{-x})^2} = \\frac{1}{1+e^{-x}} \\left(\\frac{1+e^{-x}}{1+e^{-x}}-\\frac{1}{1+e^{-x}}\\right) = \\sigma(x)\\left[1-\\sigma(x)\\right]\n",
        "$$\n",
        "we can finally write the partial derivative as\n",
        "$$\n",
        "    \\frac{\\partial \\mathcal{L}(x,y,w)}{\\partial w_{ij}^{(1)}} = \\left[ - y \\frac{e^{-z^{(2)}}}{1 + e^{-z^{(2)}}} + (1-y) \\frac{e^{z^{(2)}}}{1 + e^{z^{(2)}}} \\right] \\; w_j^{(2)} \\sigma\\left(z_j^{(1)}\\right)\\left[1-\\sigma\\left(z_j^{(1)}\\right)\\right] x_i^{(0)}\n",
        "$$"
      ]
    },
    {
      "cell_type": "markdown",
      "metadata": {
        "id": "MpI77TMEH7lW"
      },
      "source": [
        "### Task 5: `gradient` function"
      ]
    },
    {
      "cell_type": "code",
      "execution_count": 8,
      "metadata": {
        "id": "n1ENPd2MH7lX"
      },
      "outputs": [],
      "source": [
        "def gradient(X, y, W):\n",
        "    B = X.shape[0]\n",
        "    # Feedforward\n",
        "    Z_1, z_2, y_hat = predict(X, W)\n",
        "    X_1 = sigmoid(Z_1)\n",
        "    # Backpropagation\n",
        "    delta_2 = -y * np.exp(-z_2)/(1+np.exp(-z_2)) + (1-y)*np.exp(z_2)/(1+np.exp(z_2))\n",
        "    delta_w_2 = delta_2.reshape(-1,1) * X_1\n",
        "    delta_w_2_mean = np.mean(delta_w_2, axis=0)\n",
        "    delta_1 = delta_2.reshape(-1,1) * grad_sigmoid(Z_1) * W[\"w_2\"]\n",
        "    delta_w_1_mean = 1/B * X.T @ delta_1\n",
        "    \n",
        "    return {\n",
        "        \"w_1\": delta_w_1_mean,\n",
        "        \"w_2\": delta_w_2_mean\n",
        "    }"
      ]
    },
    {
      "cell_type": "code",
      "execution_count": 9,
      "metadata": {
        "id": "6pALT5B3H7lX"
      },
      "outputs": [],
      "source": [
        "X = np.array([[0.3,0.3,0.3,0.3],[0.3,0.3,0.3,0.3],[0.01,0.2,0.01,0.3],[0.3,0.3,0.3,0.3]])\n",
        "W = {\n",
        "    \"w_1\": np.ones((4, 5)),\n",
        "    \"w_2\": np.ones(5)\n",
        "}\n",
        "y = np.ones(4)"
      ]
    },
    {
      "cell_type": "code",
      "execution_count": 10,
      "metadata": {
        "colab": {
          "base_uri": "https://localhost:8080/"
        },
        "id": "1MlYnJljH7lX",
        "outputId": "5da8d73c-abaa-4357-80fc-1b808849dc78"
      },
      "outputs": [
        {
          "output_type": "stream",
          "name": "stdout",
          "text": [
            "[0.97901263 0.97901263 0.9583431  0.97901263]\n",
            "False\n"
          ]
        }
      ],
      "source": [
        "\n",
        "expected = 0.93244675427215695\n",
        "_, _, yours = predict(X, W)\n",
        "print(yours)\n",
        "print(np.sum((yours - expected) ** 2) < 1e-15)"
      ]
    },
    {
      "cell_type": "code",
      "execution_count": 11,
      "metadata": {
        "colab": {
          "base_uri": "https://localhost:8080/"
        },
        "id": "XRGeIW9-H7lY",
        "outputId": "38bd611d-9daa-43b5-ec6e-01c7ab7461e6"
      },
      "outputs": [
        {
          "output_type": "stream",
          "name": "stdout",
          "text": [
            "{'w_1': array([[-0.0008644 , -0.0008644 , -0.0008644 , -0.0008644 , -0.0008644 ],\n",
            "       [-0.00132708, -0.00132708, -0.00132708, -0.00132708, -0.00132708],\n",
            "       [-0.0008644 , -0.0008644 , -0.0008644 , -0.0008644 , -0.0008644 ],\n",
            "       [-0.0015706 , -0.0015706 , -0.0015706 , -0.0015706 , -0.0015706 ]]), 'w_2': array([-0.01862824, -0.01862824, -0.01862824, -0.01862824, -0.01862824])}\n",
            "False\n"
          ]
        }
      ],
      "source": [
        "\n",
        "expected = {\n",
        "    'w_1': np.array([\n",
        "        [ -1.06113639e-05,  -1.06113639e-05,  -1.06113639e-05, -1.06113639e-05,  -1.06113639e-05],\n",
        "        [ -2.12227277e-05,  -2.12227277e-05,  -2.12227277e-05, -2.12227277e-05,  -2.12227277e-05],\n",
        "        [ -3.18340916e-05,  -3.18340916e-05,  -3.18340916e-05, -3.18340916e-05,  -3.18340916e-05],\n",
        "        [ -4.24454555e-05,  -4.24454555e-05,  -4.24454555e-05, -4.24454555e-05,  -4.24454555e-05]]),\n",
        "    'w_2': np.array(\n",
        "        [-0.00223387, -0.00223387, -0.00223387, -0.00223387, -0.00223387])\n",
        "}\n",
        "yours = gradient(X,y,W)\n",
        "print(yours)\n",
        "print( np.sum(\n",
        "    [np.sum((yours[key] - expected[key]) ** 2) for key in expected.keys()]) < 1e-15 )\n"
      ]
    },
    {
      "cell_type": "markdown",
      "metadata": {
        "id": "u30uCZaNH7lY"
      },
      "source": [
        "## Exercise 2: Classifying `FashionMNIST` using neural networks"
      ]
    },
    {
      "cell_type": "markdown",
      "metadata": {
        "id": "5qYdc6tMH7lZ"
      },
      "source": [
        "### Task 1: Loading data"
      ]
    },
    {
      "cell_type": "markdown",
      "source": [
        "We load the train and test datasets. For our new train and validation sets, we take random subsets of the original training set, 50000 and 10000 images each. Since the images are in the PIL format, we need to convert them to tensors using `ToTensor()` transformation."
      ],
      "metadata": {
        "id": "9a5BRmRzJeIi"
      }
    },
    {
      "cell_type": "code",
      "execution_count": 12,
      "metadata": {
        "id": "IrvQbOfXH7lZ"
      },
      "outputs": [],
      "source": [
        "IMAGE_SIZE = 28*28\n",
        "\n",
        "# The data are given as PIL images. We need to convert our data to a type \n",
        "# that is readable by a Neural Network. Thus, we use the ToTensor() \"transform\" \n",
        "transform = T.Compose([\n",
        "    T.ToTensor()\n",
        "])\n",
        "\n",
        "# Load the training dataset\n",
        "train_dataset = torchvision.datasets.FashionMNIST(\n",
        "    root='./data/', \n",
        "    train=True, \n",
        "    download=True,\n",
        "    transform=transform)\n",
        "\n",
        "# Make a validation dataset by splitting the original training one\n",
        "train_dataset,  valid_dataset = random_split(\n",
        "    train_dataset, \n",
        "    lengths=[50000, 10000], \n",
        "    generator=torch.Generator().manual_seed(456)\n",
        ")\n",
        "\n",
        "# Load the test dataset\n",
        "test_dataset = torchvision.datasets.FashionMNIST(\n",
        "    root='./data/', \n",
        "    train=False, \n",
        "    download=True,\n",
        "    transform=transform)"
      ]
    },
    {
      "cell_type": "markdown",
      "source": [
        "Our datasets are quite large, so we cannot update them on a sample basis. Thus, we will train them in *batches*, which means that the model weights are updated only after a predefined number of samples have been \"feed-forwarded\". For that purpose, we construct dataloaders - wrappers for our train/test datasets."
      ],
      "metadata": {
        "id": "-9c_ZKh8LH_e"
      }
    },
    {
      "cell_type": "code",
      "source": [
        "# Define the hyperparameters\n",
        "BATCH_SIZE = 1024\n",
        "TEST_BATCH_SIZE = 1024\n",
        "LEARNING_RATE = 0.01\n",
        "\n",
        "# Find out which device is available\n",
        "DEVICE = torch.device(\"cuda\" if torch.cuda.is_available() else \"cpu\")\n",
        "print(DEVICE)\n",
        "\n",
        "# construct the dataloader for the traininig dataset. \n",
        "# Here we shuffle the data to promote stochasticity.\n",
        "train_dataloader = DataLoader(\n",
        "    dataset=train_dataset, \n",
        "    batch_size=BATCH_SIZE,\n",
        "    shuffle=True, \n",
        "    num_workers=2)\n",
        "\n",
        "valid_dataloader = DataLoader(\n",
        "    dataset=valid_dataset, \n",
        "    batch_size=TEST_BATCH_SIZE,\n",
        "    shuffle=False, \n",
        "    num_workers=2)\n",
        "\n",
        "# Construct the dataloader for the testing dataset.\n",
        "test_dataloader = DataLoader(\n",
        "    dataset=test_dataset, \n",
        "    batch_size=TEST_BATCH_SIZE,\n",
        "    shuffle=False, \n",
        "    num_workers=2)"
      ],
      "metadata": {
        "colab": {
          "base_uri": "https://localhost:8080/"
        },
        "id": "zs2bbQVNLINr",
        "outputId": "22125fdd-90ff-45d5-87b4-ba9d6c00720d"
      },
      "execution_count": 13,
      "outputs": [
        {
          "output_type": "stream",
          "name": "stdout",
          "text": [
            "cuda\n"
          ]
        }
      ]
    },
    {
      "cell_type": "markdown",
      "source": [
        "Let us visualize some of the samples."
      ],
      "metadata": {
        "id": "gzN08cBbMf9m"
      }
    },
    {
      "cell_type": "code",
      "source": [
        "# Get the first 10 images of the train dataset. Hint: use next(), iter()\n",
        "images = next(iter(train_dataloader))[0][:10]\n",
        "grid = torchvision.utils.make_grid(images, nrow=5, padding=10)\n",
        "\n",
        "def show(img):\n",
        "    npimg = img.numpy()\n",
        "    plt.figure(figsize=(8,6), dpi=80)\n",
        "    plt.imshow(np.transpose(npimg, (1,2,0)), interpolation='nearest')\n",
        "\n",
        "show(grid)"
      ],
      "metadata": {
        "colab": {
          "base_uri": "https://localhost:8080/",
          "height": 0
        },
        "id": "vskTBV40Mfih",
        "outputId": "684d41c6-cc05-47c5-bc3a-7097ed2aed00"
      },
      "execution_count": 14,
      "outputs": [
        {
          "output_type": "display_data",
          "data": {
            "text/plain": [
              "<Figure size 640x480 with 1 Axes>"
            ],
            "image/png": "[encoded data removed]"
          },
          "metadata": {
            "needs_background": "light"
          }
        }
      ]
    },
    {
      "cell_type": "markdown",
      "source": [
        "### Task 2: MultiLayer Perceptron (MLP)"
      ],
      "metadata": {
        "id": "6mlOnY2RKzVz"
      }
    },
    {
      "cell_type": "markdown",
      "source": [
        "Now we define our MLP architecture with two hidden layers of 100 neurons each. Not that the `ReLU` is defined twice - for each hidden layer. Although ReLU is not layer-specific and without learnable parameters, meaning that it is always calling into a stateless function `max(0, x)`, some problems have been reported when using unique ReLU realization for every layer."
      ],
      "metadata": {
        "id": "bDK3iVxPRlSK"
      }
    },
    {
      "cell_type": "code",
      "source": [
        "class Net(nn.Module):\n",
        "  def __init__(self):\n",
        "    super().__init__()\n",
        "    # first hidden layer\n",
        "    self.fc1 =  nn.Linear(IMAGE_SIZE, 100)\n",
        "    self.relu1 = nn.ReLU()\n",
        "    # second hidden layer\n",
        "    self.fc2 = nn.Linear(100, 100)\n",
        "    self.relu2 = nn.ReLU()\n",
        "    # output layer; we have 10 classes\n",
        "    self.fc3 = nn.Linear(100, 10)\n",
        "\n",
        "  def forward(self, x: torch.Tensor) -> torch.Tensor:\n",
        "    batch_size = x.shape[0]\n",
        "    # flattening the images\n",
        "    x = x.view(batch_size, -1)\n",
        "\n",
        "    # forwardpass\n",
        "    x = self.fc1(x)\n",
        "    x = self.relu1(x)\n",
        "    x = self.fc2(x)\n",
        "    x = self.relu2(x)\n",
        "    x = self.fc3(x)\n",
        "    \n",
        "    return x"
      ],
      "metadata": {
        "id": "esR-fDFGK36y"
      },
      "execution_count": 15,
      "outputs": []
    },
    {
      "cell_type": "markdown",
      "source": [
        "We now define the functons `train_epoch` which contains the training logic during one training epoch."
      ],
      "metadata": {
        "id": "0lLOiKUKTAwP"
      }
    },
    {
      "cell_type": "code",
      "source": [
        "def train_epoch(\n",
        "    model: nn.Module, \n",
        "    train_dataloader: DataLoader, \n",
        "    optimizer: torch.optim.Optimizer, \n",
        "    device: torch.device\n",
        "    ):\n",
        "    '''\n",
        "    This function implements the core components of any Neural Network training regiment.\n",
        "    In our stochastic setting our code follows a very specific \"path\". First, we load the batch\n",
        "    a single batch and zero the optimizer. Then we perform the forward pass, compute the gradients and perform the backward pass. And ...repeat!\n",
        "    '''\n",
        "\n",
        "    running_loss = 0.0\n",
        "    model = model.to(device)\n",
        "    model.train()\n",
        "    for batch_idx, (data, target) in enumerate(train_dataloader):\n",
        "        # move data and target to device\n",
        "        data, target = data.to(device), target.to(device)\n",
        "        # zero the parameter gradients\n",
        "        optimizer.zero_grad()\n",
        "        # do the forward pass\n",
        "        output = model(data)\n",
        "        # compute the loss\n",
        "        loss = F.cross_entropy(output, target)\n",
        "        # compute the gradients\n",
        "        loss.backward()\n",
        "\n",
        "        # perform the gradient step\n",
        "        optimizer.step()\n",
        "        \n",
        "        # print statistics\n",
        "        running_loss += loss.item()\n",
        "    \n",
        "    return running_loss / len(train_dataloader.dataset)"
      ],
      "metadata": {
        "id": "cmpBF-8uSqB3"
      },
      "execution_count": 16,
      "outputs": []
    },
    {
      "cell_type": "markdown",
      "source": [
        "Next, we define the `predict` method, which evaluates how well our trained model performs on the test set. It is also used during training with cross-validation on the validation dataset to detect overfitting."
      ],
      "metadata": {
        "id": "au5WVXbLYkTx"
      }
    },
    {
      "cell_type": "code",
      "source": [
        "def predict(model: nn.Module, test_dataloader: DataLoader, device: torch.device, verbose=True):\n",
        "    model.eval()\n",
        "    test_loss = 0\n",
        "    correct = 0\n",
        "    with torch.no_grad():\n",
        "        for data, target in test_dataloader:\n",
        "            data, target = data.to(device), target.to(device)\n",
        "            output = model(data)\n",
        "            loss = F.cross_entropy(output, target)#, reduction=\"sum\")\n",
        "            test_loss += loss.item()\n",
        "            pred = output.data.max(1, keepdim=True)[1]\n",
        "            correct += pred.eq(target.data.view_as(pred)).sum()\n",
        "\n",
        "    test_loss /= len(test_dataloader.dataset)\n",
        "    accuracy = 100.0 * correct / len(test_dataloader.dataset)\n",
        "\n",
        "    if verbose:\n",
        "        print(\n",
        "            f\"Test set: Avg. loss: {test_loss:.4f}, Accuracy: {correct}/{len(test_dataloader.dataset)} ({accuracy:.0f}%)\"\n",
        "        )\n",
        "\n",
        "    return test_loss, accuracy"
      ],
      "metadata": {
        "id": "SNkcsK_iXVs9"
      },
      "execution_count": 17,
      "outputs": []
    },
    {
      "cell_type": "markdown",
      "source": [
        "Finally, we define the `fit` method, which contains all the logic for full model training with the possibility of cross-validation."
      ],
      "metadata": {
        "id": "iI8gYi6pY7Gm"
      }
    },
    {
      "cell_type": "code",
      "source": [
        "def fit(\n",
        "    model: nn.Module, \n",
        "    train_dataloader: DataLoader, \n",
        "    optimizer: torch.optim.Optimizer, \n",
        "    epochs: int, \n",
        "    device: torch.device,\n",
        "    valid_dataloader: Optional[DataLoader]=None):\n",
        "    '''\n",
        "    the fit method simply calls the train_epoch() method for a \n",
        "    specified number of epochs.\n",
        "    '''\n",
        "\n",
        "    # keep track of the losses in order to visualize them later\n",
        "    # Train for numerous epochs:\n",
        "    train_losses = []\n",
        "    valid_losses = []\n",
        "    valid_accs = []\n",
        "    for epoch in range(epochs):\n",
        "        train_loss = train_epoch(\n",
        "            model=model, \n",
        "            train_dataloader=train_dataloader, \n",
        "            optimizer=optimizer, \n",
        "            device=device\n",
        "        )\n",
        "        train_losses.append(train_loss)\n",
        "\n",
        "        if valid_dataloader is not None:\n",
        "            valid_loss, valid_acc = predict(model, valid_dataloader, device, verbose=False)\n",
        "            valid_losses.append(valid_loss)\n",
        "            valid_accs.append(valid_acc)\n",
        "\n",
        "        if valid_dataloader is None:\n",
        "            print(f\"Epoch {epoch}: Train Loss={train_loss:.4f}\")\n",
        "        else:\n",
        "            print(f\"Epoch {epoch}: Train Loss={train_loss:.4f}, Validation Loss={valid_loss:.4f}, Validation acc={valid_acc:.4f}\")\n",
        "\n",
        "    return train_losses, valid_losses, valid_accs"
      ],
      "metadata": {
        "id": "1eGz9y61UgwC"
      },
      "execution_count": 18,
      "outputs": []
    },
    {
      "cell_type": "markdown",
      "source": [
        "After we have defined all the training and evaluation \"machinery\", we can finally start the training process. We define the number of epochs and four different types of optimizers we want to test."
      ],
      "metadata": {
        "id": "IxW-9zCvZ53b"
      }
    },
    {
      "cell_type": "code",
      "source": [
        "EPOCHS = 20\n",
        "\n",
        "models = [Net(), Net(), Net(), Net()]\n",
        "for model in models:\n",
        "  model.to(DEVICE)\n",
        "\n",
        "optimizers = []\n",
        "optimizers.append(optim.SGD(models[0].parameters(), lr=0.01))\n",
        "optimizers.append(optim.SGD(models[1].parameters(), lr=0.01, momentum=0.9, nesterov=True))\n",
        "optimizers.append(optim.Adam(models[2].parameters(), lr=0.01))\n",
        "optimizers.append(optim.Adam(models[3].parameters(), lr=1))\n",
        "\n",
        "names = [\n",
        "    'Optimizer: SGD, lr=0.01',\n",
        "    'Optimizer: SGD, lr=0.01, momentum=0.9',\n",
        "    'Optimizer: Adam, lr=0.01',\n",
        "    'Optimizer: Adam, lr=1'\n",
        "]"
      ],
      "metadata": {
        "id": "-pV9z51kaHqo"
      },
      "execution_count": 19,
      "outputs": []
    },
    {
      "cell_type": "code",
      "source": [
        "train_losses_models_MLP = {}\n",
        "valid_losses_models_MLP = {}\n",
        "\n",
        "for i in range(len(models)):\n",
        "  model = models[i]\n",
        "  optimizer = optimizers[i]\n",
        "\n",
        "  train_losses, valid_losses, valid_accs = fit(\n",
        "        model=model, \n",
        "        train_dataloader=train_dataloader,\n",
        "        valid_dataloader=valid_dataloader,\n",
        "        optimizer=optimizer,\n",
        "        epochs=EPOCHS,\n",
        "        device=DEVICE\n",
        "    )\n",
        "  \n",
        "  train_losses_models_MLP[i] = train_losses\n",
        "  valid_losses_models_MLP[i] = valid_losses\n",
        "\n",
        "  print(f\"%\"*100)\n",
        "  print(f\"Trial [{names[i]}]: Validation accuracy = {valid_accs[-1]:.4f}\")\n",
        "  print(f\"%\"*100)"
      ],
      "metadata": {
        "colab": {
          "base_uri": "https://localhost:8080/"
        },
        "id": "r0OeOZ5vcRXc",
        "outputId": "db6d5871-28b3-4a79-c364-893fc488e719"
      },
      "execution_count": 20,
      "outputs": [
        {
          "output_type": "stream",
          "name": "stdout",
          "text": [
            "Epoch 0: Train Loss=0.0022, Validation Loss=0.0023, Validation acc=21.9600\n",
            "Epoch 1: Train Loss=0.0022, Validation Loss=0.0022, Validation acc=28.6800\n",
            "Epoch 2: Train Loss=0.0021, Validation Loss=0.0021, Validation acc=45.6800\n",
            "Epoch 3: Train Loss=0.0020, Validation Loss=0.0020, Validation acc=53.2600\n",
            "Epoch 4: Train Loss=0.0019, Validation Loss=0.0019, Validation acc=55.5700\n",
            "Epoch 5: Train Loss=0.0018, Validation Loss=0.0017, Validation acc=56.3600\n",
            "Epoch 6: Train Loss=0.0016, Validation Loss=0.0015, Validation acc=59.5500\n",
            "Epoch 7: Train Loss=0.0014, Validation Loss=0.0014, Validation acc=61.0300\n",
            "Epoch 8: Train Loss=0.0013, Validation Loss=0.0013, Validation acc=62.0200\n",
            "Epoch 9: Train Loss=0.0012, Validation Loss=0.0012, Validation acc=63.6100\n",
            "Epoch 10: Train Loss=0.0011, Validation Loss=0.0011, Validation acc=64.7600\n",
            "Epoch 11: Train Loss=0.0010, Validation Loss=0.0010, Validation acc=65.9300\n",
            "Epoch 12: Train Loss=0.0010, Validation Loss=0.0010, Validation acc=66.2500\n",
            "Epoch 13: Train Loss=0.0009, Validation Loss=0.0009, Validation acc=66.9400\n",
            "Epoch 14: Train Loss=0.0009, Validation Loss=0.0009, Validation acc=67.0500\n",
            "Epoch 15: Train Loss=0.0009, Validation Loss=0.0009, Validation acc=68.1500\n",
            "Epoch 16: Train Loss=0.0009, Validation Loss=0.0009, Validation acc=68.9700\n",
            "Epoch 17: Train Loss=0.0008, Validation Loss=0.0008, Validation acc=70.2000\n",
            "Epoch 18: Train Loss=0.0008, Validation Loss=0.0008, Validation acc=70.3700\n",
            "Epoch 19: Train Loss=0.0008, Validation Loss=0.0008, Validation acc=70.7800\n",
            "%%%%%%%%%%%%%%%%%%%%%%%%%%%%%%%%%%%%%%%%%%%%%%%%%%%%%%%%%%%%%%%%%%%%%%%%%%%%%%%%%%%%%%%%%%%%%%%%%%%%\n",
            "Trial [Optimizer: SGD, lr=0.01]: Validation accuracy = 70.7800\n",
            "%%%%%%%%%%%%%%%%%%%%%%%%%%%%%%%%%%%%%%%%%%%%%%%%%%%%%%%%%%%%%%%%%%%%%%%%%%%%%%%%%%%%%%%%%%%%%%%%%%%%\n",
            "Epoch 0: Train Loss=0.0020, Validation Loss=0.0015, Validation acc=57.9900\n",
            "Epoch 1: Train Loss=0.0011, Validation Loss=0.0009, Validation acc=67.9700\n",
            "Epoch 2: Train Loss=0.0008, Validation Loss=0.0007, Validation acc=72.6900\n",
            "Epoch 3: Train Loss=0.0007, Validation Loss=0.0006, Validation acc=77.7500\n",
            "Epoch 4: Train Loss=0.0006, Validation Loss=0.0006, Validation acc=79.6700\n",
            "Epoch 5: Train Loss=0.0006, Validation Loss=0.0005, Validation acc=81.0400\n",
            "Epoch 6: Train Loss=0.0005, Validation Loss=0.0005, Validation acc=81.8800\n",
            "Epoch 7: Train Loss=0.0005, Validation Loss=0.0005, Validation acc=82.6200\n",
            "Epoch 8: Train Loss=0.0005, Validation Loss=0.0005, Validation acc=82.9700\n",
            "Epoch 9: Train Loss=0.0005, Validation Loss=0.0005, Validation acc=83.3800\n",
            "Epoch 10: Train Loss=0.0005, Validation Loss=0.0005, Validation acc=83.4800\n",
            "Epoch 11: Train Loss=0.0005, Validation Loss=0.0004, Validation acc=84.3800\n",
            "Epoch 12: Train Loss=0.0004, Validation Loss=0.0004, Validation acc=84.3300\n",
            "Epoch 13: Train Loss=0.0004, Validation Loss=0.0004, Validation acc=84.7300\n",
            "Epoch 14: Train Loss=0.0004, Validation Loss=0.0004, Validation acc=84.9300\n",
            "Epoch 15: Train Loss=0.0004, Validation Loss=0.0004, Validation acc=85.0000\n",
            "Epoch 16: Train Loss=0.0004, Validation Loss=0.0004, Validation acc=85.1900\n",
            "Epoch 17: Train Loss=0.0004, Validation Loss=0.0004, Validation acc=85.3100\n",
            "Epoch 18: Train Loss=0.0004, Validation Loss=0.0004, Validation acc=85.5800\n",
            "Epoch 19: Train Loss=0.0004, Validation Loss=0.0004, Validation acc=85.6300\n",
            "%%%%%%%%%%%%%%%%%%%%%%%%%%%%%%%%%%%%%%%%%%%%%%%%%%%%%%%%%%%%%%%%%%%%%%%%%%%%%%%%%%%%%%%%%%%%%%%%%%%%\n",
            "Trial [Optimizer: SGD, lr=0.01, momentum=0.9]: Validation accuracy = 85.6300\n",
            "%%%%%%%%%%%%%%%%%%%%%%%%%%%%%%%%%%%%%%%%%%%%%%%%%%%%%%%%%%%%%%%%%%%%%%%%%%%%%%%%%%%%%%%%%%%%%%%%%%%%\n",
            "Epoch 0: Train Loss=0.0008, Validation Loss=0.0005, Validation acc=82.9600\n",
            "Epoch 1: Train Loss=0.0004, Validation Loss=0.0004, Validation acc=86.8200\n",
            "Epoch 2: Train Loss=0.0004, Validation Loss=0.0003, Validation acc=87.0000\n",
            "Epoch 3: Train Loss=0.0003, Validation Loss=0.0003, Validation acc=87.7500\n",
            "Epoch 4: Train Loss=0.0003, Validation Loss=0.0003, Validation acc=88.3900\n",
            "Epoch 5: Train Loss=0.0003, Validation Loss=0.0003, Validation acc=88.5500\n",
            "Epoch 6: Train Loss=0.0003, Validation Loss=0.0003, Validation acc=88.4500\n",
            "Epoch 7: Train Loss=0.0003, Validation Loss=0.0003, Validation acc=89.1600\n",
            "Epoch 8: Train Loss=0.0003, Validation Loss=0.0003, Validation acc=89.6000\n",
            "Epoch 9: Train Loss=0.0003, Validation Loss=0.0003, Validation acc=89.3700\n",
            "Epoch 10: Train Loss=0.0002, Validation Loss=0.0003, Validation acc=88.7600\n",
            "Epoch 11: Train Loss=0.0002, Validation Loss=0.0003, Validation acc=89.2900\n",
            "Epoch 12: Train Loss=0.0002, Validation Loss=0.0003, Validation acc=89.5600\n",
            "Epoch 13: Train Loss=0.0002, Validation Loss=0.0003, Validation acc=88.8800\n",
            "Epoch 14: Train Loss=0.0002, Validation Loss=0.0003, Validation acc=88.7800\n",
            "Epoch 15: Train Loss=0.0002, Validation Loss=0.0003, Validation acc=89.2100\n",
            "Epoch 16: Train Loss=0.0002, Validation Loss=0.0003, Validation acc=89.2200\n",
            "Epoch 17: Train Loss=0.0002, Validation Loss=0.0003, Validation acc=89.5000\n",
            "Epoch 18: Train Loss=0.0002, Validation Loss=0.0003, Validation acc=89.0200\n",
            "Epoch 19: Train Loss=0.0002, Validation Loss=0.0003, Validation acc=88.6700\n",
            "%%%%%%%%%%%%%%%%%%%%%%%%%%%%%%%%%%%%%%%%%%%%%%%%%%%%%%%%%%%%%%%%%%%%%%%%%%%%%%%%%%%%%%%%%%%%%%%%%%%%\n",
            "Trial [Optimizer: Adam, lr=0.01]: Validation accuracy = 88.6700\n",
            "%%%%%%%%%%%%%%%%%%%%%%%%%%%%%%%%%%%%%%%%%%%%%%%%%%%%%%%%%%%%%%%%%%%%%%%%%%%%%%%%%%%%%%%%%%%%%%%%%%%%\n",
            "Epoch 0: Train Loss=3.0419, Validation Loss=0.0024, Validation acc=9.8900\n",
            "Epoch 1: Train Loss=0.0023, Validation Loss=0.0023, Validation acc=10.1100\n",
            "Epoch 2: Train Loss=0.0023, Validation Loss=0.0023, Validation acc=10.1100\n",
            "Epoch 3: Train Loss=0.0023, Validation Loss=0.0023, Validation acc=10.1100\n",
            "Epoch 4: Train Loss=0.0023, Validation Loss=0.0023, Validation acc=10.3100\n",
            "Epoch 5: Train Loss=0.0023, Validation Loss=0.0023, Validation acc=9.6700\n",
            "Epoch 6: Train Loss=0.0023, Validation Loss=0.0023, Validation acc=10.1100\n",
            "Epoch 7: Train Loss=0.0023, Validation Loss=0.0023, Validation acc=10.0100\n",
            "Epoch 8: Train Loss=0.0023, Validation Loss=0.0023, Validation acc=9.6700\n",
            "Epoch 9: Train Loss=0.0023, Validation Loss=0.0023, Validation acc=10.1100\n",
            "Epoch 10: Train Loss=0.0023, Validation Loss=0.0023, Validation acc=10.0700\n",
            "Epoch 11: Train Loss=0.0023, Validation Loss=0.0023, Validation acc=10.3100\n",
            "Epoch 12: Train Loss=0.0023, Validation Loss=0.0023, Validation acc=10.0800\n",
            "Epoch 13: Train Loss=0.0023, Validation Loss=0.0023, Validation acc=10.0700\n",
            "Epoch 14: Train Loss=0.0023, Validation Loss=0.0023, Validation acc=10.0700\n",
            "Epoch 15: Train Loss=0.0023, Validation Loss=0.0023, Validation acc=9.6700\n",
            "Epoch 16: Train Loss=0.0023, Validation Loss=0.0023, Validation acc=10.3100\n",
            "Epoch 17: Train Loss=0.0023, Validation Loss=0.0023, Validation acc=9.6700\n",
            "Epoch 18: Train Loss=0.0023, Validation Loss=0.0023, Validation acc=9.6700\n",
            "Epoch 19: Train Loss=0.0023, Validation Loss=0.0023, Validation acc=10.0600\n",
            "%%%%%%%%%%%%%%%%%%%%%%%%%%%%%%%%%%%%%%%%%%%%%%%%%%%%%%%%%%%%%%%%%%%%%%%%%%%%%%%%%%%%%%%%%%%%%%%%%%%%\n",
            "Trial [Optimizer: Adam, lr=1]: Validation accuracy = 10.0600\n",
            "%%%%%%%%%%%%%%%%%%%%%%%%%%%%%%%%%%%%%%%%%%%%%%%%%%%%%%%%%%%%%%%%%%%%%%%%%%%%%%%%%%%%%%%%%%%%%%%%%%%%\n"
          ]
        }
      ]
    },
    {
      "cell_type": "code",
      "source": [
        "for model in models:\n",
        "  predict(model=model, test_dataloader=test_dataloader, device=DEVICE)"
      ],
      "metadata": {
        "colab": {
          "base_uri": "https://localhost:8080/"
        },
        "id": "xIlKtgdOhH7o",
        "outputId": "2701e661-aa24-4074-96f4-ab4612e0fc43"
      },
      "execution_count": 21,
      "outputs": [
        {
          "output_type": "stream",
          "name": "stdout",
          "text": [
            "Test set: Avg. loss: 0.0008, Accuracy: 7018/10000 (70%)\n",
            "Test set: Avg. loss: 0.0005, Accuracy: 8388/10000 (84%)\n",
            "Test set: Avg. loss: 0.0004, Accuracy: 8794/10000 (88%)\n",
            "Test set: Avg. loss: 0.0023, Accuracy: 1000/10000 (10%)\n"
          ]
        }
      ]
    },
    {
      "cell_type": "code",
      "source": [
        "fig = plt.figure(figsize=(11,9), dpi=80)\n",
        "plt.suptitle('Loss progression across epochs - MLP', fontsize=16)\n",
        "\n",
        "for i in range(len(models)):\n",
        "  plt.subplot(2,2,i+1)\n",
        "  plt.title(names[i])\n",
        "  plt.xlabel('Epoch')\n",
        "  plt.ylabel('Loss')\n",
        "  plt.plot(train_losses_models_MLP[i][1:], label='train')\n",
        "  plt.plot(valid_losses_models_MLP[i][1:], label='val')\n",
        "  plt.legend(fontsize=10)"
      ],
      "metadata": {
        "colab": {
          "base_uri": "https://localhost:8080/",
          "height": 680
        },
        "id": "sSFYZEaci_ZE",
        "outputId": "8e66ef8d-cac8-49c2-8eaa-06c2a6710231"
      },
      "execution_count": 22,
      "outputs": [
        {
          "output_type": "display_data",
          "data": {
            "text/plain": [
              "<Figure size 880x720 with 4 Axes>"
            ],
            "image/png": "[encoded data removed]"
          },
          "metadata": {
            "needs_background": "light"
          }
        }
      ]
    },
    {
      "cell_type": "markdown",
      "source": [
        "### Task 3: Convolutional Neural Network (CNN)"
      ],
      "metadata": {
        "id": "VSusDtr-Tgju"
      }
    },
    {
      "cell_type": "markdown",
      "source": [
        "We first create a CNN model."
      ],
      "metadata": {
        "id": "kfPKdzw7VI22"
      }
    },
    {
      "cell_type": "code",
      "source": [
        "class CNN(nn.Module):\n",
        "  def __init__(self):\n",
        "    super().__init__()\n",
        "\n",
        "    self.conv = nn.Sequential(\n",
        "        nn.Conv2d(in_channels=1, out_channels=16, kernel_size=3, stride=1, padding=1),\n",
        "        nn.ReLU(),\n",
        "        nn.MaxPool2d(kernel_size=2),\n",
        "        nn.Conv2d(in_channels=16, out_channels=32, kernel_size=3, stride=1, padding=1),\n",
        "        nn.ReLU(),\n",
        "        nn.MaxPool2d(kernel_size=2),\n",
        "        nn.Conv2d(in_channels=32, out_channels=64, kernel_size=3, stride=1, padding=1),\n",
        "        nn.ReLU(),\n",
        "        nn.MaxPool2d(kernel_size=2),\n",
        "    )\n",
        "\n",
        "    # Fully connected output layer\n",
        "    self.out = nn.Linear(576, 10)\n",
        "\n",
        "  def forward(self, x):\n",
        "    # propagate through convolutional layers\n",
        "    x = self.conv(x)\n",
        "    # flattening the \"convolutional\" output\n",
        "    x = x.view(x.size(0), -1)\n",
        "    # propagate through FC layer\n",
        "    x = self.out(x)\n",
        "\n",
        "    return x\n"
      ],
      "metadata": {
        "id": "eWmILS58Tnhq"
      },
      "execution_count": 23,
      "outputs": []
    },
    {
      "cell_type": "markdown",
      "source": [
        "We repeat the same training procedure as with the MLP. We set the number of epochs to 20 and test on four different optimizers."
      ],
      "metadata": {
        "id": "dLa_SsL7X47j"
      }
    },
    {
      "cell_type": "code",
      "source": [
        "EPOCHS = 20\n",
        "\n",
        "models = [CNN(), CNN(), CNN(), CNN()]\n",
        "for model in models:\n",
        "  model.to(DEVICE)\n",
        "\n",
        "optimizers = []\n",
        "optimizers.append(optim.SGD(models[0].parameters(), lr=0.01))\n",
        "optimizers.append(optim.SGD(models[1].parameters(), lr=0.01, momentum=0.9, nesterov=True))\n",
        "optimizers.append(optim.Adam(models[2].parameters(), lr=0.01))\n",
        "optimizers.append(optim.Adam(models[3].parameters(), lr=1))\n",
        "\n",
        "names = [\n",
        "    'Optimizer: SGD, lr=0.01',\n",
        "    'Optimizer: SGD, lr=0.01, momentum=0.9',\n",
        "    'Optimizer: Adam, lr=0.01',\n",
        "    'Optimizer: Adam, lr=1'\n",
        "]"
      ],
      "metadata": {
        "id": "C046FwTNXxvn"
      },
      "execution_count": 24,
      "outputs": []
    },
    {
      "cell_type": "code",
      "source": [
        "train_losses_models_CNN = {}\n",
        "valid_losses_models_CNN = {}\n",
        "\n",
        "for i in range(len(models)):\n",
        "  model = models[i]\n",
        "  optimizer = optimizers[i]\n",
        "\n",
        "  train_losses, valid_losses, valid_accs = fit(\n",
        "        model=model, \n",
        "        train_dataloader=train_dataloader,\n",
        "        valid_dataloader=valid_dataloader,\n",
        "        optimizer=optimizer,\n",
        "        epochs=EPOCHS,\n",
        "        device=DEVICE\n",
        "    )\n",
        "  \n",
        "  train_losses_models_CNN[i] = train_losses\n",
        "  valid_losses_models_CNN[i] = valid_losses\n",
        "\n",
        "  print(f\"%\"*100)\n",
        "  print(f\"Trial [{names[i]}]: Validation accuracy = {valid_accs[-1]:.4f}\")\n",
        "  print(f\"%\"*100)"
      ],
      "metadata": {
        "colab": {
          "base_uri": "https://localhost:8080/"
        },
        "id": "xK5tw3HvYJDb",
        "outputId": "ea1d2825-01bb-422b-94e5-0a75245c2e83"
      },
      "execution_count": 25,
      "outputs": [
        {
          "output_type": "stream",
          "name": "stdout",
          "text": [
            "Epoch 0: Train Loss=0.0023, Validation Loss=0.0023, Validation acc=11.8300\n",
            "Epoch 1: Train Loss=0.0022, Validation Loss=0.0023, Validation acc=27.1000\n",
            "Epoch 2: Train Loss=0.0022, Validation Loss=0.0023, Validation acc=32.8300\n",
            "Epoch 3: Train Loss=0.0022, Validation Loss=0.0023, Validation acc=33.6500\n",
            "Epoch 4: Train Loss=0.0022, Validation Loss=0.0023, Validation acc=32.8900\n",
            "Epoch 5: Train Loss=0.0022, Validation Loss=0.0022, Validation acc=33.9300\n",
            "Epoch 6: Train Loss=0.0022, Validation Loss=0.0022, Validation acc=35.9200\n",
            "Epoch 7: Train Loss=0.0021, Validation Loss=0.0020, Validation acc=42.6700\n",
            "Epoch 8: Train Loss=0.0019, Validation Loss=0.0017, Validation acc=53.4700\n",
            "Epoch 9: Train Loss=0.0014, Validation Loss=0.0012, Validation acc=63.5100\n",
            "Epoch 10: Train Loss=0.0010, Validation Loss=0.0010, Validation acc=67.5800\n",
            "Epoch 11: Train Loss=0.0009, Validation Loss=0.0009, Validation acc=65.6900\n",
            "Epoch 12: Train Loss=0.0009, Validation Loss=0.0010, Validation acc=66.0600\n",
            "Epoch 13: Train Loss=0.0009, Validation Loss=0.0008, Validation acc=66.7900\n",
            "Epoch 14: Train Loss=0.0008, Validation Loss=0.0009, Validation acc=67.5600\n",
            "Epoch 15: Train Loss=0.0008, Validation Loss=0.0008, Validation acc=69.0400\n",
            "Epoch 16: Train Loss=0.0008, Validation Loss=0.0008, Validation acc=72.8400\n",
            "Epoch 17: Train Loss=0.0008, Validation Loss=0.0008, Validation acc=72.2800\n",
            "Epoch 18: Train Loss=0.0007, Validation Loss=0.0008, Validation acc=71.7000\n",
            "Epoch 19: Train Loss=0.0007, Validation Loss=0.0008, Validation acc=74.4500\n",
            "%%%%%%%%%%%%%%%%%%%%%%%%%%%%%%%%%%%%%%%%%%%%%%%%%%%%%%%%%%%%%%%%%%%%%%%%%%%%%%%%%%%%%%%%%%%%%%%%%%%%\n",
            "Trial [Optimizer: SGD, lr=0.01]: Validation accuracy = 74.4500\n",
            "%%%%%%%%%%%%%%%%%%%%%%%%%%%%%%%%%%%%%%%%%%%%%%%%%%%%%%%%%%%%%%%%%%%%%%%%%%%%%%%%%%%%%%%%%%%%%%%%%%%%\n",
            "Epoch 0: Train Loss=0.0022, Validation Loss=0.0018, Validation acc=57.2700\n",
            "Epoch 1: Train Loss=0.0012, Validation Loss=0.0010, Validation acc=67.2400\n",
            "Epoch 2: Train Loss=0.0007, Validation Loss=0.0007, Validation acc=73.0400\n",
            "Epoch 3: Train Loss=0.0007, Validation Loss=0.0006, Validation acc=78.0200\n",
            "Epoch 4: Train Loss=0.0006, Validation Loss=0.0006, Validation acc=79.0700\n",
            "Epoch 5: Train Loss=0.0006, Validation Loss=0.0005, Validation acc=80.8500\n",
            "Epoch 6: Train Loss=0.0005, Validation Loss=0.0005, Validation acc=81.5900\n",
            "Epoch 7: Train Loss=0.0005, Validation Loss=0.0005, Validation acc=82.3600\n",
            "Epoch 8: Train Loss=0.0005, Validation Loss=0.0005, Validation acc=83.7400\n",
            "Epoch 9: Train Loss=0.0005, Validation Loss=0.0004, Validation acc=84.2000\n",
            "Epoch 10: Train Loss=0.0004, Validation Loss=0.0005, Validation acc=79.4000\n",
            "Epoch 11: Train Loss=0.0004, Validation Loss=0.0004, Validation acc=84.2400\n",
            "Epoch 12: Train Loss=0.0004, Validation Loss=0.0004, Validation acc=85.7500\n",
            "Epoch 13: Train Loss=0.0004, Validation Loss=0.0004, Validation acc=85.7200\n",
            "Epoch 14: Train Loss=0.0004, Validation Loss=0.0004, Validation acc=84.0700\n",
            "Epoch 15: Train Loss=0.0004, Validation Loss=0.0004, Validation acc=86.2400\n",
            "Epoch 16: Train Loss=0.0004, Validation Loss=0.0004, Validation acc=86.8400\n",
            "Epoch 17: Train Loss=0.0004, Validation Loss=0.0004, Validation acc=86.5500\n",
            "Epoch 18: Train Loss=0.0004, Validation Loss=0.0004, Validation acc=86.6000\n",
            "Epoch 19: Train Loss=0.0004, Validation Loss=0.0004, Validation acc=86.6800\n",
            "%%%%%%%%%%%%%%%%%%%%%%%%%%%%%%%%%%%%%%%%%%%%%%%%%%%%%%%%%%%%%%%%%%%%%%%%%%%%%%%%%%%%%%%%%%%%%%%%%%%%\n",
            "Trial [Optimizer: SGD, lr=0.01, momentum=0.9]: Validation accuracy = 86.6800\n",
            "%%%%%%%%%%%%%%%%%%%%%%%%%%%%%%%%%%%%%%%%%%%%%%%%%%%%%%%%%%%%%%%%%%%%%%%%%%%%%%%%%%%%%%%%%%%%%%%%%%%%\n",
            "Epoch 0: Train Loss=0.0009, Validation Loss=0.0005, Validation acc=80.7500\n",
            "Epoch 1: Train Loss=0.0005, Validation Loss=0.0004, Validation acc=85.4200\n",
            "Epoch 2: Train Loss=0.0004, Validation Loss=0.0003, Validation acc=87.9700\n",
            "Epoch 3: Train Loss=0.0003, Validation Loss=0.0003, Validation acc=88.9500\n",
            "Epoch 4: Train Loss=0.0003, Validation Loss=0.0003, Validation acc=88.8300\n",
            "Epoch 5: Train Loss=0.0003, Validation Loss=0.0003, Validation acc=89.6200\n",
            "Epoch 6: Train Loss=0.0003, Validation Loss=0.0003, Validation acc=89.7700\n",
            "Epoch 7: Train Loss=0.0002, Validation Loss=0.0003, Validation acc=90.6700\n",
            "Epoch 8: Train Loss=0.0002, Validation Loss=0.0003, Validation acc=90.7300\n",
            "Epoch 9: Train Loss=0.0002, Validation Loss=0.0003, Validation acc=90.8200\n",
            "Epoch 10: Train Loss=0.0002, Validation Loss=0.0002, Validation acc=90.9200\n",
            "Epoch 11: Train Loss=0.0002, Validation Loss=0.0002, Validation acc=91.4300\n",
            "Epoch 12: Train Loss=0.0002, Validation Loss=0.0003, Validation acc=90.7200\n",
            "Epoch 13: Train Loss=0.0002, Validation Loss=0.0002, Validation acc=91.3900\n",
            "Epoch 14: Train Loss=0.0002, Validation Loss=0.0002, Validation acc=91.1600\n",
            "Epoch 15: Train Loss=0.0002, Validation Loss=0.0002, Validation acc=91.1000\n",
            "Epoch 16: Train Loss=0.0002, Validation Loss=0.0003, Validation acc=90.7800\n",
            "Epoch 17: Train Loss=0.0002, Validation Loss=0.0002, Validation acc=91.4200\n",
            "Epoch 18: Train Loss=0.0002, Validation Loss=0.0002, Validation acc=91.5400\n",
            "Epoch 19: Train Loss=0.0002, Validation Loss=0.0002, Validation acc=91.2600\n",
            "%%%%%%%%%%%%%%%%%%%%%%%%%%%%%%%%%%%%%%%%%%%%%%%%%%%%%%%%%%%%%%%%%%%%%%%%%%%%%%%%%%%%%%%%%%%%%%%%%%%%\n",
            "Trial [Optimizer: Adam, lr=0.01]: Validation accuracy = 91.2600\n",
            "%%%%%%%%%%%%%%%%%%%%%%%%%%%%%%%%%%%%%%%%%%%%%%%%%%%%%%%%%%%%%%%%%%%%%%%%%%%%%%%%%%%%%%%%%%%%%%%%%%%%\n",
            "Epoch 0: Train Loss=2.3633, Validation Loss=0.0024, Validation acc=10.1100\n",
            "Epoch 1: Train Loss=0.0023, Validation Loss=0.0023, Validation acc=10.3100\n",
            "Epoch 2: Train Loss=0.0023, Validation Loss=0.0023, Validation acc=10.1400\n",
            "Epoch 3: Train Loss=0.0023, Validation Loss=0.0023, Validation acc=9.6700\n",
            "Epoch 4: Train Loss=0.0023, Validation Loss=0.0023, Validation acc=9.8800\n",
            "Epoch 5: Train Loss=0.0023, Validation Loss=0.0023, Validation acc=10.0800\n",
            "Epoch 6: Train Loss=0.0023, Validation Loss=0.0023, Validation acc=10.0800\n",
            "Epoch 7: Train Loss=0.0023, Validation Loss=0.0023, Validation acc=9.6700\n",
            "Epoch 8: Train Loss=0.0023, Validation Loss=0.0023, Validation acc=10.0600\n",
            "Epoch 9: Train Loss=0.0023, Validation Loss=0.0023, Validation acc=10.0600\n",
            "Epoch 10: Train Loss=0.0023, Validation Loss=0.0023, Validation acc=10.0800\n",
            "Epoch 11: Train Loss=0.0023, Validation Loss=0.0023, Validation acc=10.0100\n",
            "Epoch 12: Train Loss=0.0023, Validation Loss=0.0023, Validation acc=10.0700\n",
            "Epoch 13: Train Loss=0.0023, Validation Loss=0.0023, Validation acc=9.6700\n",
            "Epoch 14: Train Loss=0.0023, Validation Loss=0.0023, Validation acc=10.3100\n",
            "Epoch 15: Train Loss=0.0023, Validation Loss=0.0023, Validation acc=10.0800\n",
            "Epoch 16: Train Loss=0.0023, Validation Loss=0.0023, Validation acc=10.0100\n",
            "Epoch 17: Train Loss=0.0023, Validation Loss=0.0023, Validation acc=10.1100\n",
            "Epoch 18: Train Loss=0.0023, Validation Loss=0.0023, Validation acc=10.0800\n",
            "Epoch 19: Train Loss=0.0023, Validation Loss=0.0023, Validation acc=10.0100\n",
            "%%%%%%%%%%%%%%%%%%%%%%%%%%%%%%%%%%%%%%%%%%%%%%%%%%%%%%%%%%%%%%%%%%%%%%%%%%%%%%%%%%%%%%%%%%%%%%%%%%%%\n",
            "Trial [Optimizer: Adam, lr=1]: Validation accuracy = 10.0100\n",
            "%%%%%%%%%%%%%%%%%%%%%%%%%%%%%%%%%%%%%%%%%%%%%%%%%%%%%%%%%%%%%%%%%%%%%%%%%%%%%%%%%%%%%%%%%%%%%%%%%%%%\n"
          ]
        }
      ]
    },
    {
      "cell_type": "code",
      "source": [
        "for model in models:\n",
        "  predict(model=model, test_dataloader=test_dataloader, device=DEVICE)"
      ],
      "metadata": {
        "colab": {
          "base_uri": "https://localhost:8080/"
        },
        "id": "b5nC5aIEYMjO",
        "outputId": "da839d22-b369-484d-e89a-306b38cf0dd6"
      },
      "execution_count": 26,
      "outputs": [
        {
          "output_type": "stream",
          "name": "stdout",
          "text": [
            "Test set: Avg. loss: 0.0008, Accuracy: 7368/10000 (74%)\n",
            "Test set: Avg. loss: 0.0004, Accuracy: 8584/10000 (86%)\n",
            "Test set: Avg. loss: 0.0003, Accuracy: 9053/10000 (91%)\n",
            "Test set: Avg. loss: 0.0023, Accuracy: 1000/10000 (10%)\n"
          ]
        }
      ]
    },
    {
      "cell_type": "code",
      "source": [
        "fig = plt.figure(figsize=(11,9), dpi=80)\n",
        "plt.suptitle('Loss progression across epochs - CNN', fontsize=16)\n",
        "\n",
        "for i in range(len(models)):\n",
        "  plt.subplot(2,2,i+1)\n",
        "  plt.title(names[i])\n",
        "  plt.xlabel('Epoch')\n",
        "  plt.ylabel('Loss')\n",
        "  plt.plot(train_losses_models_CNN[i][1:], label='train')\n",
        "  plt.plot(valid_losses_models_CNN[i][1:], label='val')\n",
        "  plt.legend(fontsize=10)"
      ],
      "metadata": {
        "colab": {
          "base_uri": "https://localhost:8080/",
          "height": 0
        },
        "id": "JCAL6tc6YP08",
        "outputId": "d24ed617-1b6d-437c-9631-045b2d648ae5"
      },
      "execution_count": 27,
      "outputs": [
        {
          "output_type": "display_data",
          "data": {
            "text/plain": [
              "<Figure size 880x720 with 4 Axes>"
            ],
            "image/png": "[encoded data removed]"
          },
          "metadata": {
            "needs_background": "light"
          }
        }
      ]
    },
    {
      "cell_type": "markdown",
      "source": [
        "#### CNN IMAJU LOKALNU INFORMACIJU"
      ],
      "metadata": {
        "id": "zxh7e_8-pCNh"
      }
    },
    {
      "cell_type": "markdown",
      "source": [
        "### Task 4: Number of model parameters"
      ],
      "metadata": {
        "id": "JmujS-gQlCzt"
      }
    },
    {
      "cell_type": "markdown",
      "source": [
        "We define a function `num_parameters` that returns a number of all parameters for a given model, including the non-trainable ones (note that our MLP and CNN models do not have non-trainable parameters)."
      ],
      "metadata": {
        "id": "-mwWuB1ilqj4"
      }
    },
    {
      "cell_type": "code",
      "source": [
        "def num_parameters(model: nn.Module) -> int:\n",
        "  return sum(\n",
        "      param.numel() for param in model.parameters()\n",
        "  )"
      ],
      "metadata": {
        "id": "NZliXi2VlKkQ"
      },
      "execution_count": 28,
      "outputs": []
    },
    {
      "cell_type": "markdown",
      "source": [
        "We calculate the number of parameters our MLP and CNN models have."
      ],
      "metadata": {
        "id": "1GVIar2gmXTA"
      }
    },
    {
      "cell_type": "code",
      "source": [
        "mlp = Net()\n",
        "cnn = CNN()\n",
        "num_mlp = num_parameters(mlp)\n",
        "num_cnn = num_parameters(cnn)\n",
        "\n",
        "print(f\"Number of parameters in the MLP model: {num_mlp}\")\n",
        "print(f\"Number of parameters in the CNN model: {num_cnn}\")"
      ],
      "metadata": {
        "colab": {
          "base_uri": "https://localhost:8080/"
        },
        "id": "a1JJzLm4mXYR",
        "outputId": "5eb13188-c70e-4a1d-cb6e-5594aa955d99"
      },
      "execution_count": 29,
      "outputs": [
        {
          "output_type": "stream",
          "name": "stdout",
          "text": [
            "Number of parameters in the MLP model: 89610\n",
            "Number of parameters in the CNN model: 29066\n"
          ]
        }
      ]
    },
    {
      "cell_type": "markdown",
      "source": [
        "The number of CNN parameters is 3 times lower than the MLP case but our previous analysis shows that, despite this, the CNN performed better. Thus we conclude that having more parameters does not translate to better performance. But why is this the case?\n",
        "\n",
        "CNNs are designed specifically to work with images, where neighboring pixels are expected to be highly correlated, while distant pixels have high probability of being \"independent\". The kernel convolution is defined to aggregate the local information of a pixel, so not all the inputs in the layer affect the outputs of the next layer. On the contrary, when working with images, fully connected networks first flatten them and then connect all the inputs to all the output nodes. Not only do the FC networks have more parameters (weights), but since the natural order of the image is lost, they perform worse than the CNNs."
      ],
      "metadata": {
        "id": "hchusPGgo7cW"
      }
    },
    {
      "cell_type": "markdown",
      "source": [
        "### Task 5: Classification with `PermutedFashionMNIST`"
      ],
      "metadata": {
        "id": "EF3ESuvytNzg"
      }
    },
    {
      "cell_type": "markdown",
      "source": [
        "We define a `RandomPermutation` transformation which randomly redistributes pixels in an image."
      ],
      "metadata": {
        "id": "q-Pw3TKDtyaM"
      }
    },
    {
      "cell_type": "code",
      "source": [
        "class RandomPermutation(object):\n",
        "    def __init__(self, num_features):\n",
        "        self.num_features = num_features\n",
        "        self.reindex = torch.randperm(num_features)\n",
        "    \n",
        "    def __call__(self, img):\n",
        "        assert self.num_features == img.numel()\n",
        "        orig_shape = img.shape\n",
        "        img = img.view(-1)[self.reindex].view(orig_shape)\n",
        "        return img"
      ],
      "metadata": {
        "id": "Ia5koVmYtS9s"
      },
      "execution_count": 30,
      "outputs": []
    },
    {
      "cell_type": "markdown",
      "source": [
        "We load the data as in *Task 1*, but now we add our `RandomPermutation` to the list of transformations."
      ],
      "metadata": {
        "id": "697ZeAlWuB7W"
      }
    },
    {
      "cell_type": "code",
      "source": [
        "IMAGE_SIZE = 28*28\n",
        "\n",
        "# The data are given as PIL images. We need to convert our data to a type \n",
        "# that is readable by a Neural Network. Thus, we use the ToTensor() \"transform\" \n",
        "transform = T.Compose([\n",
        "    T.ToTensor(),\n",
        "    RandomPermutation(IMAGE_SIZE)\n",
        "])\n",
        "\n",
        "# Load the training dataset\n",
        "train_dataset = torchvision.datasets.FashionMNIST(\n",
        "    root='./data/', \n",
        "    train=True, \n",
        "    download=True,\n",
        "    transform=transform)\n",
        "\n",
        "# Make a validation dataset by splitting the original training one\n",
        "train_dataset,  valid_dataset = random_split(\n",
        "    train_dataset, \n",
        "    lengths=[50000, 10000], \n",
        "    generator=torch.Generator().manual_seed(456)\n",
        ")\n",
        "\n",
        "# Load the test dataset\n",
        "test_dataset = torchvision.datasets.FashionMNIST(\n",
        "    root='./data/', \n",
        "    train=False, \n",
        "    download=True,\n",
        "    transform=transform)"
      ],
      "metadata": {
        "id": "StJlJNmJt9Wk"
      },
      "execution_count": 31,
      "outputs": []
    },
    {
      "cell_type": "markdown",
      "source": [
        "Again, we construct the dataloaders and define the batch sizes."
      ],
      "metadata": {
        "id": "UcBMO-Chuud9"
      }
    },
    {
      "cell_type": "code",
      "source": [
        "# Define the hyperparameters\n",
        "BATCH_SIZE = 1024\n",
        "TEST_BATCH_SIZE = 1024\n",
        "\n",
        "# Find out which device is available\n",
        "DEVICE = torch.device(\"cuda\" if torch.cuda.is_available() else \"cpu\")\n",
        "print(DEVICE)\n",
        "\n",
        "# construct the dataloader for the traininig dataset. \n",
        "# Here we shuffle the data to promote stochasticity.\n",
        "train_dataloader = DataLoader(\n",
        "    dataset=train_dataset, \n",
        "    batch_size=BATCH_SIZE,\n",
        "    shuffle=True, \n",
        "    num_workers=2)\n",
        "\n",
        "valid_dataloader = DataLoader(\n",
        "    dataset=valid_dataset, \n",
        "    batch_size=TEST_BATCH_SIZE,\n",
        "    shuffle=False, \n",
        "    num_workers=2)\n",
        "\n",
        "# Construct the dataloader for the testing dataset.\n",
        "test_dataloader = DataLoader(\n",
        "    dataset=test_dataset, \n",
        "    batch_size=TEST_BATCH_SIZE,\n",
        "    shuffle=False, \n",
        "    num_workers=2)"
      ],
      "metadata": {
        "colab": {
          "base_uri": "https://localhost:8080/"
        },
        "id": "nrNNBqmDuuod",
        "outputId": "54cfd5c6-2847-414e-d696-d65d1dbf08a8"
      },
      "execution_count": 32,
      "outputs": [
        {
          "output_type": "stream",
          "name": "stdout",
          "text": [
            "cuda\n"
          ]
        }
      ]
    },
    {
      "cell_type": "markdown",
      "source": [
        "Let us visualize a few samples to make sure the pixels were indeed permuted."
      ],
      "metadata": {
        "id": "8-zL6xyqvTUR"
      }
    },
    {
      "cell_type": "code",
      "source": [
        "# Get the first 10 images of the train dataset. Hint: use next(), iter()\n",
        "images = next(iter(train_dataloader))[0][:10]\n",
        "grid = torchvision.utils.make_grid(images, nrow=5, padding=10)\n",
        "\n",
        "def show(img):\n",
        "    npimg = img.numpy()\n",
        "    plt.figure(figsize=(8,6), dpi=80)\n",
        "    plt.imshow(np.transpose(npimg, (1,2,0)), interpolation='nearest')\n",
        "\n",
        "show(grid)"
      ],
      "metadata": {
        "colab": {
          "base_uri": "https://localhost:8080/",
          "height": 266
        },
        "id": "lcMUhETXvTaS",
        "outputId": "f8a923c4-9317-4611-ec16-7bd62fa94dcd"
      },
      "execution_count": 33,
      "outputs": [
        {
          "output_type": "display_data",
          "data": {
            "text/plain": [
              "<Figure size 640x480 with 1 Axes>"
            ],
            "image/png": "[encoded data removed]"
          },
          "metadata": {
            "needs_background": "light"
          }
        }
      ]
    },
    {
      "cell_type": "markdown",
      "source": [
        "Now, we define the hyperparameters and initialize the MLP/CNN models and optimizers."
      ],
      "metadata": {
        "id": "YYLQ-3eIwdR-"
      }
    },
    {
      "cell_type": "code",
      "source": [
        "LEARNING_RATE = 0.01\n",
        "MOMENTUM = 0.9\n",
        "EPOCHS = 20\n",
        "\n",
        "# Find out which device is available\n",
        "DEVICE = torch.device(\"cuda\" if torch.cuda.is_available() else \"cpu\")\n",
        "print(DEVICE)\n",
        "\n",
        "model_mlp = Net().to(DEVICE)\n",
        "model_cnn = CNN().to(DEVICE)\n",
        "\n",
        "optimizer_mlp = optim.SGD(model_mlp.parameters(), lr=LEARNING_RATE, momentum=MOMENTUM, nesterov=True)\n",
        "optimizer_cnn = optim.SGD(model_cnn.parameters(), lr=LEARNING_RATE, momentum=MOMENTUM, nesterov=True)"
      ],
      "metadata": {
        "colab": {
          "base_uri": "https://localhost:8080/"
        },
        "id": "NHWRzRLIu7qw",
        "outputId": "a92e591d-7f2d-4a47-fc20-9d9332ba45bb"
      },
      "execution_count": 34,
      "outputs": [
        {
          "output_type": "stream",
          "name": "stdout",
          "text": [
            "cuda\n"
          ]
        }
      ]
    },
    {
      "cell_type": "markdown",
      "source": [
        "The next step is training both models."
      ],
      "metadata": {
        "id": "oFJ-_j7Rwn7y"
      }
    },
    {
      "cell_type": "code",
      "source": [
        "# Training the MLP model\n",
        "print(f\"%\"*100)\n",
        "print(f\"Training the MLP model\")\n",
        "print(f\"%\"*100)\n",
        "train_losses_mlp, valid_losses_mlp, valid_accs_mlp = fit(\n",
        "        model=model_mlp, \n",
        "        train_dataloader=train_dataloader,\n",
        "        valid_dataloader=valid_dataloader,\n",
        "        optimizer=optimizer_mlp,\n",
        "        epochs=EPOCHS,\n",
        "        device=DEVICE\n",
        "    )"
      ],
      "metadata": {
        "colab": {
          "base_uri": "https://localhost:8080/"
        },
        "id": "6bJLBVocwqb6",
        "outputId": "5eec6068-97f4-42c4-cd83-c34600500fc0"
      },
      "execution_count": 35,
      "outputs": [
        {
          "output_type": "stream",
          "name": "stdout",
          "text": [
            "%%%%%%%%%%%%%%%%%%%%%%%%%%%%%%%%%%%%%%%%%%%%%%%%%%%%%%%%%%%%%%%%%%%%%%%%%%%%%%%%%%%%%%%%%%%%%%%%%%%%\n",
            "Training the MLP model\n",
            "%%%%%%%%%%%%%%%%%%%%%%%%%%%%%%%%%%%%%%%%%%%%%%%%%%%%%%%%%%%%%%%%%%%%%%%%%%%%%%%%%%%%%%%%%%%%%%%%%%%%\n",
            "Epoch 0: Train Loss=0.0021, Validation Loss=0.0016, Validation acc=49.7900\n",
            "Epoch 1: Train Loss=0.0011, Validation Loss=0.0009, Validation acc=67.9200\n",
            "Epoch 2: Train Loss=0.0008, Validation Loss=0.0007, Validation acc=73.0700\n",
            "Epoch 3: Train Loss=0.0007, Validation Loss=0.0006, Validation acc=76.6500\n",
            "Epoch 4: Train Loss=0.0006, Validation Loss=0.0006, Validation acc=79.2800\n",
            "Epoch 5: Train Loss=0.0006, Validation Loss=0.0006, Validation acc=80.7900\n",
            "Epoch 6: Train Loss=0.0005, Validation Loss=0.0005, Validation acc=81.7800\n",
            "Epoch 7: Train Loss=0.0005, Validation Loss=0.0005, Validation acc=82.4000\n",
            "Epoch 8: Train Loss=0.0005, Validation Loss=0.0005, Validation acc=83.0200\n",
            "Epoch 9: Train Loss=0.0005, Validation Loss=0.0005, Validation acc=83.1300\n",
            "Epoch 10: Train Loss=0.0005, Validation Loss=0.0005, Validation acc=83.6400\n",
            "Epoch 11: Train Loss=0.0005, Validation Loss=0.0005, Validation acc=83.6700\n",
            "Epoch 12: Train Loss=0.0005, Validation Loss=0.0005, Validation acc=83.7300\n",
            "Epoch 13: Train Loss=0.0004, Validation Loss=0.0004, Validation acc=84.2000\n",
            "Epoch 14: Train Loss=0.0004, Validation Loss=0.0004, Validation acc=84.3200\n",
            "Epoch 15: Train Loss=0.0004, Validation Loss=0.0004, Validation acc=84.4400\n",
            "Epoch 16: Train Loss=0.0004, Validation Loss=0.0004, Validation acc=85.0700\n",
            "Epoch 17: Train Loss=0.0004, Validation Loss=0.0004, Validation acc=84.9300\n",
            "Epoch 18: Train Loss=0.0004, Validation Loss=0.0004, Validation acc=85.0000\n",
            "Epoch 19: Train Loss=0.0004, Validation Loss=0.0004, Validation acc=85.1000\n"
          ]
        }
      ]
    },
    {
      "cell_type": "code",
      "source": [
        "# Training the CNN model\n",
        "print(f\"%\"*100)\n",
        "print(f\"Training the CNN model\")\n",
        "print(f\"%\"*100)\n",
        "train_losses_cnn, valid_losses_cnn, valid_accs_cnn = fit(\n",
        "        model=model_cnn, \n",
        "        train_dataloader=train_dataloader,\n",
        "        valid_dataloader=valid_dataloader,\n",
        "        optimizer=optimizer_cnn,\n",
        "        epochs=EPOCHS,\n",
        "        device=DEVICE\n",
        "    )"
      ],
      "metadata": {
        "colab": {
          "base_uri": "https://localhost:8080/"
        },
        "id": "08M-K9P5wyFx",
        "outputId": "192e747a-9ea3-4145-a30e-bc9ed1e57dd4"
      },
      "execution_count": 36,
      "outputs": [
        {
          "output_type": "stream",
          "name": "stdout",
          "text": [
            "%%%%%%%%%%%%%%%%%%%%%%%%%%%%%%%%%%%%%%%%%%%%%%%%%%%%%%%%%%%%%%%%%%%%%%%%%%%%%%%%%%%%%%%%%%%%%%%%%%%%\n",
            "Training the CNN model\n",
            "%%%%%%%%%%%%%%%%%%%%%%%%%%%%%%%%%%%%%%%%%%%%%%%%%%%%%%%%%%%%%%%%%%%%%%%%%%%%%%%%%%%%%%%%%%%%%%%%%%%%\n",
            "Epoch 0: Train Loss=0.0022, Validation Loss=0.0023, Validation acc=25.6500\n",
            "Epoch 1: Train Loss=0.0021, Validation Loss=0.0019, Validation acc=36.9000\n",
            "Epoch 2: Train Loss=0.0017, Validation Loss=0.0016, Validation acc=47.7100\n",
            "Epoch 3: Train Loss=0.0013, Validation Loss=0.0011, Validation acc=62.3900\n",
            "Epoch 4: Train Loss=0.0010, Validation Loss=0.0009, Validation acc=69.8400\n",
            "Epoch 5: Train Loss=0.0008, Validation Loss=0.0008, Validation acc=73.3600\n",
            "Epoch 6: Train Loss=0.0007, Validation Loss=0.0007, Validation acc=73.2600\n",
            "Epoch 7: Train Loss=0.0007, Validation Loss=0.0007, Validation acc=76.5100\n",
            "Epoch 8: Train Loss=0.0006, Validation Loss=0.0006, Validation acc=77.4000\n",
            "Epoch 9: Train Loss=0.0006, Validation Loss=0.0006, Validation acc=76.9700\n",
            "Epoch 10: Train Loss=0.0006, Validation Loss=0.0006, Validation acc=78.5400\n",
            "Epoch 11: Train Loss=0.0006, Validation Loss=0.0006, Validation acc=79.0500\n",
            "Epoch 12: Train Loss=0.0005, Validation Loss=0.0006, Validation acc=79.9900\n",
            "Epoch 13: Train Loss=0.0005, Validation Loss=0.0006, Validation acc=79.8100\n",
            "Epoch 14: Train Loss=0.0005, Validation Loss=0.0005, Validation acc=80.1100\n",
            "Epoch 15: Train Loss=0.0005, Validation Loss=0.0005, Validation acc=81.4400\n",
            "Epoch 16: Train Loss=0.0005, Validation Loss=0.0005, Validation acc=81.6100\n",
            "Epoch 17: Train Loss=0.0005, Validation Loss=0.0005, Validation acc=81.7800\n",
            "Epoch 18: Train Loss=0.0005, Validation Loss=0.0005, Validation acc=82.7300\n",
            "Epoch 19: Train Loss=0.0005, Validation Loss=0.0005, Validation acc=83.0300\n"
          ]
        }
      ]
    },
    {
      "cell_type": "markdown",
      "source": [
        "We predict the test set labels and calculate the corresponding metrics."
      ],
      "metadata": {
        "id": "z_4rc1u4yQU1"
      }
    },
    {
      "cell_type": "code",
      "source": [
        "print('Predictions using the MLP: ')\n",
        "predict(model=model_mlp, test_dataloader=test_dataloader, device=DEVICE)\n",
        "\n",
        "print('Predictions using the CNN: ')\n",
        "predict(model=model_cnn, test_dataloader=test_dataloader, device=DEVICE)"
      ],
      "metadata": {
        "colab": {
          "base_uri": "https://localhost:8080/"
        },
        "id": "cxy2bj_DyQZn",
        "outputId": "9392423b-fbf5-41c1-a659-2f6916200cb3"
      },
      "execution_count": 37,
      "outputs": [
        {
          "output_type": "stream",
          "name": "stdout",
          "text": [
            "Predictions using the MLP: \n",
            "Test set: Avg. loss: 0.0005, Accuracy: 8353/10000 (84%)\n",
            "Predictions using the CNN: \n",
            "Test set: Avg. loss: 0.0005, Accuracy: 8188/10000 (82%)\n"
          ]
        },
        {
          "output_type": "execute_result",
          "data": {
            "text/plain": [
              "(0.0005079107701778412, tensor(81.8800, device='cuda:0'))"
            ]
          },
          "metadata": {},
          "execution_count": 37
        }
      ]
    },
    {
      "cell_type": "markdown",
      "source": [
        "Now we plot the train/val curves for both models."
      ],
      "metadata": {
        "id": "33bBrLXCxjwx"
      }
    },
    {
      "cell_type": "code",
      "source": [
        "fig = plt.figure(figsize=(8,6), dpi=80)\n",
        "plt.title('Loss progression across epochs ', fontsize=14)\n",
        "plt.xlabel('Epoch')\n",
        "plt.ylabel('Loss')\n",
        "plt.plot(train_losses_mlp, label='train MLP')\n",
        "plt.plot(valid_losses_mlp, label='val MLP')\n",
        "plt.plot(train_losses_cnn, label='train CNN')\n",
        "plt.plot(valid_losses_cnn, label='val CNN')\n",
        "plt.legend(fontsize=10)"
      ],
      "metadata": {
        "colab": {
          "base_uri": "https://localhost:8080/",
          "height": 464
        },
        "id": "JK9_ERpOxj2D",
        "outputId": "4aeb5319-6841-4dbb-a59e-e269cf43e85e"
      },
      "execution_count": 38,
      "outputs": [
        {
          "output_type": "execute_result",
          "data": {
            "text/plain": [
              "<matplotlib.legend.Legend at 0x7f31f6d13a90>"
            ]
          },
          "metadata": {},
          "execution_count": 38
        },
        {
          "output_type": "display_data",
          "data": {
            "text/plain": [
              "<Figure size 640x480 with 1 Axes>"
            ],
            "image/png": "[encoded data removed]"
          },
          "metadata": {
            "needs_background": "light"
          }
        }
      ]
    },
    {
      "cell_type": "markdown",
      "source": [
        "## Exercise 3: Multi-Task Learning with `MultiMNIST`"
      ],
      "metadata": {
        "id": "jt3n6oqi1rKH"
      }
    },
    {
      "cell_type": "markdown",
      "source": [
        "### Task 1: Function `make_new_sample`"
      ],
      "metadata": {
        "id": "JP71-EegyI0P"
      }
    },
    {
      "cell_type": "code",
      "source": [
        "def make_new_sample(x1: torch.Tensor, x2: torch.Tensor) -> torch.Tensor:\n",
        "  res = torch.zeros((1,36,36))\n",
        "  res[0, :28, :28] = x1\n",
        "  res[0, 8:, 8:] = torch.maximum(res[0, 8:, 8:], x2)\n",
        "  return res"
      ],
      "metadata": {
        "id": "G688A4nj1yM7"
      },
      "execution_count": 39,
      "outputs": []
    },
    {
      "cell_type": "markdown",
      "source": [
        "### Task 2: Creating the `MultiMNIST` dataset"
      ],
      "metadata": {
        "id": "lH661UTOySd3"
      }
    },
    {
      "cell_type": "code",
      "source": [
        "TRAIN_SIZE = 60000\n",
        "TEST_SIZE = 10000\n",
        "\n",
        "# The data are given as PIL images. We need to convert our data to a type \n",
        "# that is readable by a Neural Network. Thus, we use the ToTensor() \"transform\" \n",
        "transform = T.Compose([\n",
        "    T.ToTensor()\n",
        "])\n",
        "\n",
        "train_mnist = torchvision.datasets.MNIST(\n",
        "    root='./data/', \n",
        "    train=True, \n",
        "    download=True,\n",
        "    transform=transform)\n",
        "\n",
        "test_mnist = torchvision.datasets.MNIST(\n",
        "    root='./data/', \n",
        "    train=False, \n",
        "    download=True,\n",
        "    transform=transform)"
      ],
      "metadata": {
        "id": "1ro1_Fe-4Kc-"
      },
      "execution_count": 40,
      "outputs": []
    },
    {
      "cell_type": "code",
      "source": [
        "train_indices = np.random.randint(low=0, high=TRAIN_SIZE, size=(TRAIN_SIZE,2))\n",
        "test_indices = np.random.randint(low=0, high=TEST_SIZE, size=(TEST_SIZE,2))\n",
        "\n",
        "# Creating training samples and labels\n",
        "train_multimnist_samples = []\n",
        "train_multimnist_label1 = []\n",
        "train_multimnist_label2 = []\n",
        "for i in range(TRAIN_SIZE):\n",
        "  img1 = train_indices[i][0]\n",
        "  img2 = train_indices[i][1]\n",
        "  multi_image = make_new_sample(train_mnist[img1][0][0], train_mnist[img2][0][0])\n",
        "  train_multimnist_samples.append(multi_image)\n",
        "  train_multimnist_label1.append(train_mnist[img1][1])\n",
        "  train_multimnist_label2.append(train_mnist[img2][1])\n",
        "\n",
        "# Creating test samples and labels\n",
        "test_multimnist_samples = []\n",
        "test_multimnist_label1 = []\n",
        "test_multimnist_label2 = []\n",
        "for i in range(TEST_SIZE):\n",
        "  img1 = test_indices[i][0]\n",
        "  img2 = test_indices[i][1]\n",
        "  multi_image = make_new_sample(test_mnist[img1][0][0], test_mnist[img2][0][0])\n",
        "  test_multimnist_samples.append(multi_image)\n",
        "  test_multimnist_label1.append(test_mnist[img1][1])\n",
        "  test_multimnist_label2.append(test_mnist[img2][1])"
      ],
      "metadata": {
        "id": "CbD3DTIroUVi"
      },
      "execution_count": 41,
      "outputs": []
    },
    {
      "cell_type": "code",
      "source": [
        "class MultiMNIST(Dataset):\n",
        "  def __init__(self, samples, label1, label2):\n",
        "    self.samples = samples\n",
        "    self.label1 = label1\n",
        "    self.label2 = label2\n",
        "\n",
        "  def __len__(self):\n",
        "    return len(self.samples)\n",
        "\n",
        "  def __getitem__(self, idx):\n",
        "    return self.samples[idx], self.label1[idx], self.label2[idx]"
      ],
      "metadata": {
        "id": "KNHNt-HFoXbI"
      },
      "execution_count": 42,
      "outputs": []
    },
    {
      "cell_type": "code",
      "source": [
        "train_dataset = MultiMNIST(train_multimnist_samples, train_multimnist_label1, train_multimnist_label2)\n",
        "\n",
        "train_dataset,  valid_dataset = random_split(\n",
        "    train_dataset, \n",
        "    lengths=[50000, 10000], \n",
        "    generator=torch.Generator().manual_seed(456)\n",
        ")\n",
        "\n",
        "test_dataset = MultiMNIST(test_multimnist_samples, test_multimnist_label1, test_multimnist_label2)"
      ],
      "metadata": {
        "id": "2gBy9OVspY6e"
      },
      "execution_count": 43,
      "outputs": []
    },
    {
      "cell_type": "code",
      "source": [
        "# Define the hyperparameters\n",
        "BATCH_SIZE = 1024\n",
        "TEST_BATCH_SIZE = 1024\n",
        "\n",
        "# Find out which device is available\n",
        "DEVICE = torch.device(\"cuda\" if torch.cuda.is_available() else \"cpu\")\n",
        "print(DEVICE)\n",
        "\n",
        "# construct the dataloader for the traininig dataset. \n",
        "# Here we shuffle the data to promote stochasticity.\n",
        "train_dataloader = DataLoader(\n",
        "    dataset=train_dataset, \n",
        "    batch_size=BATCH_SIZE,\n",
        "    shuffle=True, \n",
        "    num_workers=2)\n",
        "\n",
        "valid_dataloader = DataLoader(\n",
        "    dataset=valid_dataset, \n",
        "    batch_size=TEST_BATCH_SIZE,\n",
        "    shuffle=False, \n",
        "    num_workers=2)\n",
        "\n",
        "# Construct the dataloader for the testing dataset.\n",
        "test_dataloader = DataLoader(\n",
        "    dataset=test_dataset, \n",
        "    batch_size=TEST_BATCH_SIZE,\n",
        "    shuffle=False, \n",
        "    num_workers=2)"
      ],
      "metadata": {
        "colab": {
          "base_uri": "https://localhost:8080/"
        },
        "id": "vB8tKhFvqs_B",
        "outputId": "79fa01ee-deda-4d8f-81dd-dbb19738f277"
      },
      "execution_count": 44,
      "outputs": [
        {
          "output_type": "stream",
          "name": "stdout",
          "text": [
            "cuda\n"
          ]
        }
      ]
    },
    {
      "cell_type": "code",
      "source": [
        "# Get the first 10 images of the train dataset. Hint: use next(), iter()\n",
        "images = next(iter(train_dataloader))[0][:10]\n",
        "grid = torchvision.utils.make_grid(images, nrow=5, padding=10)\n",
        "\n",
        "def show(img):\n",
        "    npimg = img.numpy()\n",
        "    plt.figure(figsize=(10,8), dpi=80)\n",
        "    plt.imshow(np.transpose(npimg, (1,2,0)), interpolation='nearest')\n",
        "\n",
        "show(grid)"
      ],
      "metadata": {
        "colab": {
          "base_uri": "https://localhost:8080/",
          "height": 316
        },
        "id": "VWSQYiw5rieF",
        "outputId": "0f5903cb-a1a1-4cb8-eb0d-a09b11240b8a"
      },
      "execution_count": 45,
      "outputs": [
        {
          "output_type": "display_data",
          "data": {
            "text/plain": [
              "<Figure size 800x640 with 1 Axes>"
            ],
            "image/png": "[encoded data removed]"
          },
          "metadata": {
            "needs_background": "light"
          }
        }
      ]
    },
    {
      "cell_type": "markdown",
      "source": [
        "### Task 3: Creating the Multi-Task model"
      ],
      "metadata": {
        "id": "IqV3md-Lyd67"
      }
    },
    {
      "cell_type": "code",
      "source": [
        "class MultiTaskModel(nn.Module):\n",
        "  def __init__(self):\n",
        "    super().__init__()\n",
        "\n",
        "    self.conv = nn.Sequential(\n",
        "      nn.Conv2d(in_channels=1, out_channels=10, kernel_size=5, stride=1, padding=2),\n",
        "      nn.ReLU(),\n",
        "      nn.MaxPool2d(kernel_size=2),\n",
        "      nn.Conv2d(in_channels=10, out_channels=20, kernel_size=5, stride=1, padding=2),\n",
        "      nn.ReLU(),\n",
        "      nn.MaxPool2d(kernel_size=2)\n",
        "    )\n",
        "    self.linear = nn.Linear(1620,50)\n",
        "    self.out1 = nn.Linear(50,10)\n",
        "    self.out2 = nn.Linear(50,10)\n",
        "\n",
        "  def forward(self, x):\n",
        "    # propagate through convolutional layers\n",
        "    x = self.conv(x)\n",
        "    # flattening the \"convolutional\" output\n",
        "    x = x.view(x.size(0), -1)\n",
        "    # propagate through FC layer\n",
        "    x = self.linear(x)\n",
        "\n",
        "    # decode first image\n",
        "    x1 = self.out1(x)\n",
        "    # decode second image\n",
        "    x2 = self.out2(x)\n",
        "\n",
        "    return x1, x2"
      ],
      "metadata": {
        "id": "UrKFBKClw06-"
      },
      "execution_count": 46,
      "outputs": []
    },
    {
      "cell_type": "markdown",
      "source": [
        "### Task 4: Training the Multi-Task model"
      ],
      "metadata": {
        "id": "j39jrRUs25N3"
      }
    },
    {
      "cell_type": "code",
      "source": [
        "def train_epoch_multi(\n",
        "    model: nn.Module, \n",
        "    train_dataloader: DataLoader, \n",
        "    optimizer: torch.optim.Optimizer, \n",
        "    device: torch.device\n",
        "    ):\n",
        "    '''\n",
        "    This function implements the core components of any Neural Network training regiment.\n",
        "    In our stochastic setting our code follows a very specific \"path\". First, we load the batch\n",
        "    a single batch and zero the optimizer. Then we perform the forward pass, compute the gradients and perform the backward pass. And ...repeat!\n",
        "    '''\n",
        "\n",
        "    running_loss = 0.0\n",
        "    model = model.to(device)\n",
        "    model.train()\n",
        "    for batch_idx, (data, target1, target2) in enumerate(train_dataloader):\n",
        "        # move data and target to device\n",
        "        data, target1, target2 = data.to(device), target1.to(device), target2.to(device)\n",
        "        # zero the parameter gradients\n",
        "        optimizer.zero_grad()\n",
        "        # do the forward pass\n",
        "        output1, output2 = model(data)\n",
        "        # compute the loss\n",
        "        loss1, loss2 = F.cross_entropy(output1, target1), F.cross_entropy(output2, target2)\n",
        "        loss = (loss1 + loss2) / 2\n",
        "\n",
        "        # compute the gradients\n",
        "        loss.backward()\n",
        "\n",
        "        # perform the gradient step\n",
        "        optimizer.step()\n",
        "        \n",
        "        # print statistics\n",
        "        running_loss += loss.item()\n",
        "    \n",
        "    return running_loss / len(train_dataloader.dataset)"
      ],
      "metadata": {
        "id": "j53r3_ol2LiC"
      },
      "execution_count": 47,
      "outputs": []
    },
    {
      "cell_type": "code",
      "source": [
        "def fit_multi(\n",
        "    model: nn.Module, \n",
        "    train_dataloader: DataLoader, \n",
        "    optimizer: torch.optim.Optimizer, \n",
        "    epochs: int, \n",
        "    device: torch.device,\n",
        "    valid_dataloader: Optional[DataLoader]=None):\n",
        "    '''\n",
        "    the fit method simply calls the train_epoch() method for a \n",
        "    specified number of epochs.\n",
        "    '''\n",
        "\n",
        "    # keep track of the losses in order to visualize them later\n",
        "    # Train for numerous epochs:\n",
        "    train_losses = []\n",
        "    valid_losses = []\n",
        "    valid_accs = []\n",
        "    for epoch in range(epochs):\n",
        "        train_loss = train_epoch_multi(\n",
        "            model=model, \n",
        "            train_dataloader=train_dataloader, \n",
        "            optimizer=optimizer, \n",
        "            device=device\n",
        "        )\n",
        "        train_losses.append(train_loss)\n",
        "\n",
        "        if valid_dataloader is not None:\n",
        "            valid_loss, valid_acc = predict_multi(model, valid_dataloader, device, verbose=False)\n",
        "            valid_losses.append(valid_loss)\n",
        "            valid_accs.append(valid_acc)\n",
        "\n",
        "        if valid_dataloader is None:\n",
        "            print(f\"Epoch {epoch}: Train Loss={train_loss:.4f}\")\n",
        "        else:\n",
        "            print(f\"Epoch {epoch}: Train Loss={train_loss:.4f}, Validation Loss={valid_loss:.4f}, Validation acc={valid_acc:.4f}\")\n",
        "\n",
        "    return train_losses, valid_losses, valid_accs"
      ],
      "metadata": {
        "id": "r3guZs13EsqM"
      },
      "execution_count": 48,
      "outputs": []
    },
    {
      "cell_type": "code",
      "source": [
        "def predict_multi(model: nn.Module, test_dataloader: DataLoader, device: torch.device, verbose=True):\n",
        "    model.eval()\n",
        "    test_loss = 0\n",
        "    correct = 0\n",
        "    with torch.no_grad():\n",
        "        for data, target1, target2 in test_dataloader:\n",
        "            data, target1, target2 = data.to(device), target1.to(device), target2.to(device)\n",
        "            output1, output2 = model(data)\n",
        "            loss1, loss2 = F.cross_entropy(output1, target1), F.cross_entropy(output2, target2)\n",
        "            loss = (loss1 + loss2) / 2\n",
        "            test_loss += loss.item()\n",
        "            pred1 = output1.data.max(1, keepdim=True)[1]\n",
        "            pred2 = output2.data.max(1, keepdim=True)[1]\n",
        "            correct += pred1.eq(target1.data.view_as(pred1)).sum() + pred2.eq(target2.data.view_as(pred2)).sum()\n",
        "\n",
        "    test_loss /= len(test_dataloader.dataset)\n",
        "    accuracy = 100.0 * correct / (len(test_dataloader.dataset)*2)\n",
        "\n",
        "    if verbose:\n",
        "        print(\n",
        "            f\"Test set: Avg. loss: {test_loss:.4f}, Accuracy: {correct}/{2*len(test_dataloader.dataset)} ({accuracy:.0f}%)\"\n",
        "        )\n",
        "\n",
        "    return test_loss, accuracy"
      ],
      "metadata": {
        "id": "AF9s_uVw7Nm7"
      },
      "execution_count": 49,
      "outputs": []
    },
    {
      "cell_type": "code",
      "source": [
        "LEARNING_RATE = 0.01\n",
        "MOMENTUM = 0.9\n",
        "EPOCHS = 20\n",
        "\n",
        "# Find out which device is available\n",
        "DEVICE = torch.device(\"cuda\" if torch.cuda.is_available() else \"cpu\")\n",
        "print(DEVICE)\n",
        "\n",
        "model_mtm = MultiTaskModel()\n",
        "\n",
        "optimizer_mtm = optim.SGD(model_mtm.parameters(), lr=LEARNING_RATE, momentum=MOMENTUM, nesterov=True)"
      ],
      "metadata": {
        "colab": {
          "base_uri": "https://localhost:8080/"
        },
        "id": "Wef4VTnkDhC4",
        "outputId": "0ff41339-7f28-4887-fcf0-d77020d830b0"
      },
      "execution_count": 50,
      "outputs": [
        {
          "output_type": "stream",
          "name": "stdout",
          "text": [
            "cuda\n"
          ]
        }
      ]
    },
    {
      "cell_type": "code",
      "source": [
        "# Training the MultiTask model\n",
        "print(f\"%\"*100)\n",
        "print(f\"Training the MultiTask model\")\n",
        "print(f\"%\"*100)\n",
        "train_losses_mtm, valid_losses_mtm, valid_accs_mtm = fit_multi(\n",
        "        model=model_mtm, \n",
        "        train_dataloader=train_dataloader,\n",
        "        valid_dataloader=valid_dataloader,\n",
        "        optimizer=optimizer_mtm,\n",
        "        epochs=EPOCHS,\n",
        "        device=DEVICE\n",
        "    )"
      ],
      "metadata": {
        "colab": {
          "base_uri": "https://localhost:8080/"
        },
        "id": "gXfk6NZWDmUi",
        "outputId": "6c0580c6-5ec2-465d-c624-c88367a31de7"
      },
      "execution_count": 51,
      "outputs": [
        {
          "output_type": "stream",
          "name": "stdout",
          "text": [
            "%%%%%%%%%%%%%%%%%%%%%%%%%%%%%%%%%%%%%%%%%%%%%%%%%%%%%%%%%%%%%%%%%%%%%%%%%%%%%%%%%%%%%%%%%%%%%%%%%%%%\n",
            "Training the MultiTask model\n",
            "%%%%%%%%%%%%%%%%%%%%%%%%%%%%%%%%%%%%%%%%%%%%%%%%%%%%%%%%%%%%%%%%%%%%%%%%%%%%%%%%%%%%%%%%%%%%%%%%%%%%\n",
            "Epoch 0: Train Loss=0.0022, Validation Loss=0.0022, Validation acc=36.7850\n",
            "Epoch 1: Train Loss=0.0016, Validation Loss=0.0008, Validation acc=76.8300\n",
            "Epoch 2: Train Loss=0.0006, Validation Loss=0.0005, Validation acc=86.2250\n",
            "Epoch 3: Train Loss=0.0004, Validation Loss=0.0004, Validation acc=88.8250\n",
            "Epoch 4: Train Loss=0.0003, Validation Loss=0.0003, Validation acc=90.2300\n",
            "Epoch 5: Train Loss=0.0003, Validation Loss=0.0003, Validation acc=91.6850\n",
            "Epoch 6: Train Loss=0.0003, Validation Loss=0.0003, Validation acc=92.4150\n",
            "Epoch 7: Train Loss=0.0002, Validation Loss=0.0002, Validation acc=93.1750\n",
            "Epoch 8: Train Loss=0.0002, Validation Loss=0.0002, Validation acc=93.8050\n",
            "Epoch 9: Train Loss=0.0002, Validation Loss=0.0002, Validation acc=94.0600\n",
            "Epoch 10: Train Loss=0.0002, Validation Loss=0.0002, Validation acc=94.3550\n",
            "Epoch 11: Train Loss=0.0002, Validation Loss=0.0002, Validation acc=94.8700\n",
            "Epoch 12: Train Loss=0.0002, Validation Loss=0.0002, Validation acc=94.9700\n",
            "Epoch 13: Train Loss=0.0001, Validation Loss=0.0002, Validation acc=95.2700\n",
            "Epoch 14: Train Loss=0.0001, Validation Loss=0.0001, Validation acc=95.4450\n",
            "Epoch 15: Train Loss=0.0001, Validation Loss=0.0001, Validation acc=95.4900\n",
            "Epoch 16: Train Loss=0.0001, Validation Loss=0.0001, Validation acc=95.5300\n",
            "Epoch 17: Train Loss=0.0001, Validation Loss=0.0001, Validation acc=95.9300\n",
            "Epoch 18: Train Loss=0.0001, Validation Loss=0.0001, Validation acc=95.9950\n",
            "Epoch 19: Train Loss=0.0001, Validation Loss=0.0001, Validation acc=96.1250\n"
          ]
        }
      ]
    },
    {
      "cell_type": "code",
      "source": [
        "print('Predictions using the MultiTask model: ')\n",
        "predict_multi(model=model_mtm, test_dataloader=test_dataloader, device=DEVICE)"
      ],
      "metadata": {
        "colab": {
          "base_uri": "https://localhost:8080/"
        },
        "id": "89r59E7zEh0b",
        "outputId": "7fdc0c5c-3e94-4507-806f-d46ba6b2b665"
      },
      "execution_count": 52,
      "outputs": [
        {
          "output_type": "stream",
          "name": "stdout",
          "text": [
            "Predictions using the MultiTask model: \n",
            "Test set: Avg. loss: 0.0001, Accuracy: 19200/20000 (96%)\n"
          ]
        },
        {
          "output_type": "execute_result",
          "data": {
            "text/plain": [
              "(0.00012554885298013687, tensor(96., device='cuda:0'))"
            ]
          },
          "metadata": {},
          "execution_count": 52
        }
      ]
    },
    {
      "cell_type": "code",
      "source": [
        "fig = plt.figure(figsize=(8,6), dpi=80)\n",
        "plt.title('Loss - Multi-Task Model ', fontsize=14)\n",
        "plt.xlabel('Epoch')\n",
        "plt.ylabel('Loss')\n",
        "plt.plot(train_losses_mtm, label='train')\n",
        "plt.plot(valid_losses_mtm, label='val')\n",
        "plt.legend(fontsize=10)"
      ],
      "metadata": {
        "colab": {
          "base_uri": "https://localhost:8080/",
          "height": 464
        },
        "id": "jLXpawVAE3Su",
        "outputId": "a2f39188-759e-4f6c-99a3-8a3986cfcb7e"
      },
      "execution_count": 53,
      "outputs": [
        {
          "output_type": "execute_result",
          "data": {
            "text/plain": [
              "<matplotlib.legend.Legend at 0x7f31b9d9a8e0>"
            ]
          },
          "metadata": {},
          "execution_count": 53
        },
        {
          "output_type": "display_data",
          "data": {
            "text/plain": [
              "<Figure size 640x480 with 1 Axes>"
            ],
            "image/png": "[encoded data removed]"
          },
          "metadata": {
            "needs_background": "light"
          }
        }
      ]
    }
  ],
  "metadata": {
    "colab": {
      "provenance": [],
      "collapsed_sections": [
        "nin18ZUfttp0",
        "5qYdc6tMH7lZ",
        "VSusDtr-Tgju",
        "JmujS-gQlCzt"
      ]
    },
    "kernelspec": {
      "display_name": "Python 3 (ipykernel)",
      "language": "python",
      "name": "python3"
    },
    "language_info": {
      "codemirror_mode": {
        "name": "ipython",
        "version": 3
      },
      "file_extension": ".py",
      "mimetype": "text/x-python",
      "name": "python",
      "nbconvert_exporter": "python",
      "pygments_lexer": "ipython3",
      "version": "3.9.12"
    },
    "accelerator": "GPU",
    "gpuClass": "standard"
  },
  "nbformat": 4,
  "nbformat_minor": 0
}