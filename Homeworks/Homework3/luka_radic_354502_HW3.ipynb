{
  "cells": [
    {
      "cell_type": "markdown",
      "metadata": {
        "id": "rdbLD14fsnFc",
        "tags": []
      },
      "source": [
        "# Homework 3 - Luka Radić\n",
        "## SCIPER: 354502"
      ]
    },
    {
      "cell_type": "markdown",
      "metadata": {
        "id": "25eNQUQEtRY9",
        "tags": []
      },
      "source": [
        "## Import the libraries needed"
      ]
    },
    {
      "cell_type": "code",
      "execution_count": 1,
      "metadata": {
        "id": "f31vHJl-tTvg"
      },
      "outputs": [],
      "source": [
        "import numpy as np\n",
        "import torch\n",
        "import torch.nn as nn\n",
        "import torch.nn.functional as F\n",
        "import torch.optim as optim\n",
        "import torchvision\n",
        "import torchvision.transforms as T\n",
        "import matplotlib.pyplot as plt\n",
        "from torch.utils.data import Dataset, DataLoader, Subset, random_split\n",
        "from typing import Optional\n",
        "from itertools import product"
      ]
    },
    {
      "cell_type": "markdown",
      "metadata": {
        "id": "nin18ZUfttp0",
        "jp-MarkdownHeadingCollapsed": true,
        "tags": []
      },
      "source": [
        "## Exercise 1: Backpropagation with logistic loss"
      ]
    },
    {
      "cell_type": "markdown",
      "source": [
        "We first define the `sigmoid` and `grad_sigmoid` functions that we will use throughout the exercise."
      ],
      "metadata": {
        "id": "lcm3CvfoVPDn"
      }
    },
    {
      "cell_type": "code",
      "execution_count": 2,
      "metadata": {
        "id": "46G2sLaquudg"
      },
      "outputs": [],
      "source": [
        "# Defining the constants used throughout the exercise\n",
        "D = 5\n",
        "K = 6\n",
        "\n",
        "def sigmoid(x):\n",
        "    return 1.0 / (1 + np.exp(-x))\n",
        "\n",
        "def grad_sigmoid(x):\n",
        "    return sigmoid(x) * (1 - sigmoid(x))"
      ]
    },
    {
      "cell_type": "markdown",
      "metadata": {
        "id": "co24-RInH7lS"
      },
      "source": [
        "### Task 1: `predict` function"
      ]
    },
    {
      "cell_type": "markdown",
      "source": [
        "The `predict` function takes a batch of samples and the weights between input and hidden layers, as well as hidden and output layers, and returns a prediction in the interval $[0,1]$."
      ],
      "metadata": {
        "id": "eer3tuz4WkDy"
      }
    },
    {
      "cell_type": "code",
      "execution_count": 3,
      "metadata": {
        "id": "A7qgZ-6itzz1"
      },
      "outputs": [],
      "source": [
        "def predict(X,W):\n",
        "    X_0 = X\n",
        "\n",
        "    W_1 = W[\"w_1\"]\n",
        "    w_2 = W[\"w_2\"]\n",
        "\n",
        "    Z_1 = X_0 @ W_1\n",
        "    X_1 = sigmoid(Z_1)\n",
        "    z_2 = X_1 @ w_2\n",
        "    y_hat = sigmoid(z_2)\n",
        "\n",
        "    return Z_1, z_2, y_hat"
      ]
    },
    {
      "cell_type": "markdown",
      "metadata": {
        "id": "3Dpb43naH7lS"
      },
      "source": [
        "### Task 2: `logistic_loss` function"
      ]
    },
    {
      "cell_type": "code",
      "execution_count": 4,
      "metadata": {
        "id": "DsmnOacmH7lT"
      },
      "outputs": [],
      "source": [
        "def logistic_loss(y, y_hat):\n",
        "    eps = 1e-12\n",
        "    log_loss = -y.dot(np.log(y_hat+eps)) - (1-y).dot(np.log(1-y_hat+eps))\n",
        "    return np.mean( log_loss )"
      ]
    },
    {
      "cell_type": "code",
      "execution_count": 5,
      "metadata": {
        "colab": {
          "base_uri": "https://localhost:8080/"
        },
        "id": "_-nPJxUJH7lT",
        "outputId": "2bd4202d-a233-43f3-986a-0f1445c5b554"
      },
      "outputs": [
        {
          "output_type": "stream",
          "name": "stdout",
          "text": [
            "The average log-loss of the batch is -5.000444502909205e-12\n"
          ]
        }
      ],
      "source": [
        "B = 5 # esentially it can be anything, the result does not depend on it\n",
        "y = np.zeros(B)\n",
        "y_hat = np.zeros(B)\n",
        "log_loss = logistic_loss(y, y_hat)\n",
        "print(\"The average log-loss of the batch is {}\".format(log_loss))"
      ]
    },
    {
      "cell_type": "markdown",
      "source": [
        "When $y=0$ and $\\hat{y}=0$, the logistic loss comes down to:\n",
        "$$\n",
        "\\mathcal{L}(0,0) = 0 \\log0 - 1 \\log1 = 0 \n",
        "$$\n",
        "However, even though the first term is $0$ so we do not actually need to calculate $\\log0$, python does so and it outputs an error because $\\log0$ is undefined (goes to $-\\infty$). This could also pose a problem when our prediction is very wrong i.e., when for instance $y=1$ and $\\hat{y}=0$. We could add a small constant $\\varepsilon=10^{-12}$ inside the $\\log$s, but then the function output, even though it is small, is not exactly zero (as expected). For very low $\\log$ arguments, small changes in the input produce large output changes, so the question of the optimal $\\varepsilon$ value arises. We try to fix these problems by implementing a stable logistic loss. "
      ],
      "metadata": {
        "id": "9ZLWJgOVdsv9"
      }
    },
    {
      "cell_type": "markdown",
      "metadata": {
        "id": "Y-61MxHJH7lT"
      },
      "source": [
        "### Task 3: `stable_logistic_loss` function"
      ]
    },
    {
      "cell_type": "markdown",
      "source": [
        "Let us first derive the expression for logistic loss as a function of $z^{(2)}$.\n",
        "$$\n",
        "\\begin{align*}\n",
        "  \\mathcal{L}(y,z^{(2)}) &= y \\log\\frac{1}{\\hat{y}} + (1-y) \\log \\frac{1}{1-\\hat{y}} \\\\\n",
        "  &= y \\log \\left(1+e^{-z^{(2)}}\\right) + (1-y)\\log\\left(\\frac{1+e^{-z^{(2)}}}{e^{-z^{(2)}}}\\right) \\\\\n",
        "  &= y \\log \\left(1+e^{-z^{(2)}}\\right) + (1-y)\\log\\left(1+e^{z^{(2)}}\\right)\n",
        "\\end{align*}\n",
        "$$\n",
        "\n",
        "We then implement this as a stable logistic loss."
      ],
      "metadata": {
        "id": "-4GSO3AKjbFu"
      }
    },
    {
      "cell_type": "code",
      "execution_count": 6,
      "metadata": {
        "id": "imGUrtChH7lU"
      },
      "outputs": [],
      "source": [
        "def stable_logistic_loss(y, z_2):\n",
        "    log_loss = y.dot(np.logaddexp(0,-z_2)) + (1-y).dot(np.logaddexp(0,z_2))\n",
        "    return np.mean( log_loss )"
      ]
    },
    {
      "cell_type": "code",
      "execution_count": 7,
      "metadata": {
        "colab": {
          "base_uri": "https://localhost:8080/"
        },
        "id": "C-6zj2bHH7lU",
        "outputId": "f7110e58-9e29-42f9-f035-b9773b99c03d"
      },
      "outputs": [
        {
          "output_type": "stream",
          "name": "stdout",
          "text": [
            "The average stable-log-loss of the batch is 0.0\n"
          ]
        }
      ],
      "source": [
        "B = 5 # esentially it can be anything, the result does not depend on it\n",
        "y = np.zeros(B)\n",
        "z_2 = -1e10 * np.ones(B)\n",
        "stable_log_loss = stable_logistic_loss(y, z_2)\n",
        "print(\"The average stable-log-loss of the batch is {}\".format(stable_log_loss))"
      ]
    },
    {
      "cell_type": "markdown",
      "source": [
        "Why is this function stable? Well, let us look at the derivative of the standard logistic loss we implemented in *Task 2*, and for our current implementation. For the $batch\\_size=1$ case, it can be shown that\n",
        "$$\n",
        "\\frac{d \\mathcal{L}(y,\\hat{y})}{d \\hat{y}} = \\frac{\\hat{y}-y}{\\hat{y}(1-\\hat{y})}\n",
        "$$\n",
        "$$\n",
        "\\frac{d \\mathcal{L}_{stable}(y, z^{(2)})}{d z^{(2)}} = \\hat{y} - y\n",
        "$$\n",
        "We see that the derivative of our stable implementation is much more robust to small perturbations, and its absolute value is at most 1, while the standard implementation from *Task 2* can reach very high values."
      ],
      "metadata": {
        "id": "pIc3GljonDiU"
      }
    },
    {
      "cell_type": "markdown",
      "metadata": {
        "tags": [],
        "id": "MIfsfjpwH7lV"
      },
      "source": [
        "### Task 4: Analytical backpropagation"
      ]
    },
    {
      "cell_type": "markdown",
      "metadata": {
        "id": "p4npSqWEH7lV"
      },
      "source": [
        "Let us denote with:\n",
        "- $x_i^{(0)}$ the $i$-th component of the input vector\n",
        "- $w_{ij}^{(1)}$ the weight of the edge connecting $x_i^{(0)}$ and the $j$-th node in the hidden layer $z_j^{(1)}$\n",
        "- $w_j^{(2)}$ the weight of the edge connecting $z_j^{(1)}$ and the output node $z^{(2)}$\n",
        "- $\\hat{y}$ the final prediction\n",
        "\n",
        "where $i=\\overline{1,D},\\; j=\\overline{1,K}$. Note that the inputs of activation functions for each node in the NN can be calculated as:\n",
        "$$\n",
        "z_j^{(1)} = \\sum_{i=1}^D \\; w_{ij}^{(1)} x_i^{(0)}, \\quad z^{(2)} = \\sum_{j=1}^K \\; w_j^{(2)} \\sigma\\left(z_j^{(1)}\\right)\n",
        "$$\n",
        "We use the stable implementation of logistic loss:\n",
        "$$\n",
        "\\mathcal{L}(x,y,w) = y \\log\\left( 1 + e^{-z^{(2)}} \\right) + (1-y) \\log\\left( 1 + e^{z^{(2)}} \\right)\n",
        "$$\n",
        "\n",
        "We first find the partial derivatives of *hidden-output* weights:\n",
        "$$\n",
        "\\begin{align*}\n",
        "    \\frac{\\partial \\mathcal{L}(x,y,w)}{\\partial w_j^{(2)}} &= - y \\frac{e^{-z^{(2)}}}{1 + e^{-z^{(2)}}} \\frac{\\partial z^{(2)}}{\\partial w_j^{(2)}} + (1-y) \\frac{e^{z^{(2)}}}{1 + e^{z^{(2)}}} \\frac{\\partial z^{(2)}}{\\partial w_j^{(2)}} \\\\\n",
        "    &= \\left[ - y \\frac{e^{-z^{(2)}}}{1 + e^{-z^{(2)}}} + (1-y) \\frac{e^{z^{(2)}}}{1 + e^{z^{(2)}}} \\right] \\; \\sigma\\left(z_j^{(1)}\\right)\n",
        "\\end{align*}\n",
        "$$\n",
        "\n",
        "Now we find the partial derivatives of *input-hidden* weights. For that purpose, it is useful to rewrite $z^{(2)}$ as:\n",
        "$$\n",
        "z^{(2)} = \\sum_{j=1}^K \\; w_j^{(2)} \\sigma\\left(z_j^{(1)}\\right) = \\sum_{j=1}^K \\; w_j^{(2)} \\sigma\\left(\\sum_{i=1}^D \\; w_{ij}^{(1)} x_i^{(0)}\\right)\n",
        "$$\n",
        "\n",
        "$$\n",
        "\\begin{align*}\n",
        "    \\frac{\\partial \\mathcal{L}(x,y,w)}{\\partial w_{ij}^{(1)}} &= \\left[ - y \\frac{e^{-z^{(2)}}}{1 + e^{-z^{(2)}}} + (1-y) \\frac{e^{z^{(2)}}}{1 + e^{z^{(2)}}} \\right] \\frac{\\partial z^{(2)}}{\\partial w_{ij}^{(1)}} \\\\\n",
        "    &= \\left[ - y \\frac{e^{-z^{(2)}}}{1 + e^{-z^{(2)}}} + (1-y) \\frac{e^{z^{(2)}}}{1 + e^{z^{(2)}}} \\right] \\; w_j^{(2)} \\sigma'\\left(\\sum_{i=1}^D \\; w_{ij}^{(1)} x_i^{(0)}\\right) x_i^{(0)}\n",
        "\\end{align*}\n",
        "$$\n",
        "\n",
        "Considering that\n",
        "$$\n",
        "\\frac{d\\sigma(x)}{dx} = \\frac{e^{-x}}{(1+e^{-x})^2} = \\frac{1}{1+e^{-x}} \\left(\\frac{1+e^{-x}}{1+e^{-x}}-\\frac{1}{1+e^{-x}}\\right) = \\sigma(x)\\left[1-\\sigma(x)\\right]\n",
        "$$\n",
        "we can finally write the partial derivative as\n",
        "$$\n",
        "    \\frac{\\partial \\mathcal{L}(x,y,w)}{\\partial w_{ij}^{(1)}} = \\left[ - y \\frac{e^{-z^{(2)}}}{1 + e^{-z^{(2)}}} + (1-y) \\frac{e^{z^{(2)}}}{1 + e^{z^{(2)}}} \\right] \\; w_j^{(2)} \\sigma\\left(z_j^{(1)}\\right)\\left[1-\\sigma\\left(z_j^{(1)}\\right)\\right] x_i^{(0)}\n",
        "$$"
      ]
    },
    {
      "cell_type": "markdown",
      "metadata": {
        "id": "MpI77TMEH7lW"
      },
      "source": [
        "### Task 5: `gradient` function"
      ]
    },
    {
      "cell_type": "markdown",
      "source": [
        "Following the formulas derived above, we implement the `gradient` function, but keeping in mind that it is computed w.r.t the batch, not a signle sample."
      ],
      "metadata": {
        "id": "G2vCqBXXs5uX"
      }
    },
    {
      "cell_type": "code",
      "execution_count": 8,
      "metadata": {
        "id": "n1ENPd2MH7lX"
      },
      "outputs": [],
      "source": [
        "def gradient(X, y, W):\n",
        "    B = X.shape[0]\n",
        "    # Feedforward\n",
        "    Z_1, z_2, y_hat = predict(X, W)\n",
        "    X_1 = sigmoid(Z_1)\n",
        "    # Backpropagation\n",
        "    delta_2 = -y * np.exp(-z_2)/(1+np.exp(-z_2)) + (1-y)*np.exp(z_2)/(1+np.exp(z_2))\n",
        "    delta_w_2 = delta_2.reshape(-1,1) * X_1\n",
        "    delta_w_2_mean = np.mean(delta_w_2, axis=0)\n",
        "    delta_1 = delta_2.reshape(-1,1) * grad_sigmoid(Z_1) * W[\"w_2\"]\n",
        "    delta_w_1_mean = 1/B * X.T @ delta_1\n",
        "    \n",
        "    return {\n",
        "        \"w_1\": delta_w_1_mean,\n",
        "        \"w_2\": delta_w_2_mean\n",
        "    }"
      ]
    },
    {
      "cell_type": "markdown",
      "metadata": {
        "id": "u30uCZaNH7lY"
      },
      "source": [
        "## Exercise 2: Classifying `FashionMNIST` using neural networks"
      ]
    },
    {
      "cell_type": "markdown",
      "metadata": {
        "id": "5qYdc6tMH7lZ"
      },
      "source": [
        "### Task 1: Loading data"
      ]
    },
    {
      "cell_type": "markdown",
      "source": [
        "We load the train and test datasets. For our new train and validation sets, we take random subsets of the original training set, 50000 and 10000 images each. Since the images are in the PIL format, we need to convert them to tensors using `ToTensor()` transformation."
      ],
      "metadata": {
        "id": "9a5BRmRzJeIi"
      }
    },
    {
      "cell_type": "code",
      "execution_count": 12,
      "metadata": {
        "id": "IrvQbOfXH7lZ"
      },
      "outputs": [],
      "source": [
        "IMAGE_SIZE = 28*28\n",
        "\n",
        "# The data are given as PIL images. We need to convert our data to a type \n",
        "# that is readable by a Neural Network. Thus, we use the ToTensor() \"transform\" \n",
        "transform = T.Compose([\n",
        "    T.ToTensor()\n",
        "])\n",
        "\n",
        "# Load the training dataset\n",
        "train_dataset = torchvision.datasets.FashionMNIST(\n",
        "    root='./data/', \n",
        "    train=True, \n",
        "    download=True,\n",
        "    transform=transform)\n",
        "\n",
        "# Make a validation dataset by splitting the original training one\n",
        "train_dataset,  valid_dataset = random_split(\n",
        "    train_dataset, \n",
        "    lengths=[50000, 10000], \n",
        "    generator=torch.Generator().manual_seed(456)\n",
        ")\n",
        "\n",
        "# Load the test dataset\n",
        "test_dataset = torchvision.datasets.FashionMNIST(\n",
        "    root='./data/', \n",
        "    train=False, \n",
        "    download=True,\n",
        "    transform=transform)"
      ]
    },
    {
      "cell_type": "markdown",
      "source": [
        "Our datasets are quite large, so we cannot update them on a sample basis. Thus, we will train them in *batches*, which means that the model weights are updated only after a predefined number of samples have been \"feed-forwarded\". For that purpose, we construct dataloaders - wrappers for our train/test datasets."
      ],
      "metadata": {
        "id": "-9c_ZKh8LH_e"
      }
    },
    {
      "cell_type": "code",
      "source": [
        "# Define the hyperparameters\n",
        "BATCH_SIZE = 1024\n",
        "TEST_BATCH_SIZE = 1024\n",
        "LEARNING_RATE = 0.01\n",
        "\n",
        "# Find out which device is available\n",
        "DEVICE = torch.device(\"cuda\" if torch.cuda.is_available() else \"cpu\")\n",
        "print(DEVICE)\n",
        "\n",
        "# construct the dataloader for the traininig dataset. \n",
        "# Here we shuffle the data to promote stochasticity.\n",
        "train_dataloader = DataLoader(\n",
        "    dataset=train_dataset, \n",
        "    batch_size=BATCH_SIZE,\n",
        "    shuffle=True, \n",
        "    num_workers=2)\n",
        "\n",
        "valid_dataloader = DataLoader(\n",
        "    dataset=valid_dataset, \n",
        "    batch_size=TEST_BATCH_SIZE,\n",
        "    shuffle=False, \n",
        "    num_workers=2)\n",
        "\n",
        "# Construct the dataloader for the testing dataset.\n",
        "test_dataloader = DataLoader(\n",
        "    dataset=test_dataset, \n",
        "    batch_size=TEST_BATCH_SIZE,\n",
        "    shuffle=False, \n",
        "    num_workers=2)"
      ],
      "metadata": {
        "colab": {
          "base_uri": "https://localhost:8080/"
        },
        "id": "zs2bbQVNLINr",
        "outputId": "69132083-7355-4adc-9d13-5b342bbed4b9"
      },
      "execution_count": 13,
      "outputs": [
        {
          "output_type": "stream",
          "name": "stdout",
          "text": [
            "cuda\n"
          ]
        }
      ]
    },
    {
      "cell_type": "markdown",
      "source": [
        "Let us visualize some of the samples."
      ],
      "metadata": {
        "id": "gzN08cBbMf9m"
      }
    },
    {
      "cell_type": "code",
      "source": [
        "# Get the first 10 images of the train dataset. Hint: use next(), iter()\n",
        "images = next(iter(train_dataloader))[0][:10]\n",
        "grid = torchvision.utils.make_grid(images, nrow=5, padding=10)\n",
        "\n",
        "def show(img):\n",
        "    npimg = img.numpy()\n",
        "    plt.figure(figsize=(10,8), dpi=80)\n",
        "    plt.imshow(np.transpose(npimg, (1,2,0)), interpolation='nearest')\n",
        "\n",
        "show(grid)"
      ],
      "metadata": {
        "colab": {
          "base_uri": "https://localhost:8080/",
          "height": 319
        },
        "id": "vskTBV40Mfih",
        "outputId": "71e3c57f-3d88-4a7a-9f61-7b4b682c15d9"
      },
      "execution_count": 14,
      "outputs": [
        {
          "output_type": "display_data",
          "data": {
            "text/plain": [
              "<Figure size 800x640 with 1 Axes>"
            ],
            "image/png": "[encoded data removed]"
          },
          "metadata": {
            "needs_background": "light"
          }
        }
      ]
    },
    {
      "cell_type": "markdown",
      "source": [
        "### Task 2: MultiLayer Perceptron (MLP)"
      ],
      "metadata": {
        "id": "6mlOnY2RKzVz"
      }
    },
    {
      "cell_type": "markdown",
      "source": [
        "Now we define our MLP architecture with two hidden layers of 100 neurons each. Not that the `ReLU` is defined twice - for each hidden layer. Although ReLU is not layer-specific and without learnable parameters, meaning that it is always calling into a stateless function `max(0, x)`, some problems have been reported when using unique ReLU realization for every layer."
      ],
      "metadata": {
        "id": "bDK3iVxPRlSK"
      }
    },
    {
      "cell_type": "code",
      "source": [
        "class Net(nn.Module):\n",
        "  def __init__(self):\n",
        "    super().__init__()\n",
        "    # first hidden layer\n",
        "    self.fc1 =  nn.Linear(IMAGE_SIZE, 100)\n",
        "    self.relu1 = nn.ReLU()\n",
        "    # second hidden layer\n",
        "    self.fc2 = nn.Linear(100, 100)\n",
        "    self.relu2 = nn.ReLU()\n",
        "    # output layer; we have 10 classes\n",
        "    self.fc3 = nn.Linear(100, 10)\n",
        "\n",
        "  def forward(self, x: torch.Tensor) -> torch.Tensor:\n",
        "    batch_size = x.shape[0]\n",
        "    # flattening the images\n",
        "    x = x.view(batch_size, -1)\n",
        "\n",
        "    # forwardpass\n",
        "    x = self.fc1(x)\n",
        "    x = self.relu1(x)\n",
        "    x = self.fc2(x)\n",
        "    x = self.relu2(x)\n",
        "    x = self.fc3(x)\n",
        "    \n",
        "    return x"
      ],
      "metadata": {
        "id": "esR-fDFGK36y"
      },
      "execution_count": 15,
      "outputs": []
    },
    {
      "cell_type": "markdown",
      "source": [
        "We now define the functons `train_epoch` which contains the training logic during one training epoch."
      ],
      "metadata": {
        "id": "0lLOiKUKTAwP"
      }
    },
    {
      "cell_type": "code",
      "source": [
        "def train_epoch(\n",
        "    model: nn.Module, \n",
        "    train_dataloader: DataLoader, \n",
        "    optimizer: torch.optim.Optimizer, \n",
        "    device: torch.device\n",
        "    ):\n",
        "    '''\n",
        "    This function implements the core components of any Neural Network training regiment.\n",
        "    In our stochastic setting our code follows a very specific \"path\". First, we load the batch\n",
        "    a single batch and zero the optimizer. Then we perform the forward pass, compute the gradients and perform the backward pass. And ...repeat!\n",
        "    '''\n",
        "\n",
        "    running_loss = 0.0\n",
        "    model = model.to(device)\n",
        "    model.train()\n",
        "    for batch_idx, (data, target) in enumerate(train_dataloader):\n",
        "        # move data and target to device\n",
        "        data, target = data.to(device), target.to(device)\n",
        "        # zero the parameter gradients\n",
        "        optimizer.zero_grad()\n",
        "        # do the forward pass\n",
        "        output = model(data)\n",
        "        # compute the loss\n",
        "        loss = F.cross_entropy(output, target)\n",
        "        # compute the gradients\n",
        "        loss.backward()\n",
        "\n",
        "        # perform the gradient step\n",
        "        optimizer.step()\n",
        "        \n",
        "        # print statistics\n",
        "        running_loss += loss.item()\n",
        "    \n",
        "    return running_loss / len(train_dataloader.dataset)"
      ],
      "metadata": {
        "id": "cmpBF-8uSqB3"
      },
      "execution_count": 16,
      "outputs": []
    },
    {
      "cell_type": "markdown",
      "source": [
        "Next, we define the `predict` method, which evaluates how well our trained model performs on the test set. It is also used during training with cross-validation on the validation dataset to detect overfitting."
      ],
      "metadata": {
        "id": "au5WVXbLYkTx"
      }
    },
    {
      "cell_type": "code",
      "source": [
        "def predict(model: nn.Module, test_dataloader: DataLoader, device: torch.device, verbose=True):\n",
        "    model.eval()\n",
        "    test_loss = 0\n",
        "    correct = 0\n",
        "    with torch.no_grad():\n",
        "        for data, target in test_dataloader:\n",
        "            data, target = data.to(device), target.to(device)\n",
        "            output = model(data)\n",
        "            loss = F.cross_entropy(output, target)#, reduction=\"sum\")\n",
        "            test_loss += loss.item()\n",
        "            pred = output.data.max(1, keepdim=True)[1]\n",
        "            correct += pred.eq(target.data.view_as(pred)).sum()\n",
        "\n",
        "    test_loss /= len(test_dataloader.dataset)\n",
        "    accuracy = 100.0 * correct / len(test_dataloader.dataset)\n",
        "\n",
        "    if verbose:\n",
        "        print(\n",
        "            f\"Test set: Avg. loss: {test_loss:.4f}, Accuracy: {correct}/{len(test_dataloader.dataset)} ({accuracy:.0f}%)\"\n",
        "        )\n",
        "\n",
        "    return test_loss, accuracy"
      ],
      "metadata": {
        "id": "SNkcsK_iXVs9"
      },
      "execution_count": 17,
      "outputs": []
    },
    {
      "cell_type": "markdown",
      "source": [
        "Finally, we define the `fit` method, which contains all the logic for full model training with the possibility of cross-validation."
      ],
      "metadata": {
        "id": "iI8gYi6pY7Gm"
      }
    },
    {
      "cell_type": "code",
      "source": [
        "def fit(\n",
        "    model: nn.Module, \n",
        "    train_dataloader: DataLoader, \n",
        "    optimizer: torch.optim.Optimizer, \n",
        "    epochs: int, \n",
        "    device: torch.device,\n",
        "    valid_dataloader: Optional[DataLoader]=None):\n",
        "    '''\n",
        "    the fit method simply calls the train_epoch() method for a \n",
        "    specified number of epochs.\n",
        "    '''\n",
        "\n",
        "    # keep track of the losses in order to visualize them later\n",
        "    # Train for numerous epochs:\n",
        "    train_losses = []\n",
        "    valid_losses = []\n",
        "    valid_accs = []\n",
        "    for epoch in range(epochs):\n",
        "        train_loss = train_epoch(\n",
        "            model=model, \n",
        "            train_dataloader=train_dataloader, \n",
        "            optimizer=optimizer, \n",
        "            device=device\n",
        "        )\n",
        "        train_losses.append(train_loss)\n",
        "\n",
        "        if valid_dataloader is not None:\n",
        "            valid_loss, valid_acc = predict(model, valid_dataloader, device, verbose=False)\n",
        "            valid_losses.append(valid_loss)\n",
        "            valid_accs.append(valid_acc)\n",
        "\n",
        "        if valid_dataloader is None:\n",
        "            print(f\"Epoch {epoch}: Train Loss={train_loss:.4f}\")\n",
        "        else:\n",
        "            print(f\"Epoch {epoch}: Train Loss={train_loss:.4f}, Validation Loss={valid_loss:.4f}, Validation acc={valid_acc:.4f}\")\n",
        "\n",
        "    return train_losses, valid_losses, valid_accs"
      ],
      "metadata": {
        "id": "1eGz9y61UgwC"
      },
      "execution_count": 18,
      "outputs": []
    },
    {
      "cell_type": "markdown",
      "source": [
        "After we have defined all the training and evaluation \"machinery\", we can finally start the training process. We define the number of epochs and four different types of optimizers we want to test. Let us briefly explain the hyperparameters and the optimization algorithms we use:\n",
        "\n",
        "- **learning rate** $\\eta$ dictates the magnitude by which the weights shift in the direction of the gradient. Large $\\eta$ leads to making huge steps, so there is a risk of jumping across the minimum or oscillating around it. On the other hand, low $\\eta$ makes convergence slower, can lead to getting stuck on flat objective areas or local minima instead of global.\n",
        "\n",
        "- **momentum** $m$ is a term we add to the update rule to take into account the previous update history. For example, there is a non-negligible chance that the previous gradient direction was good, and if the current gradient approximation is noisy, the momentum term \"keeps us on track\". It also solves the oscillations encountered when reaching the minimum. This hyperparameter defines how much weight do we want to add to the gradient history.\n",
        "\n",
        "- **Stochastic Gradient Descent (SGD)** is an optimization method that takes a random sample and updates the weights based only on it, rather than computing the gradients for the whole dataset and only then applying the update. This can lead to noisy estimation, so adding a momentum term should help in mitigating this effect.\n",
        "\n",
        "- **Adaptive Moment Estimation (ADAM)** is an optimization method that updates the learning rate parameter-wise. It does so by keeping track of the exponentially decaying average of both the gradients (boiling down to the momentum) and the square of the gradients."
      ],
      "metadata": {
        "id": "IxW-9zCvZ53b"
      }
    },
    {
      "cell_type": "code",
      "source": [
        "EPOCHS = 20\n",
        "\n",
        "models = [Net(), Net(), Net(), Net()]\n",
        "for model in models:\n",
        "  model.to(DEVICE)\n",
        "\n",
        "optimizers = []\n",
        "optimizers.append(optim.SGD(models[0].parameters(), lr=0.01))\n",
        "optimizers.append(optim.SGD(models[1].parameters(), lr=0.01, momentum=0.9, nesterov=True))\n",
        "optimizers.append(optim.Adam(models[2].parameters(), lr=0.01))\n",
        "optimizers.append(optim.Adam(models[3].parameters(), lr=1))\n",
        "\n",
        "names = [\n",
        "    'Optimizer: SGD, lr=0.01',\n",
        "    'Optimizer: SGD, lr=0.01, momentum=0.9',\n",
        "    'Optimizer: Adam, lr=0.01',\n",
        "    'Optimizer: Adam, lr=1'\n",
        "]"
      ],
      "metadata": {
        "id": "-pV9z51kaHqo"
      },
      "execution_count": 19,
      "outputs": []
    },
    {
      "cell_type": "markdown",
      "source": [
        "We train our four MLP models."
      ],
      "metadata": {
        "id": "fMM6sk_yOOZW"
      }
    },
    {
      "cell_type": "code",
      "source": [
        "train_losses_models_MLP = {}\n",
        "valid_losses_models_MLP = {}\n",
        "\n",
        "for i in range(len(models)):\n",
        "  model = models[i]\n",
        "  optimizer = optimizers[i]\n",
        "\n",
        "  train_losses, valid_losses, valid_accs = fit(\n",
        "        model=model, \n",
        "        train_dataloader=train_dataloader,\n",
        "        valid_dataloader=valid_dataloader,\n",
        "        optimizer=optimizer,\n",
        "        epochs=EPOCHS,\n",
        "        device=DEVICE\n",
        "    )\n",
        "  \n",
        "  train_losses_models_MLP[i] = train_losses\n",
        "  valid_losses_models_MLP[i] = valid_losses\n",
        "\n",
        "  print(f\"%\"*100)\n",
        "  print(f\"Trial [{names[i]}]: Validation accuracy = {valid_accs[-1]:.4f}\")\n",
        "  print(f\"%\"*100)"
      ],
      "metadata": {
        "colab": {
          "base_uri": "https://localhost:8080/"
        },
        "id": "r0OeOZ5vcRXc",
        "outputId": "1f2c72b6-98fc-40cd-db56-0e8fd050847b"
      },
      "execution_count": 20,
      "outputs": [
        {
          "output_type": "stream",
          "name": "stdout",
          "text": [
            "Epoch 0: Train Loss=0.0022, Validation Loss=0.0023, Validation acc=22.7900\n",
            "Epoch 1: Train Loss=0.0022, Validation Loss=0.0022, Validation acc=30.4100\n",
            "Epoch 2: Train Loss=0.0021, Validation Loss=0.0021, Validation acc=37.4000\n",
            "Epoch 3: Train Loss=0.0020, Validation Loss=0.0020, Validation acc=42.8300\n",
            "Epoch 4: Train Loss=0.0019, Validation Loss=0.0018, Validation acc=48.4900\n",
            "Epoch 5: Train Loss=0.0017, Validation Loss=0.0016, Validation acc=58.7200\n",
            "Epoch 6: Train Loss=0.0015, Validation Loss=0.0015, Validation acc=59.7300\n",
            "Epoch 7: Train Loss=0.0014, Validation Loss=0.0013, Validation acc=61.0900\n",
            "Epoch 8: Train Loss=0.0012, Validation Loss=0.0012, Validation acc=62.6700\n",
            "Epoch 9: Train Loss=0.0012, Validation Loss=0.0012, Validation acc=63.4300\n",
            "Epoch 10: Train Loss=0.0011, Validation Loss=0.0011, Validation acc=63.7200\n",
            "Epoch 11: Train Loss=0.0010, Validation Loss=0.0010, Validation acc=64.7000\n",
            "Epoch 12: Train Loss=0.0010, Validation Loss=0.0010, Validation acc=65.6600\n",
            "Epoch 13: Train Loss=0.0010, Validation Loss=0.0010, Validation acc=66.5600\n",
            "Epoch 14: Train Loss=0.0009, Validation Loss=0.0009, Validation acc=66.9600\n",
            "Epoch 15: Train Loss=0.0009, Validation Loss=0.0009, Validation acc=67.4500\n",
            "Epoch 16: Train Loss=0.0009, Validation Loss=0.0009, Validation acc=68.2000\n",
            "Epoch 17: Train Loss=0.0008, Validation Loss=0.0009, Validation acc=68.7000\n",
            "Epoch 18: Train Loss=0.0008, Validation Loss=0.0008, Validation acc=68.8500\n",
            "Epoch 19: Train Loss=0.0008, Validation Loss=0.0008, Validation acc=69.7500\n",
            "%%%%%%%%%%%%%%%%%%%%%%%%%%%%%%%%%%%%%%%%%%%%%%%%%%%%%%%%%%%%%%%%%%%%%%%%%%%%%%%%%%%%%%%%%%%%%%%%%%%%\n",
            "Trial [Optimizer: SGD, lr=0.01]: Validation accuracy = 69.7500\n",
            "%%%%%%%%%%%%%%%%%%%%%%%%%%%%%%%%%%%%%%%%%%%%%%%%%%%%%%%%%%%%%%%%%%%%%%%%%%%%%%%%%%%%%%%%%%%%%%%%%%%%\n",
            "Epoch 0: Train Loss=0.0021, Validation Loss=0.0016, Validation acc=54.7000\n",
            "Epoch 1: Train Loss=0.0011, Validation Loss=0.0009, Validation acc=68.2200\n",
            "Epoch 2: Train Loss=0.0008, Validation Loss=0.0007, Validation acc=73.8300\n",
            "Epoch 3: Train Loss=0.0007, Validation Loss=0.0007, Validation acc=77.3000\n",
            "Epoch 4: Train Loss=0.0006, Validation Loss=0.0006, Validation acc=78.5500\n",
            "Epoch 5: Train Loss=0.0006, Validation Loss=0.0006, Validation acc=80.7400\n",
            "Epoch 6: Train Loss=0.0005, Validation Loss=0.0005, Validation acc=81.9400\n",
            "Epoch 7: Train Loss=0.0005, Validation Loss=0.0005, Validation acc=82.4000\n",
            "Epoch 8: Train Loss=0.0005, Validation Loss=0.0005, Validation acc=82.3700\n",
            "Epoch 9: Train Loss=0.0005, Validation Loss=0.0005, Validation acc=83.3200\n",
            "Epoch 10: Train Loss=0.0005, Validation Loss=0.0005, Validation acc=83.7400\n",
            "Epoch 11: Train Loss=0.0005, Validation Loss=0.0005, Validation acc=84.0100\n",
            "Epoch 12: Train Loss=0.0005, Validation Loss=0.0004, Validation acc=84.0400\n",
            "Epoch 13: Train Loss=0.0004, Validation Loss=0.0004, Validation acc=84.4500\n",
            "Epoch 14: Train Loss=0.0004, Validation Loss=0.0004, Validation acc=84.6400\n",
            "Epoch 15: Train Loss=0.0004, Validation Loss=0.0004, Validation acc=84.8300\n",
            "Epoch 16: Train Loss=0.0004, Validation Loss=0.0004, Validation acc=84.6700\n",
            "Epoch 17: Train Loss=0.0004, Validation Loss=0.0004, Validation acc=85.2900\n",
            "Epoch 18: Train Loss=0.0004, Validation Loss=0.0004, Validation acc=85.2700\n",
            "Epoch 19: Train Loss=0.0004, Validation Loss=0.0004, Validation acc=85.3400\n",
            "%%%%%%%%%%%%%%%%%%%%%%%%%%%%%%%%%%%%%%%%%%%%%%%%%%%%%%%%%%%%%%%%%%%%%%%%%%%%%%%%%%%%%%%%%%%%%%%%%%%%\n",
            "Trial [Optimizer: SGD, lr=0.01, momentum=0.9]: Validation accuracy = 85.3400\n",
            "%%%%%%%%%%%%%%%%%%%%%%%%%%%%%%%%%%%%%%%%%%%%%%%%%%%%%%%%%%%%%%%%%%%%%%%%%%%%%%%%%%%%%%%%%%%%%%%%%%%%\n",
            "Epoch 0: Train Loss=0.0008, Validation Loss=0.0005, Validation acc=82.2000\n",
            "Epoch 1: Train Loss=0.0004, Validation Loss=0.0004, Validation acc=85.5600\n",
            "Epoch 2: Train Loss=0.0004, Validation Loss=0.0004, Validation acc=86.4900\n",
            "Epoch 3: Train Loss=0.0004, Validation Loss=0.0003, Validation acc=87.2700\n",
            "Epoch 4: Train Loss=0.0003, Validation Loss=0.0003, Validation acc=88.0400\n",
            "Epoch 5: Train Loss=0.0003, Validation Loss=0.0003, Validation acc=87.9400\n",
            "Epoch 6: Train Loss=0.0003, Validation Loss=0.0003, Validation acc=87.7900\n",
            "Epoch 7: Train Loss=0.0003, Validation Loss=0.0003, Validation acc=88.1400\n",
            "Epoch 8: Train Loss=0.0003, Validation Loss=0.0003, Validation acc=88.9100\n",
            "Epoch 9: Train Loss=0.0003, Validation Loss=0.0003, Validation acc=88.5300\n",
            "Epoch 10: Train Loss=0.0003, Validation Loss=0.0003, Validation acc=88.5500\n",
            "Epoch 11: Train Loss=0.0003, Validation Loss=0.0003, Validation acc=89.2400\n",
            "Epoch 12: Train Loss=0.0002, Validation Loss=0.0003, Validation acc=88.5800\n",
            "Epoch 13: Train Loss=0.0002, Validation Loss=0.0003, Validation acc=89.0800\n",
            "Epoch 14: Train Loss=0.0002, Validation Loss=0.0003, Validation acc=89.1300\n",
            "Epoch 15: Train Loss=0.0002, Validation Loss=0.0003, Validation acc=88.5300\n",
            "Epoch 16: Train Loss=0.0002, Validation Loss=0.0003, Validation acc=88.4400\n",
            "Epoch 17: Train Loss=0.0002, Validation Loss=0.0003, Validation acc=89.4800\n",
            "Epoch 18: Train Loss=0.0002, Validation Loss=0.0003, Validation acc=88.8900\n",
            "Epoch 19: Train Loss=0.0002, Validation Loss=0.0003, Validation acc=88.6700\n",
            "%%%%%%%%%%%%%%%%%%%%%%%%%%%%%%%%%%%%%%%%%%%%%%%%%%%%%%%%%%%%%%%%%%%%%%%%%%%%%%%%%%%%%%%%%%%%%%%%%%%%\n",
            "Trial [Optimizer: Adam, lr=0.01]: Validation accuracy = 88.6700\n",
            "%%%%%%%%%%%%%%%%%%%%%%%%%%%%%%%%%%%%%%%%%%%%%%%%%%%%%%%%%%%%%%%%%%%%%%%%%%%%%%%%%%%%%%%%%%%%%%%%%%%%\n",
            "Epoch 0: Train Loss=3.9786, Validation Loss=0.0024, Validation acc=10.3100\n",
            "Epoch 1: Train Loss=0.0023, Validation Loss=0.0023, Validation acc=10.0100\n",
            "Epoch 2: Train Loss=0.0023, Validation Loss=0.0024, Validation acc=10.1100\n",
            "Epoch 3: Train Loss=0.0023, Validation Loss=0.0023, Validation acc=10.1100\n",
            "Epoch 4: Train Loss=0.0023, Validation Loss=0.0023, Validation acc=10.0700\n",
            "Epoch 5: Train Loss=0.0023, Validation Loss=0.0023, Validation acc=10.1100\n",
            "Epoch 6: Train Loss=0.0023, Validation Loss=0.0023, Validation acc=10.0100\n",
            "Epoch 7: Train Loss=0.0023, Validation Loss=0.0023, Validation acc=10.0600\n",
            "Epoch 8: Train Loss=0.0023, Validation Loss=0.0023, Validation acc=10.0100\n",
            "Epoch 9: Train Loss=0.0023, Validation Loss=0.0023, Validation acc=10.0600\n",
            "Epoch 10: Train Loss=0.0023, Validation Loss=0.0023, Validation acc=10.1100\n",
            "Epoch 11: Train Loss=0.0023, Validation Loss=0.0023, Validation acc=10.0100\n",
            "Epoch 12: Train Loss=0.0023, Validation Loss=0.0023, Validation acc=10.0800\n",
            "Epoch 13: Train Loss=0.0023, Validation Loss=0.0023, Validation acc=10.0100\n",
            "Epoch 14: Train Loss=0.0023, Validation Loss=0.0023, Validation acc=10.1100\n",
            "Epoch 15: Train Loss=0.0023, Validation Loss=0.0023, Validation acc=10.1100\n",
            "Epoch 16: Train Loss=0.0023, Validation Loss=0.0023, Validation acc=10.0100\n",
            "Epoch 17: Train Loss=0.0023, Validation Loss=0.0023, Validation acc=9.8800\n",
            "Epoch 18: Train Loss=0.0023, Validation Loss=0.0023, Validation acc=10.0100\n",
            "Epoch 19: Train Loss=0.0023, Validation Loss=0.0023, Validation acc=9.6700\n",
            "%%%%%%%%%%%%%%%%%%%%%%%%%%%%%%%%%%%%%%%%%%%%%%%%%%%%%%%%%%%%%%%%%%%%%%%%%%%%%%%%%%%%%%%%%%%%%%%%%%%%\n",
            "Trial [Optimizer: Adam, lr=1]: Validation accuracy = 9.6700\n",
            "%%%%%%%%%%%%%%%%%%%%%%%%%%%%%%%%%%%%%%%%%%%%%%%%%%%%%%%%%%%%%%%%%%%%%%%%%%%%%%%%%%%%%%%%%%%%%%%%%%%%\n"
          ]
        }
      ]
    },
    {
      "cell_type": "markdown",
      "source": [
        "SGD without momentum has an accuracy of around 70% which is not that great, but when we add an additional momentum term, it jumps significantly to 85%, proving the positive effects the previous gradient history has. ADAM with initial $\\eta=0.01$ works best with an accuracy of around 89%, but when the initial $\\eta=1$ is too big, the adaptation cannot follow the tempo of gradient changes.\n",
        "\n",
        "Further, we get the predictions for the test set, and get the expected results."
      ],
      "metadata": {
        "id": "HzeW8QQbORos"
      }
    },
    {
      "cell_type": "code",
      "source": [
        "for model in models:\n",
        "  predict(model=model, test_dataloader=test_dataloader, device=DEVICE)"
      ],
      "metadata": {
        "colab": {
          "base_uri": "https://localhost:8080/"
        },
        "id": "xIlKtgdOhH7o",
        "outputId": "611adbd9-010e-4539-d7df-02d7e9b493cb"
      },
      "execution_count": 21,
      "outputs": [
        {
          "output_type": "stream",
          "name": "stdout",
          "text": [
            "Test set: Avg. loss: 0.0008, Accuracy: 6859/10000 (69%)\n",
            "Test set: Avg. loss: 0.0005, Accuracy: 8368/10000 (84%)\n",
            "Test set: Avg. loss: 0.0004, Accuracy: 8782/10000 (88%)\n",
            "Test set: Avg. loss: 0.0023, Accuracy: 1000/10000 (10%)\n"
          ]
        }
      ]
    },
    {
      "cell_type": "code",
      "source": [
        "fig = plt.figure(figsize=(13,9), dpi=80)\n",
        "plt.suptitle('Loss progression across epochs - MLP', fontsize=16)\n",
        "\n",
        "for i in range(len(models)):\n",
        "  plt.subplot(2,2,i+1)\n",
        "  plt.title(names[i])\n",
        "  plt.xlabel('Epoch')\n",
        "  plt.ylabel('Loss')\n",
        "  plt.plot(train_losses_models_MLP[i][1:], label='train')\n",
        "  plt.plot(valid_losses_models_MLP[i][1:], label='val')\n",
        "  plt.legend(fontsize=10)"
      ],
      "metadata": {
        "colab": {
          "base_uri": "https://localhost:8080/",
          "height": 680
        },
        "id": "sSFYZEaci_ZE",
        "outputId": "219f3463-b9c8-40b0-de64-399a0b1f7510"
      },
      "execution_count": 70,
      "outputs": [
        {
          "output_type": "display_data",
          "data": {
            "text/plain": [
              "<Figure size 1040x720 with 4 Axes>"
            ],
            "image/png": "[encoded data removed]"
          },
          "metadata": {
            "needs_background": "light"
          }
        }
      ]
    },
    {
      "cell_type": "markdown",
      "source": [
        "When using SGD optimizers, train and validation loss curves almost coincide and decrease, which indicates that overfitting still did not emerge hence we could increase the number of training epochs to get better results.\n",
        "\n",
        "The ADAM $\\eta=0.01$ optimizer curves really depict its power, where a small number of epochs is enough to learn the parameters. Further training basically yields no improvement in results, and can potentially lead to overfitting. However, the ADAM $\\eta=1$ plots show that the train loss (which is of no significance for our evaluation) is very good, while on the validation set it does not perform very well."
      ],
      "metadata": {
        "id": "3lCfiLoiTkuY"
      }
    },
    {
      "cell_type": "markdown",
      "source": [
        "### Task 3: Convolutional Neural Network (CNN)"
      ],
      "metadata": {
        "id": "VSusDtr-Tgju"
      }
    },
    {
      "cell_type": "markdown",
      "source": [
        "We first create a CNN model."
      ],
      "metadata": {
        "id": "kfPKdzw7VI22"
      }
    },
    {
      "cell_type": "code",
      "source": [
        "class CNN(nn.Module):\n",
        "  def __init__(self):\n",
        "    super().__init__()\n",
        "\n",
        "    self.conv = nn.Sequential(\n",
        "        nn.Conv2d(in_channels=1, out_channels=16, kernel_size=3, stride=1, padding=1),\n",
        "        nn.ReLU(),\n",
        "        nn.MaxPool2d(kernel_size=2),\n",
        "        nn.Conv2d(in_channels=16, out_channels=32, kernel_size=3, stride=1, padding=1),\n",
        "        nn.ReLU(),\n",
        "        nn.MaxPool2d(kernel_size=2),\n",
        "        nn.Conv2d(in_channels=32, out_channels=64, kernel_size=3, stride=1, padding=1),\n",
        "        nn.ReLU(),\n",
        "        nn.MaxPool2d(kernel_size=2),\n",
        "    )\n",
        "\n",
        "    # Fully connected output layer\n",
        "    self.out = nn.Linear(576, 10)\n",
        "\n",
        "  def forward(self, x):\n",
        "    # propagate through convolutional layers\n",
        "    x = self.conv(x)\n",
        "    # flattening the \"convolutional\" output\n",
        "    x = x.view(x.size(0), -1)\n",
        "    # propagate through FC layer\n",
        "    x = self.out(x)\n",
        "\n",
        "    return x\n"
      ],
      "metadata": {
        "id": "eWmILS58Tnhq"
      },
      "execution_count": 23,
      "outputs": []
    },
    {
      "cell_type": "markdown",
      "source": [
        "We repeat the same training procedure as with the MLP. We set the number of epochs to 20 and test on four different optimizers."
      ],
      "metadata": {
        "id": "dLa_SsL7X47j"
      }
    },
    {
      "cell_type": "code",
      "source": [
        "EPOCHS = 20\n",
        "\n",
        "models = [CNN(), CNN(), CNN(), CNN()]\n",
        "for model in models:\n",
        "  model.to(DEVICE)\n",
        "\n",
        "optimizers = []\n",
        "optimizers.append(optim.SGD(models[0].parameters(), lr=0.01))\n",
        "optimizers.append(optim.SGD(models[1].parameters(), lr=0.01, momentum=0.9, nesterov=True))\n",
        "optimizers.append(optim.Adam(models[2].parameters(), lr=0.01))\n",
        "optimizers.append(optim.Adam(models[3].parameters(), lr=1))\n",
        "\n",
        "names = [\n",
        "    'Optimizer: SGD, lr=0.01',\n",
        "    'Optimizer: SGD, lr=0.01, momentum=0.9',\n",
        "    'Optimizer: Adam, lr=0.01',\n",
        "    'Optimizer: Adam, lr=1'\n",
        "]"
      ],
      "metadata": {
        "id": "C046FwTNXxvn"
      },
      "execution_count": 24,
      "outputs": []
    },
    {
      "cell_type": "code",
      "source": [
        "train_losses_models_CNN = {}\n",
        "valid_losses_models_CNN = {}\n",
        "\n",
        "for i in range(len(models)):\n",
        "  model = models[i]\n",
        "  optimizer = optimizers[i]\n",
        "\n",
        "  train_losses, valid_losses, valid_accs = fit(\n",
        "        model=model, \n",
        "        train_dataloader=train_dataloader,\n",
        "        valid_dataloader=valid_dataloader,\n",
        "        optimizer=optimizer,\n",
        "        epochs=EPOCHS,\n",
        "        device=DEVICE\n",
        "    )\n",
        "  \n",
        "  train_losses_models_CNN[i] = train_losses\n",
        "  valid_losses_models_CNN[i] = valid_losses\n",
        "\n",
        "  print(f\"%\"*100)\n",
        "  print(f\"Trial [{names[i]}]: Validation accuracy = {valid_accs[-1]:.4f}\")\n",
        "  print(f\"%\"*100)"
      ],
      "metadata": {
        "colab": {
          "base_uri": "https://localhost:8080/"
        },
        "id": "xK5tw3HvYJDb",
        "outputId": "a13f49bb-32d7-43e3-de3b-73a341b478cc"
      },
      "execution_count": 25,
      "outputs": [
        {
          "output_type": "stream",
          "name": "stdout",
          "text": [
            "Epoch 0: Train Loss=0.0023, Validation Loss=0.0023, Validation acc=14.4000\n",
            "Epoch 1: Train Loss=0.0022, Validation Loss=0.0023, Validation acc=12.9600\n",
            "Epoch 2: Train Loss=0.0022, Validation Loss=0.0023, Validation acc=18.2400\n",
            "Epoch 3: Train Loss=0.0022, Validation Loss=0.0023, Validation acc=19.5700\n",
            "Epoch 4: Train Loss=0.0022, Validation Loss=0.0022, Validation acc=20.7900\n",
            "Epoch 5: Train Loss=0.0022, Validation Loss=0.0022, Validation acc=26.8400\n",
            "Epoch 6: Train Loss=0.0021, Validation Loss=0.0020, Validation acc=44.9000\n",
            "Epoch 7: Train Loss=0.0018, Validation Loss=0.0016, Validation acc=58.6600\n",
            "Epoch 8: Train Loss=0.0013, Validation Loss=0.0011, Validation acc=60.9400\n",
            "Epoch 9: Train Loss=0.0011, Validation Loss=0.0011, Validation acc=63.3000\n",
            "Epoch 10: Train Loss=0.0010, Validation Loss=0.0009, Validation acc=65.1100\n",
            "Epoch 11: Train Loss=0.0010, Validation Loss=0.0010, Validation acc=67.6300\n",
            "Epoch 12: Train Loss=0.0009, Validation Loss=0.0009, Validation acc=65.7900\n",
            "Epoch 13: Train Loss=0.0009, Validation Loss=0.0009, Validation acc=64.7400\n",
            "Epoch 14: Train Loss=0.0008, Validation Loss=0.0008, Validation acc=69.1300\n",
            "Epoch 15: Train Loss=0.0008, Validation Loss=0.0008, Validation acc=70.2000\n",
            "Epoch 16: Train Loss=0.0008, Validation Loss=0.0008, Validation acc=70.8500\n",
            "Epoch 17: Train Loss=0.0008, Validation Loss=0.0008, Validation acc=72.0800\n",
            "Epoch 18: Train Loss=0.0008, Validation Loss=0.0008, Validation acc=72.0900\n",
            "Epoch 19: Train Loss=0.0007, Validation Loss=0.0007, Validation acc=73.2600\n",
            "%%%%%%%%%%%%%%%%%%%%%%%%%%%%%%%%%%%%%%%%%%%%%%%%%%%%%%%%%%%%%%%%%%%%%%%%%%%%%%%%%%%%%%%%%%%%%%%%%%%%\n",
            "Trial [Optimizer: SGD, lr=0.01]: Validation accuracy = 73.2600\n",
            "%%%%%%%%%%%%%%%%%%%%%%%%%%%%%%%%%%%%%%%%%%%%%%%%%%%%%%%%%%%%%%%%%%%%%%%%%%%%%%%%%%%%%%%%%%%%%%%%%%%%\n",
            "Epoch 0: Train Loss=0.0022, Validation Loss=0.0021, Validation acc=39.1800\n",
            "Epoch 1: Train Loss=0.0014, Validation Loss=0.0009, Validation acc=68.1400\n",
            "Epoch 2: Train Loss=0.0008, Validation Loss=0.0008, Validation acc=70.1500\n",
            "Epoch 3: Train Loss=0.0007, Validation Loss=0.0007, Validation acc=76.2100\n",
            "Epoch 4: Train Loss=0.0006, Validation Loss=0.0006, Validation acc=78.9800\n",
            "Epoch 5: Train Loss=0.0006, Validation Loss=0.0005, Validation acc=80.6200\n",
            "Epoch 6: Train Loss=0.0005, Validation Loss=0.0005, Validation acc=82.1400\n",
            "Epoch 7: Train Loss=0.0005, Validation Loss=0.0005, Validation acc=82.1800\n",
            "Epoch 8: Train Loss=0.0005, Validation Loss=0.0004, Validation acc=83.5200\n",
            "Epoch 9: Train Loss=0.0004, Validation Loss=0.0005, Validation acc=83.5600\n",
            "Epoch 10: Train Loss=0.0004, Validation Loss=0.0004, Validation acc=84.8100\n",
            "Epoch 11: Train Loss=0.0004, Validation Loss=0.0004, Validation acc=85.1100\n",
            "Epoch 12: Train Loss=0.0004, Validation Loss=0.0004, Validation acc=84.6300\n",
            "Epoch 13: Train Loss=0.0004, Validation Loss=0.0004, Validation acc=85.8400\n",
            "Epoch 14: Train Loss=0.0004, Validation Loss=0.0004, Validation acc=86.5400\n",
            "Epoch 15: Train Loss=0.0004, Validation Loss=0.0004, Validation acc=85.5300\n",
            "Epoch 16: Train Loss=0.0004, Validation Loss=0.0004, Validation acc=86.1300\n",
            "Epoch 17: Train Loss=0.0004, Validation Loss=0.0004, Validation acc=86.3000\n",
            "Epoch 18: Train Loss=0.0004, Validation Loss=0.0004, Validation acc=87.0700\n",
            "Epoch 19: Train Loss=0.0004, Validation Loss=0.0004, Validation acc=86.2100\n",
            "%%%%%%%%%%%%%%%%%%%%%%%%%%%%%%%%%%%%%%%%%%%%%%%%%%%%%%%%%%%%%%%%%%%%%%%%%%%%%%%%%%%%%%%%%%%%%%%%%%%%\n",
            "Trial [Optimizer: SGD, lr=0.01, momentum=0.9]: Validation accuracy = 86.2100\n",
            "%%%%%%%%%%%%%%%%%%%%%%%%%%%%%%%%%%%%%%%%%%%%%%%%%%%%%%%%%%%%%%%%%%%%%%%%%%%%%%%%%%%%%%%%%%%%%%%%%%%%\n",
            "Epoch 0: Train Loss=0.0009, Validation Loss=0.0005, Validation acc=83.0500\n",
            "Epoch 1: Train Loss=0.0004, Validation Loss=0.0004, Validation acc=86.5500\n",
            "Epoch 2: Train Loss=0.0003, Validation Loss=0.0003, Validation acc=88.4700\n",
            "Epoch 3: Train Loss=0.0003, Validation Loss=0.0003, Validation acc=89.4200\n",
            "Epoch 4: Train Loss=0.0003, Validation Loss=0.0003, Validation acc=89.8200\n",
            "Epoch 5: Train Loss=0.0003, Validation Loss=0.0003, Validation acc=90.3800\n",
            "Epoch 6: Train Loss=0.0002, Validation Loss=0.0003, Validation acc=90.3000\n",
            "Epoch 7: Train Loss=0.0002, Validation Loss=0.0003, Validation acc=90.6400\n",
            "Epoch 8: Train Loss=0.0002, Validation Loss=0.0003, Validation acc=90.7900\n",
            "Epoch 9: Train Loss=0.0002, Validation Loss=0.0003, Validation acc=90.4200\n",
            "Epoch 10: Train Loss=0.0002, Validation Loss=0.0003, Validation acc=90.2500\n",
            "Epoch 11: Train Loss=0.0002, Validation Loss=0.0002, Validation acc=91.2500\n",
            "Epoch 12: Train Loss=0.0002, Validation Loss=0.0002, Validation acc=91.2800\n",
            "Epoch 13: Train Loss=0.0002, Validation Loss=0.0002, Validation acc=91.2600\n",
            "Epoch 14: Train Loss=0.0002, Validation Loss=0.0002, Validation acc=91.2200\n",
            "Epoch 15: Train Loss=0.0002, Validation Loss=0.0002, Validation acc=91.2000\n",
            "Epoch 16: Train Loss=0.0002, Validation Loss=0.0003, Validation acc=91.2600\n",
            "Epoch 17: Train Loss=0.0002, Validation Loss=0.0002, Validation acc=91.6500\n",
            "Epoch 18: Train Loss=0.0001, Validation Loss=0.0003, Validation acc=91.2300\n",
            "Epoch 19: Train Loss=0.0001, Validation Loss=0.0003, Validation acc=91.8400\n",
            "%%%%%%%%%%%%%%%%%%%%%%%%%%%%%%%%%%%%%%%%%%%%%%%%%%%%%%%%%%%%%%%%%%%%%%%%%%%%%%%%%%%%%%%%%%%%%%%%%%%%\n",
            "Trial [Optimizer: Adam, lr=0.01]: Validation accuracy = 91.8400\n",
            "%%%%%%%%%%%%%%%%%%%%%%%%%%%%%%%%%%%%%%%%%%%%%%%%%%%%%%%%%%%%%%%%%%%%%%%%%%%%%%%%%%%%%%%%%%%%%%%%%%%%\n",
            "Epoch 0: Train Loss=9.1558, Validation Loss=0.0024, Validation acc=10.3100\n",
            "Epoch 1: Train Loss=0.0023, Validation Loss=0.0023, Validation acc=10.0800\n",
            "Epoch 2: Train Loss=0.0023, Validation Loss=0.0023, Validation acc=10.0100\n",
            "Epoch 3: Train Loss=0.0023, Validation Loss=0.0023, Validation acc=9.6700\n",
            "Epoch 4: Train Loss=0.0023, Validation Loss=0.0023, Validation acc=9.6700\n",
            "Epoch 5: Train Loss=0.0023, Validation Loss=0.0023, Validation acc=10.0100\n",
            "Epoch 6: Train Loss=0.0023, Validation Loss=0.0023, Validation acc=10.1400\n",
            "Epoch 7: Train Loss=0.0023, Validation Loss=0.0023, Validation acc=10.1100\n",
            "Epoch 8: Train Loss=0.0023, Validation Loss=0.0023, Validation acc=10.0100\n",
            "Epoch 9: Train Loss=0.0023, Validation Loss=0.0023, Validation acc=10.0800\n",
            "Epoch 10: Train Loss=0.0023, Validation Loss=0.0023, Validation acc=9.8800\n",
            "Epoch 11: Train Loss=0.0023, Validation Loss=0.0023, Validation acc=10.0700\n",
            "Epoch 12: Train Loss=0.0023, Validation Loss=0.0023, Validation acc=10.1100\n",
            "Epoch 13: Train Loss=0.0023, Validation Loss=0.0023, Validation acc=10.1100\n",
            "Epoch 14: Train Loss=0.0023, Validation Loss=0.0023, Validation acc=10.1100\n",
            "Epoch 15: Train Loss=0.0023, Validation Loss=0.0023, Validation acc=9.6700\n",
            "Epoch 16: Train Loss=0.0023, Validation Loss=0.0023, Validation acc=10.1100\n",
            "Epoch 17: Train Loss=0.0023, Validation Loss=0.0023, Validation acc=9.6700\n",
            "Epoch 18: Train Loss=0.0023, Validation Loss=0.0023, Validation acc=10.0600\n",
            "Epoch 19: Train Loss=0.0023, Validation Loss=0.0023, Validation acc=9.6700\n",
            "%%%%%%%%%%%%%%%%%%%%%%%%%%%%%%%%%%%%%%%%%%%%%%%%%%%%%%%%%%%%%%%%%%%%%%%%%%%%%%%%%%%%%%%%%%%%%%%%%%%%\n",
            "Trial [Optimizer: Adam, lr=1]: Validation accuracy = 9.6700\n",
            "%%%%%%%%%%%%%%%%%%%%%%%%%%%%%%%%%%%%%%%%%%%%%%%%%%%%%%%%%%%%%%%%%%%%%%%%%%%%%%%%%%%%%%%%%%%%%%%%%%%%\n"
          ]
        }
      ]
    },
    {
      "cell_type": "markdown",
      "source": [
        "Compared to the MLP, the CNN models performed 2-4% better for all optimizers, except for ADAM $\\eta=1$, where there were no improvements. This was expected, since the CNNs are designed to work with images and take advantage of their local information (more on that in *Task 4*).\n",
        "\n",
        "Again, the test predictions match the expectations."
      ],
      "metadata": {
        "id": "WfNRhnYoXaFc"
      }
    },
    {
      "cell_type": "code",
      "source": [
        "for model in models:\n",
        "  predict(model=model, test_dataloader=test_dataloader, device=DEVICE)"
      ],
      "metadata": {
        "colab": {
          "base_uri": "https://localhost:8080/"
        },
        "id": "b5nC5aIEYMjO",
        "outputId": "fbeddd8d-b2d1-4a32-ad1c-eb78e663a232"
      },
      "execution_count": 26,
      "outputs": [
        {
          "output_type": "stream",
          "name": "stdout",
          "text": [
            "Test set: Avg. loss: 0.0008, Accuracy: 7172/10000 (72%)\n",
            "Test set: Avg. loss: 0.0004, Accuracy: 8471/10000 (85%)\n",
            "Test set: Avg. loss: 0.0003, Accuracy: 9065/10000 (91%)\n",
            "Test set: Avg. loss: 0.0023, Accuracy: 1000/10000 (10%)\n"
          ]
        }
      ]
    },
    {
      "cell_type": "code",
      "source": [
        "fig = plt.figure(figsize=(13,9), dpi=80)\n",
        "plt.suptitle('Loss progression across epochs - CNN', fontsize=16)\n",
        "\n",
        "for i in range(len(models)):\n",
        "  plt.subplot(2,2,i+1)\n",
        "  plt.title(names[i])\n",
        "  plt.xlabel('Epoch')\n",
        "  plt.ylabel('Loss')\n",
        "  plt.plot(train_losses_models_CNN[i][1:], label='train')\n",
        "  plt.plot(valid_losses_models_CNN[i][1:], label='val')\n",
        "  plt.legend(fontsize=10)"
      ],
      "metadata": {
        "colab": {
          "base_uri": "https://localhost:8080/",
          "height": 680
        },
        "id": "JCAL6tc6YP08",
        "outputId": "5e2ffd7a-49c7-4caf-ca0e-1218fdf737c0"
      },
      "execution_count": 71,
      "outputs": [
        {
          "output_type": "display_data",
          "data": {
            "text/plain": [
              "<Figure size 1040x720 with 4 Axes>"
            ],
            "image/png": "[encoded data removed]"
          },
          "metadata": {
            "needs_background": "light"
          }
        }
      ]
    },
    {
      "cell_type": "markdown",
      "source": [
        "Again, as with the MLP models, the SGD curves indicate that the number of epochs could be increased. We now see that the validation curves are a bit noisy, but that effect is negligible. The conclusions we made for the ADAM optimizers before hold here as well."
      ],
      "metadata": {
        "id": "dkCk5UfZYOMp"
      }
    },
    {
      "cell_type": "markdown",
      "source": [
        "### Task 4: Number of model parameters"
      ],
      "metadata": {
        "id": "JmujS-gQlCzt"
      }
    },
    {
      "cell_type": "markdown",
      "source": [
        "We define a function `num_parameters` that returns a number of all parameters for a given model, including the non-trainable ones (note that our MLP and CNN models do not have non-trainable parameters)."
      ],
      "metadata": {
        "id": "-mwWuB1ilqj4"
      }
    },
    {
      "cell_type": "code",
      "source": [
        "def num_parameters(model: nn.Module) -> int:\n",
        "  return sum(\n",
        "      param.numel() for param in model.parameters()\n",
        "  )"
      ],
      "metadata": {
        "id": "NZliXi2VlKkQ"
      },
      "execution_count": 28,
      "outputs": []
    },
    {
      "cell_type": "markdown",
      "source": [
        "We calculate the number of parameters our MLP and CNN models have."
      ],
      "metadata": {
        "id": "1GVIar2gmXTA"
      }
    },
    {
      "cell_type": "code",
      "source": [
        "mlp = Net()\n",
        "cnn = CNN()\n",
        "num_mlp = num_parameters(mlp)\n",
        "num_cnn = num_parameters(cnn)\n",
        "\n",
        "print(f\"Number of parameters in the MLP model: {num_mlp}\")\n",
        "print(f\"Number of parameters in the CNN model: {num_cnn}\")"
      ],
      "metadata": {
        "colab": {
          "base_uri": "https://localhost:8080/"
        },
        "id": "a1JJzLm4mXYR",
        "outputId": "82bdc8a4-b116-4e4c-88e0-7bc17a7bd164"
      },
      "execution_count": 29,
      "outputs": [
        {
          "output_type": "stream",
          "name": "stdout",
          "text": [
            "Number of parameters in the MLP model: 89610\n",
            "Number of parameters in the CNN model: 29066\n"
          ]
        }
      ]
    },
    {
      "cell_type": "markdown",
      "source": [
        "The number of CNN parameters is 3 times lower than the MLP case but our previous analysis shows that, despite this, the CNN performed better. Thus we conclude that having more parameters does not translate to better performance. But why is this the case?\n",
        "\n",
        "CNNs are designed specifically to work with images, where neighboring pixels are expected to be highly correlated, while distant pixels have high probability of being \"independent\". The kernel convolution is defined to aggregate the local information of a pixel, so not all the inputs in the layer affect the outputs of the next layer. On the contrary, when working with images, fully connected networks first flatten them and then connect all the inputs to all the output nodes. Not only do the FC networks have more parameters (weights), but since the natural order of the image is lost, they perform worse than the CNNs."
      ],
      "metadata": {
        "id": "hchusPGgo7cW"
      }
    },
    {
      "cell_type": "markdown",
      "source": [
        "### Task 5: Classification with `PermutedFashionMNIST`"
      ],
      "metadata": {
        "id": "EF3ESuvytNzg"
      }
    },
    {
      "cell_type": "markdown",
      "source": [
        "We define a `RandomPermutation` transformation which randomly redistributes pixels in an image."
      ],
      "metadata": {
        "id": "q-Pw3TKDtyaM"
      }
    },
    {
      "cell_type": "code",
      "source": [
        "class RandomPermutation(object):\n",
        "    def __init__(self, num_features):\n",
        "        self.num_features = num_features\n",
        "        self.reindex = torch.randperm(num_features)\n",
        "    \n",
        "    def __call__(self, img):\n",
        "        assert self.num_features == img.numel()\n",
        "        orig_shape = img.shape\n",
        "        img = img.view(-1)[self.reindex].view(orig_shape)\n",
        "        return img"
      ],
      "metadata": {
        "id": "Ia5koVmYtS9s"
      },
      "execution_count": 30,
      "outputs": []
    },
    {
      "cell_type": "markdown",
      "source": [
        "We load the data as in *Task 1*, but now we add our `RandomPermutation` to the list of transformations."
      ],
      "metadata": {
        "id": "697ZeAlWuB7W"
      }
    },
    {
      "cell_type": "code",
      "source": [
        "IMAGE_SIZE = 28*28\n",
        "\n",
        "# The data are given as PIL images. We need to convert our data to a type \n",
        "# that is readable by a Neural Network. Thus, we use the ToTensor() \"transform\" \n",
        "transform = T.Compose([\n",
        "    T.ToTensor(),\n",
        "    RandomPermutation(IMAGE_SIZE)\n",
        "])\n",
        "\n",
        "# Load the training dataset\n",
        "train_dataset = torchvision.datasets.FashionMNIST(\n",
        "    root='./data/', \n",
        "    train=True, \n",
        "    download=True,\n",
        "    transform=transform)\n",
        "\n",
        "# Make a validation dataset by splitting the original training one\n",
        "train_dataset,  valid_dataset = random_split(\n",
        "    train_dataset, \n",
        "    lengths=[50000, 10000], \n",
        "    generator=torch.Generator().manual_seed(456)\n",
        ")\n",
        "\n",
        "# Load the test dataset\n",
        "test_dataset = torchvision.datasets.FashionMNIST(\n",
        "    root='./data/', \n",
        "    train=False, \n",
        "    download=True,\n",
        "    transform=transform)"
      ],
      "metadata": {
        "id": "StJlJNmJt9Wk"
      },
      "execution_count": 31,
      "outputs": []
    },
    {
      "cell_type": "markdown",
      "source": [
        "Again, we construct the dataloaders and define the batch sizes."
      ],
      "metadata": {
        "id": "UcBMO-Chuud9"
      }
    },
    {
      "cell_type": "code",
      "source": [
        "# Define the hyperparameters\n",
        "BATCH_SIZE = 1024\n",
        "TEST_BATCH_SIZE = 1024\n",
        "\n",
        "# Find out which device is available\n",
        "DEVICE = torch.device(\"cuda\" if torch.cuda.is_available() else \"cpu\")\n",
        "print(DEVICE)\n",
        "\n",
        "# construct the dataloader for the traininig dataset. \n",
        "# Here we shuffle the data to promote stochasticity.\n",
        "train_dataloader = DataLoader(\n",
        "    dataset=train_dataset, \n",
        "    batch_size=BATCH_SIZE,\n",
        "    shuffle=True, \n",
        "    num_workers=2)\n",
        "\n",
        "valid_dataloader = DataLoader(\n",
        "    dataset=valid_dataset, \n",
        "    batch_size=TEST_BATCH_SIZE,\n",
        "    shuffle=False, \n",
        "    num_workers=2)\n",
        "\n",
        "# Construct the dataloader for the testing dataset.\n",
        "test_dataloader = DataLoader(\n",
        "    dataset=test_dataset, \n",
        "    batch_size=TEST_BATCH_SIZE,\n",
        "    shuffle=False, \n",
        "    num_workers=2)"
      ],
      "metadata": {
        "colab": {
          "base_uri": "https://localhost:8080/"
        },
        "id": "nrNNBqmDuuod",
        "outputId": "32fe492a-56ac-48c3-baec-fdc421f5c347"
      },
      "execution_count": 32,
      "outputs": [
        {
          "output_type": "stream",
          "name": "stdout",
          "text": [
            "cuda\n"
          ]
        }
      ]
    },
    {
      "cell_type": "markdown",
      "source": [
        "Let us visualize a few samples to make sure the pixels were indeed permuted."
      ],
      "metadata": {
        "id": "8-zL6xyqvTUR"
      }
    },
    {
      "cell_type": "code",
      "source": [
        "# Get the first 10 images of the train dataset. Hint: use next(), iter()\n",
        "images = next(iter(train_dataloader))[0][:10]\n",
        "grid = torchvision.utils.make_grid(images, nrow=5, padding=10)\n",
        "\n",
        "def show(img):\n",
        "    npimg = img.numpy()\n",
        "    plt.figure(figsize=(10,8), dpi=80)\n",
        "    plt.imshow(np.transpose(npimg, (1,2,0)), interpolation='nearest')\n",
        "\n",
        "show(grid)"
      ],
      "metadata": {
        "colab": {
          "base_uri": "https://localhost:8080/",
          "height": 319
        },
        "id": "lcMUhETXvTaS",
        "outputId": "1d297e65-b8f4-4856-e7a0-34fc8c9ae875"
      },
      "execution_count": 33,
      "outputs": [
        {
          "output_type": "display_data",
          "data": {
            "text/plain": [
              "<Figure size 800x640 with 1 Axes>"
            ],
            "image/png": "[encoded data removed]"
          },
          "metadata": {
            "needs_background": "light"
          }
        }
      ]
    },
    {
      "cell_type": "markdown",
      "source": [
        "Now, we define the hyperparameters and initialize the MLP/CNN models and optimizers."
      ],
      "metadata": {
        "id": "YYLQ-3eIwdR-"
      }
    },
    {
      "cell_type": "code",
      "source": [
        "LEARNING_RATE = 0.01\n",
        "MOMENTUM = 0.9\n",
        "EPOCHS = 20\n",
        "\n",
        "# Find out which device is available\n",
        "DEVICE = torch.device(\"cuda\" if torch.cuda.is_available() else \"cpu\")\n",
        "print(DEVICE)\n",
        "\n",
        "model_mlp = Net().to(DEVICE)\n",
        "model_cnn = CNN().to(DEVICE)\n",
        "\n",
        "optimizer_mlp = optim.SGD(model_mlp.parameters(), lr=LEARNING_RATE, momentum=MOMENTUM, nesterov=True)\n",
        "optimizer_cnn = optim.SGD(model_cnn.parameters(), lr=LEARNING_RATE, momentum=MOMENTUM, nesterov=True)"
      ],
      "metadata": {
        "colab": {
          "base_uri": "https://localhost:8080/"
        },
        "id": "NHWRzRLIu7qw",
        "outputId": "abb0e4b8-2e9c-4f17-910b-661e4233a01c"
      },
      "execution_count": 34,
      "outputs": [
        {
          "output_type": "stream",
          "name": "stdout",
          "text": [
            "cuda\n"
          ]
        }
      ]
    },
    {
      "cell_type": "markdown",
      "source": [
        "The next step is training both models."
      ],
      "metadata": {
        "id": "oFJ-_j7Rwn7y"
      }
    },
    {
      "cell_type": "code",
      "source": [
        "# Training the MLP model\n",
        "print(f\"%\"*100)\n",
        "print(f\"Training the MLP model\")\n",
        "print(f\"%\"*100)\n",
        "train_losses_mlp, valid_losses_mlp, valid_accs_mlp = fit(\n",
        "        model=model_mlp, \n",
        "        train_dataloader=train_dataloader,\n",
        "        valid_dataloader=valid_dataloader,\n",
        "        optimizer=optimizer_mlp,\n",
        "        epochs=EPOCHS,\n",
        "        device=DEVICE\n",
        "    )"
      ],
      "metadata": {
        "colab": {
          "base_uri": "https://localhost:8080/"
        },
        "id": "6bJLBVocwqb6",
        "outputId": "76fa2616-c66a-42f5-8d03-1fc210c05a9e"
      },
      "execution_count": 35,
      "outputs": [
        {
          "output_type": "stream",
          "name": "stdout",
          "text": [
            "%%%%%%%%%%%%%%%%%%%%%%%%%%%%%%%%%%%%%%%%%%%%%%%%%%%%%%%%%%%%%%%%%%%%%%%%%%%%%%%%%%%%%%%%%%%%%%%%%%%%\n",
            "Training the MLP model\n",
            "%%%%%%%%%%%%%%%%%%%%%%%%%%%%%%%%%%%%%%%%%%%%%%%%%%%%%%%%%%%%%%%%%%%%%%%%%%%%%%%%%%%%%%%%%%%%%%%%%%%%\n",
            "Epoch 0: Train Loss=0.0020, Validation Loss=0.0016, Validation acc=55.1400\n",
            "Epoch 1: Train Loss=0.0011, Validation Loss=0.0009, Validation acc=66.4700\n",
            "Epoch 2: Train Loss=0.0008, Validation Loss=0.0007, Validation acc=72.5900\n",
            "Epoch 3: Train Loss=0.0007, Validation Loss=0.0007, Validation acc=76.3400\n",
            "Epoch 4: Train Loss=0.0006, Validation Loss=0.0006, Validation acc=79.1500\n",
            "Epoch 5: Train Loss=0.0006, Validation Loss=0.0006, Validation acc=80.3400\n",
            "Epoch 6: Train Loss=0.0005, Validation Loss=0.0005, Validation acc=81.4000\n",
            "Epoch 7: Train Loss=0.0005, Validation Loss=0.0005, Validation acc=82.4300\n",
            "Epoch 8: Train Loss=0.0005, Validation Loss=0.0005, Validation acc=82.9600\n",
            "Epoch 9: Train Loss=0.0005, Validation Loss=0.0005, Validation acc=83.1600\n",
            "Epoch 10: Train Loss=0.0005, Validation Loss=0.0005, Validation acc=83.8400\n",
            "Epoch 11: Train Loss=0.0005, Validation Loss=0.0005, Validation acc=83.8100\n",
            "Epoch 12: Train Loss=0.0005, Validation Loss=0.0005, Validation acc=84.1100\n",
            "Epoch 13: Train Loss=0.0004, Validation Loss=0.0004, Validation acc=84.6800\n",
            "Epoch 14: Train Loss=0.0004, Validation Loss=0.0004, Validation acc=83.9100\n",
            "Epoch 15: Train Loss=0.0004, Validation Loss=0.0004, Validation acc=84.9600\n",
            "Epoch 16: Train Loss=0.0004, Validation Loss=0.0004, Validation acc=85.2200\n",
            "Epoch 17: Train Loss=0.0004, Validation Loss=0.0004, Validation acc=84.9400\n",
            "Epoch 18: Train Loss=0.0004, Validation Loss=0.0004, Validation acc=85.6200\n",
            "Epoch 19: Train Loss=0.0004, Validation Loss=0.0004, Validation acc=85.7900\n"
          ]
        }
      ]
    },
    {
      "cell_type": "code",
      "source": [
        "# Training the CNN model\n",
        "print(f\"%\"*100)\n",
        "print(f\"Training the CNN model\")\n",
        "print(f\"%\"*100)\n",
        "train_losses_cnn, valid_losses_cnn, valid_accs_cnn = fit(\n",
        "        model=model_cnn, \n",
        "        train_dataloader=train_dataloader,\n",
        "        valid_dataloader=valid_dataloader,\n",
        "        optimizer=optimizer_cnn,\n",
        "        epochs=EPOCHS,\n",
        "        device=DEVICE\n",
        "    )"
      ],
      "metadata": {
        "colab": {
          "base_uri": "https://localhost:8080/"
        },
        "id": "08M-K9P5wyFx",
        "outputId": "8752010f-baac-490b-e9c4-6a68bd74cc25"
      },
      "execution_count": 36,
      "outputs": [
        {
          "output_type": "stream",
          "name": "stdout",
          "text": [
            "%%%%%%%%%%%%%%%%%%%%%%%%%%%%%%%%%%%%%%%%%%%%%%%%%%%%%%%%%%%%%%%%%%%%%%%%%%%%%%%%%%%%%%%%%%%%%%%%%%%%\n",
            "Training the CNN model\n",
            "%%%%%%%%%%%%%%%%%%%%%%%%%%%%%%%%%%%%%%%%%%%%%%%%%%%%%%%%%%%%%%%%%%%%%%%%%%%%%%%%%%%%%%%%%%%%%%%%%%%%\n",
            "Epoch 0: Train Loss=0.0022, Validation Loss=0.0023, Validation acc=12.2000\n",
            "Epoch 1: Train Loss=0.0021, Validation Loss=0.0019, Validation acc=39.0200\n",
            "Epoch 2: Train Loss=0.0017, Validation Loss=0.0013, Validation acc=61.0500\n",
            "Epoch 3: Train Loss=0.0011, Validation Loss=0.0009, Validation acc=69.5400\n",
            "Epoch 4: Train Loss=0.0009, Validation Loss=0.0009, Validation acc=68.2900\n",
            "Epoch 5: Train Loss=0.0008, Validation Loss=0.0007, Validation acc=74.2400\n",
            "Epoch 6: Train Loss=0.0007, Validation Loss=0.0007, Validation acc=74.9400\n",
            "Epoch 7: Train Loss=0.0007, Validation Loss=0.0006, Validation acc=77.3100\n",
            "Epoch 8: Train Loss=0.0006, Validation Loss=0.0006, Validation acc=77.6900\n",
            "Epoch 9: Train Loss=0.0006, Validation Loss=0.0006, Validation acc=78.2900\n",
            "Epoch 10: Train Loss=0.0006, Validation Loss=0.0006, Validation acc=79.5700\n",
            "Epoch 11: Train Loss=0.0006, Validation Loss=0.0006, Validation acc=80.0900\n",
            "Epoch 12: Train Loss=0.0006, Validation Loss=0.0006, Validation acc=79.5600\n",
            "Epoch 13: Train Loss=0.0005, Validation Loss=0.0006, Validation acc=80.4100\n",
            "Epoch 14: Train Loss=0.0005, Validation Loss=0.0005, Validation acc=80.5900\n",
            "Epoch 15: Train Loss=0.0005, Validation Loss=0.0005, Validation acc=81.2200\n",
            "Epoch 16: Train Loss=0.0005, Validation Loss=0.0005, Validation acc=81.5800\n",
            "Epoch 17: Train Loss=0.0005, Validation Loss=0.0005, Validation acc=82.0100\n",
            "Epoch 18: Train Loss=0.0005, Validation Loss=0.0005, Validation acc=81.8900\n",
            "Epoch 19: Train Loss=0.0005, Validation Loss=0.0005, Validation acc=82.9200\n"
          ]
        }
      ]
    },
    {
      "cell_type": "markdown",
      "source": [
        "Even though the differences are not major, we see that the CNN validation loss is higher than the MLP one, and that the accuracy is about 2% lower. As is said before, the MLP does not care about the pixel order in the image, instead the image is provided to the network flattened. Therefore, as expected, the metrics here are the same as the MLP metrics of *Task 2* (accuracy $\\approx 85\\%$). On the other hand, since CNN kernels capture local information, the CNN model performs worse when compared to the one in *Task 3* due to the random pixel permutations removing these information.\n",
        "\n",
        "We predict the test set labels and calculate the corresponding metrics."
      ],
      "metadata": {
        "id": "z_4rc1u4yQU1"
      }
    },
    {
      "cell_type": "code",
      "source": [
        "print('Predictions using the MLP: ')\n",
        "predict(model=model_mlp, test_dataloader=test_dataloader, device=DEVICE)\n",
        "\n",
        "print('Predictions using the CNN: ')\n",
        "predict(model=model_cnn, test_dataloader=test_dataloader, device=DEVICE)"
      ],
      "metadata": {
        "colab": {
          "base_uri": "https://localhost:8080/"
        },
        "id": "cxy2bj_DyQZn",
        "outputId": "07db8819-e792-4ec9-a385-ef8be4f76376"
      },
      "execution_count": 37,
      "outputs": [
        {
          "output_type": "stream",
          "name": "stdout",
          "text": [
            "Predictions using the MLP: \n",
            "Test set: Avg. loss: 0.0004, Accuracy: 8408/10000 (84%)\n",
            "Predictions using the CNN: \n",
            "Test set: Avg. loss: 0.0005, Accuracy: 8101/10000 (81%)\n"
          ]
        },
        {
          "output_type": "execute_result",
          "data": {
            "text/plain": [
              "(0.0005277682393789292, tensor(81.0100, device='cuda:0'))"
            ]
          },
          "metadata": {},
          "execution_count": 37
        }
      ]
    },
    {
      "cell_type": "markdown",
      "source": [
        "Now we plot the train/val curves for both models."
      ],
      "metadata": {
        "id": "33bBrLXCxjwx"
      }
    },
    {
      "cell_type": "code",
      "source": [
        "fig = plt.figure(figsize=(8,6), dpi=80)\n",
        "plt.title('Loss progression across epochs ', fontsize=14)\n",
        "plt.xlabel('Epoch')\n",
        "plt.ylabel('Loss')\n",
        "plt.plot(train_losses_mlp, label='train MLP')\n",
        "plt.plot(valid_losses_mlp, label='val MLP')\n",
        "plt.plot(train_losses_cnn, label='train CNN')\n",
        "plt.plot(valid_losses_cnn, label='val CNN')\n",
        "plt.legend(fontsize=10)"
      ],
      "metadata": {
        "colab": {
          "base_uri": "https://localhost:8080/",
          "height": 464
        },
        "id": "JK9_ERpOxj2D",
        "outputId": "2b4ddd3a-861a-4993-9411-2448c1618d13"
      },
      "execution_count": 38,
      "outputs": [
        {
          "output_type": "execute_result",
          "data": {
            "text/plain": [
              "<matplotlib.legend.Legend at 0x7f6fddbf6e50>"
            ]
          },
          "metadata": {},
          "execution_count": 38
        },
        {
          "output_type": "display_data",
          "data": {
            "text/plain": [
              "<Figure size 640x480 with 1 Axes>"
            ],
            "image/png": "[encoded data removed]"
          },
          "metadata": {
            "needs_background": "light"
          }
        }
      ]
    },
    {
      "cell_type": "markdown",
      "source": [
        "For both models, the train/val curves coincide, which might mean that, if we increased the number of epochs, we would get better performance."
      ],
      "metadata": {
        "id": "nXTDmYpg71qO"
      }
    },
    {
      "cell_type": "markdown",
      "source": [
        "### Task 6 (*Bonus*): Grid search\n",
        "\n"
      ],
      "metadata": {
        "id": "Y-792wAXPAyj"
      }
    },
    {
      "cell_type": "markdown",
      "source": [
        "In this task, we try to do a grid parameter search to find the optimal hyperparameters for our MLP and CNN models. We iterate over two values for learning rate and two values for batch size. We use SGD optimizer with momentum. Of course, we could also iterate for example over different optimizers or momentum values, but that would make the execution time quite long.Therefore, we need to constrain ourselves."
      ],
      "metadata": {
        "id": "WzRkTmZjjYAm"
      }
    },
    {
      "cell_type": "code",
      "source": [
        "LR_GRID = [0.01, 0.1]\n",
        "BS_GRID = [256, 512]\n",
        "\n",
        "grid = list(product(LR_GRID, BS_GRID))\n",
        "\n",
        "max_acc = 0\n",
        "for index, (lr, bs) in enumerate(grid):\n",
        "\n",
        "    train_dataloader = DataLoader(\n",
        "        dataset=train_dataset, \n",
        "        batch_size=bs,\n",
        "        shuffle=True, \n",
        "        num_workers=2)\n",
        "\n",
        "    mlp = Net().to(DEVICE)\n",
        "\n",
        "    optimizer_mlp = optim.SGD(mlp.parameters(), lr=lr, momentum=0.9, nesterov=True)\n",
        "\n",
        "    train_losses, valid_losses, valid_accs = fit(\n",
        "        model=mlp, \n",
        "        train_dataloader=train_dataloader,\n",
        "        valid_dataloader=valid_dataloader,\n",
        "        optimizer=optimizer_mlp,\n",
        "        epochs=20,\n",
        "        device=DEVICE\n",
        "    )\n",
        "\n",
        "    print(f\"%\"*100)\n",
        "    print(f\"MLP: Trial {index}[lr={lr}, bs={bs}]: Validation accuracy = {valid_accs[-1]:.4f}\")\n",
        "    print(f\"%\"*100)\n",
        "\n",
        "    if valid_accs[-1] > max_acc:\n",
        "      max_acc = valid_accs[-1]\n",
        "      final_mlp = mlp"
      ],
      "metadata": {
        "colab": {
          "base_uri": "https://localhost:8080/"
        },
        "id": "YypB6GwpPc23",
        "outputId": "f9894501-e892-4557-bd18-5b35290c378e"
      },
      "execution_count": 39,
      "outputs": [
        {
          "output_type": "stream",
          "name": "stdout",
          "text": [
            "Epoch 0: Train Loss=0.0047, Validation Loss=0.0007, Validation acc=76.0200\n",
            "Epoch 1: Train Loss=0.0023, Validation Loss=0.0005, Validation acc=81.5200\n",
            "Epoch 2: Train Loss=0.0020, Validation Loss=0.0005, Validation acc=82.2900\n",
            "Epoch 3: Train Loss=0.0018, Validation Loss=0.0005, Validation acc=83.5300\n",
            "Epoch 4: Train Loss=0.0017, Validation Loss=0.0004, Validation acc=84.0000\n",
            "Epoch 5: Train Loss=0.0017, Validation Loss=0.0004, Validation acc=85.2700\n",
            "Epoch 6: Train Loss=0.0016, Validation Loss=0.0004, Validation acc=85.9700\n",
            "Epoch 7: Train Loss=0.0015, Validation Loss=0.0004, Validation acc=86.4900\n",
            "Epoch 8: Train Loss=0.0015, Validation Loss=0.0004, Validation acc=86.7300\n",
            "Epoch 9: Train Loss=0.0015, Validation Loss=0.0004, Validation acc=86.7400\n",
            "Epoch 10: Train Loss=0.0014, Validation Loss=0.0004, Validation acc=86.8900\n",
            "Epoch 11: Train Loss=0.0014, Validation Loss=0.0004, Validation acc=86.5000\n",
            "Epoch 12: Train Loss=0.0014, Validation Loss=0.0004, Validation acc=86.4700\n",
            "Epoch 13: Train Loss=0.0013, Validation Loss=0.0003, Validation acc=87.8000\n",
            "Epoch 14: Train Loss=0.0013, Validation Loss=0.0003, Validation acc=87.6000\n",
            "Epoch 15: Train Loss=0.0013, Validation Loss=0.0004, Validation acc=87.3000\n",
            "Epoch 16: Train Loss=0.0013, Validation Loss=0.0003, Validation acc=87.6000\n",
            "Epoch 17: Train Loss=0.0012, Validation Loss=0.0003, Validation acc=88.3900\n",
            "Epoch 18: Train Loss=0.0012, Validation Loss=0.0003, Validation acc=87.9900\n",
            "Epoch 19: Train Loss=0.0012, Validation Loss=0.0003, Validation acc=87.9300\n",
            "%%%%%%%%%%%%%%%%%%%%%%%%%%%%%%%%%%%%%%%%%%%%%%%%%%%%%%%%%%%%%%%%%%%%%%%%%%%%%%%%%%%%%%%%%%%%%%%%%%%%\n",
            "MLP: Trial 0[lr=0.01, bs=256]: Validation accuracy = 87.9300\n",
            "%%%%%%%%%%%%%%%%%%%%%%%%%%%%%%%%%%%%%%%%%%%%%%%%%%%%%%%%%%%%%%%%%%%%%%%%%%%%%%%%%%%%%%%%%%%%%%%%%%%%\n",
            "Epoch 0: Train Loss=0.0030, Validation Loss=0.0009, Validation acc=67.9600\n",
            "Epoch 1: Train Loss=0.0014, Validation Loss=0.0006, Validation acc=76.4900\n",
            "Epoch 2: Train Loss=0.0012, Validation Loss=0.0005, Validation acc=81.1700\n",
            "Epoch 3: Train Loss=0.0010, Validation Loss=0.0005, Validation acc=82.4400\n",
            "Epoch 4: Train Loss=0.0010, Validation Loss=0.0005, Validation acc=83.5200\n",
            "Epoch 5: Train Loss=0.0009, Validation Loss=0.0005, Validation acc=83.6000\n",
            "Epoch 6: Train Loss=0.0009, Validation Loss=0.0004, Validation acc=84.4100\n",
            "Epoch 7: Train Loss=0.0009, Validation Loss=0.0004, Validation acc=84.4600\n",
            "Epoch 8: Train Loss=0.0009, Validation Loss=0.0004, Validation acc=84.7500\n",
            "Epoch 9: Train Loss=0.0008, Validation Loss=0.0004, Validation acc=85.3900\n",
            "Epoch 10: Train Loss=0.0008, Validation Loss=0.0004, Validation acc=84.8600\n",
            "Epoch 11: Train Loss=0.0008, Validation Loss=0.0004, Validation acc=84.7700\n",
            "Epoch 12: Train Loss=0.0008, Validation Loss=0.0004, Validation acc=85.3500\n",
            "Epoch 13: Train Loss=0.0008, Validation Loss=0.0004, Validation acc=86.0800\n",
            "Epoch 14: Train Loss=0.0008, Validation Loss=0.0004, Validation acc=86.3300\n",
            "Epoch 15: Train Loss=0.0008, Validation Loss=0.0004, Validation acc=86.6900\n",
            "Epoch 16: Train Loss=0.0007, Validation Loss=0.0004, Validation acc=86.8400\n",
            "Epoch 17: Train Loss=0.0007, Validation Loss=0.0004, Validation acc=86.7400\n",
            "Epoch 18: Train Loss=0.0007, Validation Loss=0.0004, Validation acc=86.8200\n",
            "Epoch 19: Train Loss=0.0007, Validation Loss=0.0004, Validation acc=86.6500\n",
            "%%%%%%%%%%%%%%%%%%%%%%%%%%%%%%%%%%%%%%%%%%%%%%%%%%%%%%%%%%%%%%%%%%%%%%%%%%%%%%%%%%%%%%%%%%%%%%%%%%%%\n",
            "MLP: Trial 1[lr=0.01, bs=512]: Validation accuracy = 86.6500\n",
            "%%%%%%%%%%%%%%%%%%%%%%%%%%%%%%%%%%%%%%%%%%%%%%%%%%%%%%%%%%%%%%%%%%%%%%%%%%%%%%%%%%%%%%%%%%%%%%%%%%%%\n",
            "Epoch 0: Train Loss=0.0027, Validation Loss=0.0004, Validation acc=84.7600\n",
            "Epoch 1: Train Loss=0.0016, Validation Loss=0.0005, Validation acc=83.7900\n",
            "Epoch 2: Train Loss=0.0014, Validation Loss=0.0004, Validation acc=86.2600\n",
            "Epoch 3: Train Loss=0.0013, Validation Loss=0.0004, Validation acc=86.2200\n",
            "Epoch 4: Train Loss=0.0012, Validation Loss=0.0003, Validation acc=87.3500\n",
            "Epoch 5: Train Loss=0.0012, Validation Loss=0.0003, Validation acc=88.3300\n",
            "Epoch 6: Train Loss=0.0011, Validation Loss=0.0004, Validation acc=86.8600\n",
            "Epoch 7: Train Loss=0.0011, Validation Loss=0.0004, Validation acc=85.9100\n",
            "Epoch 8: Train Loss=0.0010, Validation Loss=0.0003, Validation acc=87.8500\n",
            "Epoch 9: Train Loss=0.0010, Validation Loss=0.0004, Validation acc=86.9500\n",
            "Epoch 10: Train Loss=0.0010, Validation Loss=0.0003, Validation acc=87.7700\n",
            "Epoch 11: Train Loss=0.0009, Validation Loss=0.0003, Validation acc=87.9700\n",
            "Epoch 12: Train Loss=0.0009, Validation Loss=0.0003, Validation acc=88.9000\n",
            "Epoch 13: Train Loss=0.0009, Validation Loss=0.0003, Validation acc=88.3200\n",
            "Epoch 14: Train Loss=0.0009, Validation Loss=0.0003, Validation acc=88.9500\n",
            "Epoch 15: Train Loss=0.0009, Validation Loss=0.0004, Validation acc=86.0100\n",
            "Epoch 16: Train Loss=0.0008, Validation Loss=0.0003, Validation acc=88.1700\n",
            "Epoch 17: Train Loss=0.0008, Validation Loss=0.0003, Validation acc=88.6200\n",
            "Epoch 18: Train Loss=0.0008, Validation Loss=0.0003, Validation acc=89.9200\n",
            "Epoch 19: Train Loss=0.0008, Validation Loss=0.0003, Validation acc=89.4600\n",
            "%%%%%%%%%%%%%%%%%%%%%%%%%%%%%%%%%%%%%%%%%%%%%%%%%%%%%%%%%%%%%%%%%%%%%%%%%%%%%%%%%%%%%%%%%%%%%%%%%%%%\n",
            "MLP: Trial 2[lr=0.1, bs=256]: Validation accuracy = 89.4600\n",
            "%%%%%%%%%%%%%%%%%%%%%%%%%%%%%%%%%%%%%%%%%%%%%%%%%%%%%%%%%%%%%%%%%%%%%%%%%%%%%%%%%%%%%%%%%%%%%%%%%%%%\n",
            "Epoch 0: Train Loss=0.0018, Validation Loss=0.0005, Validation acc=82.5000\n",
            "Epoch 1: Train Loss=0.0009, Validation Loss=0.0004, Validation acc=86.2200\n",
            "Epoch 2: Train Loss=0.0008, Validation Loss=0.0004, Validation acc=87.2100\n",
            "Epoch 3: Train Loss=0.0007, Validation Loss=0.0003, Validation acc=87.5300\n",
            "Epoch 4: Train Loss=0.0007, Validation Loss=0.0003, Validation acc=88.2600\n",
            "Epoch 5: Train Loss=0.0006, Validation Loss=0.0003, Validation acc=88.2700\n",
            "Epoch 6: Train Loss=0.0006, Validation Loss=0.0003, Validation acc=87.2900\n",
            "Epoch 7: Train Loss=0.0006, Validation Loss=0.0003, Validation acc=88.4600\n",
            "Epoch 8: Train Loss=0.0005, Validation Loss=0.0003, Validation acc=88.9100\n",
            "Epoch 9: Train Loss=0.0005, Validation Loss=0.0003, Validation acc=88.7700\n",
            "Epoch 10: Train Loss=0.0005, Validation Loss=0.0003, Validation acc=88.7500\n",
            "Epoch 11: Train Loss=0.0005, Validation Loss=0.0003, Validation acc=87.8800\n",
            "Epoch 12: Train Loss=0.0005, Validation Loss=0.0003, Validation acc=88.9700\n",
            "Epoch 13: Train Loss=0.0005, Validation Loss=0.0003, Validation acc=89.2100\n",
            "Epoch 14: Train Loss=0.0005, Validation Loss=0.0003, Validation acc=87.8500\n",
            "Epoch 15: Train Loss=0.0004, Validation Loss=0.0003, Validation acc=88.6400\n",
            "Epoch 16: Train Loss=0.0004, Validation Loss=0.0003, Validation acc=88.8900\n",
            "Epoch 17: Train Loss=0.0004, Validation Loss=0.0003, Validation acc=88.9100\n",
            "Epoch 18: Train Loss=0.0004, Validation Loss=0.0003, Validation acc=89.6800\n",
            "Epoch 19: Train Loss=0.0004, Validation Loss=0.0003, Validation acc=88.7400\n",
            "%%%%%%%%%%%%%%%%%%%%%%%%%%%%%%%%%%%%%%%%%%%%%%%%%%%%%%%%%%%%%%%%%%%%%%%%%%%%%%%%%%%%%%%%%%%%%%%%%%%%\n",
            "MLP: Trial 3[lr=0.1, bs=512]: Validation accuracy = 88.7400\n",
            "%%%%%%%%%%%%%%%%%%%%%%%%%%%%%%%%%%%%%%%%%%%%%%%%%%%%%%%%%%%%%%%%%%%%%%%%%%%%%%%%%%%%%%%%%%%%%%%%%%%%\n"
          ]
        }
      ]
    },
    {
      "cell_type": "markdown",
      "source": [
        "We succeeded in improving the accuracy of our MLP model from *Task 2* which used SGD with momentum optimizer. Its accuracy was around 85%, while the MLP model with $\\eta=0.1$ and $batch\\_size=256$ achieved an accuracy of around 89%."
      ],
      "metadata": {
        "id": "4JVcLn68pn35"
      }
    },
    {
      "cell_type": "code",
      "source": [
        "print(\"Best MLP model\")\n",
        "predict(model=final_mlp, test_dataloader=test_dataloader, device=DEVICE)"
      ],
      "metadata": {
        "colab": {
          "base_uri": "https://localhost:8080/"
        },
        "id": "1sA1HP4NTSXt",
        "outputId": "188eafbb-7837-4b0e-c629-483b449785ae"
      },
      "execution_count": 40,
      "outputs": [
        {
          "output_type": "stream",
          "name": "stdout",
          "text": [
            "Best MLP model\n",
            "Test set: Avg. loss: 0.0004, Accuracy: 8809/10000 (88%)\n"
          ]
        },
        {
          "output_type": "execute_result",
          "data": {
            "text/plain": [
              "(0.00035376969873905184, tensor(88.0900, device='cuda:0'))"
            ]
          },
          "metadata": {},
          "execution_count": 40
        }
      ]
    },
    {
      "cell_type": "code",
      "source": [
        "LR_GRID = [0.01, 0.1]\n",
        "BS_GRID = [256, 512]\n",
        "\n",
        "grid = list(product(LR_GRID, BS_GRID))\n",
        "\n",
        "max_acc = 0\n",
        "for index, (lr, bs) in enumerate(grid):\n",
        "\n",
        "    train_dataloader = DataLoader(\n",
        "        dataset=train_dataset, \n",
        "        batch_size=bs,\n",
        "        shuffle=True, \n",
        "        num_workers=2)\n",
        "\n",
        "    cnn = CNN().to(DEVICE)\n",
        "\n",
        "    optimizer_cnn = optim.SGD(cnn.parameters(), lr=lr, momentum=0.9, nesterov=True)\n",
        "\n",
        "    train_losses, valid_losses, valid_accs = fit(\n",
        "        model=cnn, \n",
        "        train_dataloader=train_dataloader,\n",
        "        valid_dataloader=valid_dataloader,\n",
        "        optimizer=optimizer_cnn,\n",
        "        epochs=20,\n",
        "        device=DEVICE\n",
        "    )\n",
        "\n",
        "    print(f\"%\"*100)\n",
        "    print(f\"CNN: Trial {index}[lr={lr}, bs={bs}]: Validation accuracy = {valid_accs[-1]:.4f}\")\n",
        "    print(f\"%\"*100)\n",
        "\n",
        "    if valid_accs[-1] > max_acc:\n",
        "      max_acc = valid_accs[-1]\n",
        "      final_cnn = cnn"
      ],
      "metadata": {
        "colab": {
          "base_uri": "https://localhost:8080/"
        },
        "id": "MW4VEeofRacJ",
        "outputId": "421bf3f9-eb55-4e3f-9601-f14008137892"
      },
      "execution_count": 41,
      "outputs": [
        {
          "output_type": "stream",
          "name": "stdout",
          "text": [
            "Epoch 0: Train Loss=0.0074, Validation Loss=0.0014, Validation acc=53.2400\n",
            "Epoch 1: Train Loss=0.0033, Validation Loss=0.0007, Validation acc=73.5900\n",
            "Epoch 2: Train Loss=0.0024, Validation Loss=0.0006, Validation acc=80.5300\n",
            "Epoch 3: Train Loss=0.0021, Validation Loss=0.0005, Validation acc=81.6900\n",
            "Epoch 4: Train Loss=0.0019, Validation Loss=0.0005, Validation acc=83.2500\n",
            "Epoch 5: Train Loss=0.0018, Validation Loss=0.0004, Validation acc=84.3000\n",
            "Epoch 6: Train Loss=0.0017, Validation Loss=0.0005, Validation acc=83.2500\n",
            "Epoch 7: Train Loss=0.0017, Validation Loss=0.0004, Validation acc=85.5700\n",
            "Epoch 8: Train Loss=0.0016, Validation Loss=0.0004, Validation acc=85.4900\n",
            "Epoch 9: Train Loss=0.0015, Validation Loss=0.0004, Validation acc=85.6600\n",
            "Epoch 10: Train Loss=0.0015, Validation Loss=0.0004, Validation acc=86.1100\n",
            "Epoch 11: Train Loss=0.0014, Validation Loss=0.0004, Validation acc=85.3200\n",
            "Epoch 12: Train Loss=0.0014, Validation Loss=0.0004, Validation acc=86.9300\n",
            "Epoch 13: Train Loss=0.0014, Validation Loss=0.0004, Validation acc=87.1800\n",
            "Epoch 14: Train Loss=0.0013, Validation Loss=0.0004, Validation acc=85.1400\n",
            "Epoch 15: Train Loss=0.0013, Validation Loss=0.0004, Validation acc=86.9100\n",
            "Epoch 16: Train Loss=0.0013, Validation Loss=0.0004, Validation acc=86.4800\n",
            "Epoch 17: Train Loss=0.0012, Validation Loss=0.0004, Validation acc=86.7000\n",
            "Epoch 18: Train Loss=0.0012, Validation Loss=0.0004, Validation acc=87.0100\n",
            "Epoch 19: Train Loss=0.0012, Validation Loss=0.0003, Validation acc=87.1100\n",
            "%%%%%%%%%%%%%%%%%%%%%%%%%%%%%%%%%%%%%%%%%%%%%%%%%%%%%%%%%%%%%%%%%%%%%%%%%%%%%%%%%%%%%%%%%%%%%%%%%%%%\n",
            "CNN: Trial 0[lr=0.01, bs=256]: Validation accuracy = 87.1100\n",
            "%%%%%%%%%%%%%%%%%%%%%%%%%%%%%%%%%%%%%%%%%%%%%%%%%%%%%%%%%%%%%%%%%%%%%%%%%%%%%%%%%%%%%%%%%%%%%%%%%%%%\n",
            "Epoch 0: Train Loss=0.0043, Validation Loss=0.0019, Validation acc=40.7500\n",
            "Epoch 1: Train Loss=0.0028, Validation Loss=0.0010, Validation acc=65.6400\n",
            "Epoch 2: Train Loss=0.0016, Validation Loss=0.0007, Validation acc=75.8800\n",
            "Epoch 3: Train Loss=0.0014, Validation Loss=0.0006, Validation acc=77.6200\n",
            "Epoch 4: Train Loss=0.0012, Validation Loss=0.0006, Validation acc=79.2700\n",
            "Epoch 5: Train Loss=0.0011, Validation Loss=0.0006, Validation acc=80.2600\n",
            "Epoch 6: Train Loss=0.0011, Validation Loss=0.0005, Validation acc=81.3300\n",
            "Epoch 7: Train Loss=0.0010, Validation Loss=0.0005, Validation acc=82.3300\n",
            "Epoch 8: Train Loss=0.0010, Validation Loss=0.0005, Validation acc=82.2500\n",
            "Epoch 9: Train Loss=0.0010, Validation Loss=0.0005, Validation acc=82.7300\n",
            "Epoch 10: Train Loss=0.0009, Validation Loss=0.0005, Validation acc=83.4100\n",
            "Epoch 11: Train Loss=0.0009, Validation Loss=0.0005, Validation acc=83.2800\n",
            "Epoch 12: Train Loss=0.0009, Validation Loss=0.0005, Validation acc=83.6800\n",
            "Epoch 13: Train Loss=0.0009, Validation Loss=0.0004, Validation acc=84.7900\n",
            "Epoch 14: Train Loss=0.0009, Validation Loss=0.0005, Validation acc=84.0800\n",
            "Epoch 15: Train Loss=0.0008, Validation Loss=0.0004, Validation acc=84.5700\n",
            "Epoch 16: Train Loss=0.0008, Validation Loss=0.0004, Validation acc=84.9400\n",
            "Epoch 17: Train Loss=0.0008, Validation Loss=0.0004, Validation acc=85.2000\n",
            "Epoch 18: Train Loss=0.0008, Validation Loss=0.0004, Validation acc=85.3100\n",
            "Epoch 19: Train Loss=0.0008, Validation Loss=0.0004, Validation acc=84.7800\n",
            "%%%%%%%%%%%%%%%%%%%%%%%%%%%%%%%%%%%%%%%%%%%%%%%%%%%%%%%%%%%%%%%%%%%%%%%%%%%%%%%%%%%%%%%%%%%%%%%%%%%%\n",
            "CNN: Trial 1[lr=0.01, bs=512]: Validation accuracy = 84.7800\n",
            "%%%%%%%%%%%%%%%%%%%%%%%%%%%%%%%%%%%%%%%%%%%%%%%%%%%%%%%%%%%%%%%%%%%%%%%%%%%%%%%%%%%%%%%%%%%%%%%%%%%%\n",
            "Epoch 0: Train Loss=0.0091, Validation Loss=0.0023, Validation acc=10.1400\n",
            "Epoch 1: Train Loss=0.0088, Validation Loss=0.0017, Validation acc=37.6900\n",
            "Epoch 2: Train Loss=0.0030, Validation Loss=0.0007, Validation acc=75.5500\n",
            "Epoch 3: Train Loss=0.0022, Validation Loss=0.0006, Validation acc=77.2700\n",
            "Epoch 4: Train Loss=0.0020, Validation Loss=0.0005, Validation acc=81.7900\n",
            "Epoch 5: Train Loss=0.0019, Validation Loss=0.0005, Validation acc=83.3700\n",
            "Epoch 6: Train Loss=0.0018, Validation Loss=0.0005, Validation acc=83.7700\n",
            "Epoch 7: Train Loss=0.0017, Validation Loss=0.0005, Validation acc=80.6600\n",
            "Epoch 8: Train Loss=0.0017, Validation Loss=0.0005, Validation acc=83.7600\n",
            "Epoch 9: Train Loss=0.0016, Validation Loss=0.0005, Validation acc=81.5700\n",
            "Epoch 10: Train Loss=0.0016, Validation Loss=0.0005, Validation acc=83.3300\n",
            "Epoch 11: Train Loss=0.0016, Validation Loss=0.0005, Validation acc=83.3900\n",
            "Epoch 12: Train Loss=0.0016, Validation Loss=0.0004, Validation acc=84.3200\n",
            "Epoch 13: Train Loss=0.0016, Validation Loss=0.0004, Validation acc=84.0400\n",
            "Epoch 14: Train Loss=0.0015, Validation Loss=0.0004, Validation acc=85.2000\n",
            "Epoch 15: Train Loss=0.0015, Validation Loss=0.0005, Validation acc=83.0000\n",
            "Epoch 16: Train Loss=0.0015, Validation Loss=0.0004, Validation acc=84.2500\n",
            "Epoch 17: Train Loss=0.0015, Validation Loss=0.0004, Validation acc=85.4900\n",
            "Epoch 18: Train Loss=0.0015, Validation Loss=0.0004, Validation acc=83.8800\n",
            "Epoch 19: Train Loss=0.0015, Validation Loss=0.0005, Validation acc=84.1500\n",
            "%%%%%%%%%%%%%%%%%%%%%%%%%%%%%%%%%%%%%%%%%%%%%%%%%%%%%%%%%%%%%%%%%%%%%%%%%%%%%%%%%%%%%%%%%%%%%%%%%%%%\n",
            "CNN: Trial 2[lr=0.1, bs=256]: Validation accuracy = 84.1500\n",
            "%%%%%%%%%%%%%%%%%%%%%%%%%%%%%%%%%%%%%%%%%%%%%%%%%%%%%%%%%%%%%%%%%%%%%%%%%%%%%%%%%%%%%%%%%%%%%%%%%%%%\n",
            "Epoch 0: Train Loss=0.0043, Validation Loss=0.0020, Validation acc=35.3300\n",
            "Epoch 1: Train Loss=0.0024, Validation Loss=0.0007, Validation acc=76.4900\n",
            "Epoch 2: Train Loss=0.0011, Validation Loss=0.0005, Validation acc=81.2500\n",
            "Epoch 3: Train Loss=0.0010, Validation Loss=0.0005, Validation acc=82.3800\n",
            "Epoch 4: Train Loss=0.0009, Validation Loss=0.0005, Validation acc=83.2400\n",
            "Epoch 5: Train Loss=0.0009, Validation Loss=0.0005, Validation acc=82.4800\n",
            "Epoch 6: Train Loss=0.0009, Validation Loss=0.0004, Validation acc=84.4600\n",
            "Epoch 7: Train Loss=0.0008, Validation Loss=0.0004, Validation acc=84.9800\n",
            "Epoch 8: Train Loss=0.0008, Validation Loss=0.0004, Validation acc=85.0100\n",
            "Epoch 9: Train Loss=0.0008, Validation Loss=0.0004, Validation acc=83.6700\n",
            "Epoch 10: Train Loss=0.0008, Validation Loss=0.0004, Validation acc=85.2400\n",
            "Epoch 11: Train Loss=0.0008, Validation Loss=0.0004, Validation acc=85.5500\n",
            "Epoch 12: Train Loss=0.0007, Validation Loss=0.0004, Validation acc=84.0400\n",
            "Epoch 13: Train Loss=0.0007, Validation Loss=0.0004, Validation acc=84.9200\n",
            "Epoch 14: Train Loss=0.0007, Validation Loss=0.0004, Validation acc=85.9100\n",
            "Epoch 15: Train Loss=0.0007, Validation Loss=0.0004, Validation acc=85.3700\n",
            "Epoch 16: Train Loss=0.0007, Validation Loss=0.0004, Validation acc=86.0000\n",
            "Epoch 17: Train Loss=0.0007, Validation Loss=0.0004, Validation acc=85.9800\n",
            "Epoch 18: Train Loss=0.0007, Validation Loss=0.0004, Validation acc=86.1300\n",
            "Epoch 19: Train Loss=0.0007, Validation Loss=0.0004, Validation acc=85.3100\n",
            "%%%%%%%%%%%%%%%%%%%%%%%%%%%%%%%%%%%%%%%%%%%%%%%%%%%%%%%%%%%%%%%%%%%%%%%%%%%%%%%%%%%%%%%%%%%%%%%%%%%%\n",
            "CNN: Trial 3[lr=0.1, bs=512]: Validation accuracy = 85.3100\n",
            "%%%%%%%%%%%%%%%%%%%%%%%%%%%%%%%%%%%%%%%%%%%%%%%%%%%%%%%%%%%%%%%%%%%%%%%%%%%%%%%%%%%%%%%%%%%%%%%%%%%%\n"
          ]
        }
      ]
    },
    {
      "cell_type": "markdown",
      "source": [
        "Compared to the *Task 3* CNN model using SGD with momentum (where accuracy was 86%), we only increased the accuracy by 1%, by using the same $\\eta=0.01$ and reducing the batch size from 1024 to 256."
      ],
      "metadata": {
        "id": "W2huqY1PsRom"
      }
    },
    {
      "cell_type": "code",
      "source": [
        "print(\"Best CNN model\")\n",
        "predict(model=final_cnn, test_dataloader=test_dataloader, device=DEVICE)"
      ],
      "metadata": {
        "colab": {
          "base_uri": "https://localhost:8080/"
        },
        "id": "7gwskNt_TTF9",
        "outputId": "0ff5109f-28dd-45fd-fe01-559fe8b768c1"
      },
      "execution_count": 42,
      "outputs": [
        {
          "output_type": "stream",
          "name": "stdout",
          "text": [
            "Best CNN model\n",
            "Test set: Avg. loss: 0.0004, Accuracy: 8598/10000 (86%)\n"
          ]
        },
        {
          "output_type": "execute_result",
          "data": {
            "text/plain": [
              "(0.00038585223555564883, tensor(85.9800, device='cuda:0'))"
            ]
          },
          "metadata": {},
          "execution_count": 42
        }
      ]
    },
    {
      "cell_type": "markdown",
      "source": [
        "## Exercise 3: Multi-Task Learning with `MultiMNIST`"
      ],
      "metadata": {
        "id": "jt3n6oqi1rKH"
      }
    },
    {
      "cell_type": "markdown",
      "source": [
        "### Task 1: Function `make_new_sample`"
      ],
      "metadata": {
        "id": "JP71-EegyI0P"
      }
    },
    {
      "cell_type": "markdown",
      "source": [
        "This function takes as input two images represented as tensors of shape `(num_channels, height, width)` ($28\\times28$) and outputs a new $36\\times36$ image as a combination of the two. Note that we introduce the first dimension of `num_channels=1`, because it is the image representation `PyTorch` works with. The number of channels is 1 since all images in the `MNIST` dataset are grayscale."
      ],
      "metadata": {
        "id": "I3YhpzI78Mpp"
      }
    },
    {
      "cell_type": "code",
      "source": [
        "def make_new_sample(x1: torch.Tensor, x2: torch.Tensor) -> torch.Tensor:\n",
        "  res = torch.zeros((1,36,36))\n",
        "  res[0, :28, :28] = x1\n",
        "  res[0, 8:, 8:] = torch.maximum(res[0, 8:, 8:], x2)\n",
        "  return res"
      ],
      "metadata": {
        "id": "G688A4nj1yM7"
      },
      "execution_count": 43,
      "outputs": []
    },
    {
      "cell_type": "markdown",
      "source": [
        "### Task 2: Creating the `MultiMNIST` dataset"
      ],
      "metadata": {
        "id": "lH661UTOySd3"
      }
    },
    {
      "cell_type": "markdown",
      "source": [
        "As we did many times until now, we load the train and test `MNIST` datasets."
      ],
      "metadata": {
        "id": "6PQSogoP9XYd"
      }
    },
    {
      "cell_type": "code",
      "source": [
        "TRAIN_SIZE = 60000\n",
        "TEST_SIZE = 10000\n",
        "\n",
        "# The data are given as PIL images. We need to convert our data to a type \n",
        "# that is readable by a Neural Network. Thus, we use the ToTensor() \"transform\" \n",
        "transform = T.Compose([\n",
        "    T.ToTensor()\n",
        "])\n",
        "\n",
        "train_mnist = torchvision.datasets.MNIST(\n",
        "    root='./data/', \n",
        "    train=True, \n",
        "    download=True,\n",
        "    transform=transform)\n",
        "\n",
        "test_mnist = torchvision.datasets.MNIST(\n",
        "    root='./data/', \n",
        "    train=False, \n",
        "    download=True,\n",
        "    transform=transform)"
      ],
      "metadata": {
        "id": "1ro1_Fe-4Kc-"
      },
      "execution_count": 44,
      "outputs": []
    },
    {
      "cell_type": "markdown",
      "source": [
        "Here we create lists of new multi-image-samples and labels, which we will later parse to the `MultiMNIST` dataset instances. The main idea is to create a $60000\\times2$ and $10000\\times2$ matrices for train and test sets respectively. The values are randomly generated indices of images in the original `MNIST` train/test sets, and their rows represent two images that we are going to merge and use as a sample for our new `MultiMNIST` dataset. "
      ],
      "metadata": {
        "id": "1enc3gH69ep1"
      }
    },
    {
      "cell_type": "code",
      "source": [
        "train_indices = np.random.randint(low=0, high=TRAIN_SIZE, size=(TRAIN_SIZE,2))\n",
        "test_indices = np.random.randint(low=0, high=TEST_SIZE, size=(TEST_SIZE,2))\n",
        "\n",
        "# Creating training samples and labels\n",
        "train_multimnist_samples = []\n",
        "train_multimnist_label1 = []\n",
        "train_multimnist_label2 = []\n",
        "for i in range(TRAIN_SIZE):\n",
        "  img1 = train_indices[i][0]\n",
        "  img2 = train_indices[i][1]\n",
        "  multi_image = make_new_sample(train_mnist[img1][0][0], train_mnist[img2][0][0])\n",
        "  train_multimnist_samples.append(multi_image)\n",
        "  train_multimnist_label1.append(train_mnist[img1][1])\n",
        "  train_multimnist_label2.append(train_mnist[img2][1])\n",
        "\n",
        "# Creating test samples and labels\n",
        "test_multimnist_samples = []\n",
        "test_multimnist_label1 = []\n",
        "test_multimnist_label2 = []\n",
        "for i in range(TEST_SIZE):\n",
        "  img1 = test_indices[i][0]\n",
        "  img2 = test_indices[i][1]\n",
        "  multi_image = make_new_sample(test_mnist[img1][0][0], test_mnist[img2][0][0])\n",
        "  test_multimnist_samples.append(multi_image)\n",
        "  test_multimnist_label1.append(test_mnist[img1][1])\n",
        "  test_multimnist_label2.append(test_mnist[img2][1])"
      ],
      "metadata": {
        "id": "CbD3DTIroUVi"
      },
      "execution_count": 45,
      "outputs": []
    },
    {
      "cell_type": "markdown",
      "source": [
        "Now we create a `MultiMNIST` class that inherits `PyTorch`'s `Dataset` class - a wrapper for our new dataset. We need to define two functions that are implicitly used when iterating through the sets:\n",
        "\n",
        "- `__len__()`: the length (number of samples) of the dataset\n",
        "- `__getitem__(idx)`: returns the sample at index `idx`"
      ],
      "metadata": {
        "id": "hd8n49kp_kjz"
      }
    },
    {
      "cell_type": "code",
      "source": [
        "class MultiMNIST(Dataset):\n",
        "  def __init__(self, samples, label1, label2):\n",
        "    self.samples = samples\n",
        "    self.label1 = label1\n",
        "    self.label2 = label2\n",
        "\n",
        "  def __len__(self):\n",
        "    return len(self.samples)\n",
        "\n",
        "  def __getitem__(self, idx):\n",
        "    return self.samples[idx], self.label1[idx], self.label2[idx]"
      ],
      "metadata": {
        "id": "KNHNt-HFoXbI"
      },
      "execution_count": 46,
      "outputs": []
    },
    {
      "cell_type": "markdown",
      "source": [
        "Further, we create the instances of train and test sets. As before, we will have a validation set to evaluate the performance during training phase."
      ],
      "metadata": {
        "id": "lfIktrUOAMUs"
      }
    },
    {
      "cell_type": "code",
      "source": [
        "train_dataset = MultiMNIST(train_multimnist_samples, train_multimnist_label1, train_multimnist_label2)\n",
        "\n",
        "train_dataset,  valid_dataset = random_split(\n",
        "    train_dataset, \n",
        "    lengths=[50000, 10000], \n",
        "    generator=torch.Generator().manual_seed(456)\n",
        ")\n",
        "\n",
        "test_dataset = MultiMNIST(test_multimnist_samples, test_multimnist_label1, test_multimnist_label2)"
      ],
      "metadata": {
        "id": "2gBy9OVspY6e"
      },
      "execution_count": 47,
      "outputs": []
    },
    {
      "cell_type": "markdown",
      "source": [
        "We define batch sizes and create dataloaders for each set.\n"
      ],
      "metadata": {
        "id": "yTw2-Ko5Bl9C"
      }
    },
    {
      "cell_type": "code",
      "source": [
        "# Define the hyperparameters\n",
        "BATCH_SIZE = 1024\n",
        "TEST_BATCH_SIZE = 1024\n",
        "\n",
        "# Find out which device is available\n",
        "DEVICE = torch.device(\"cuda\" if torch.cuda.is_available() else \"cpu\")\n",
        "print(DEVICE)\n",
        "\n",
        "# construct the dataloader for the traininig dataset. \n",
        "# Here we shuffle the data to promote stochasticity.\n",
        "train_dataloader = DataLoader(\n",
        "    dataset=train_dataset, \n",
        "    batch_size=BATCH_SIZE,\n",
        "    shuffle=True, \n",
        "    num_workers=2)\n",
        "\n",
        "valid_dataloader = DataLoader(\n",
        "    dataset=valid_dataset, \n",
        "    batch_size=TEST_BATCH_SIZE,\n",
        "    shuffle=False, \n",
        "    num_workers=2)\n",
        "\n",
        "# Construct the dataloader for the testing dataset.\n",
        "test_dataloader = DataLoader(\n",
        "    dataset=test_dataset, \n",
        "    batch_size=TEST_BATCH_SIZE,\n",
        "    shuffle=False, \n",
        "    num_workers=2)"
      ],
      "metadata": {
        "colab": {
          "base_uri": "https://localhost:8080/"
        },
        "id": "vB8tKhFvqs_B",
        "outputId": "d306361f-1bd3-4736-a154-d3e7b8a29517"
      },
      "execution_count": 48,
      "outputs": [
        {
          "output_type": "stream",
          "name": "stdout",
          "text": [
            "cuda\n"
          ]
        }
      ]
    },
    {
      "cell_type": "markdown",
      "source": [
        "Let us visualize a few of our new samples."
      ],
      "metadata": {
        "id": "yGSZ1NUaB-6X"
      }
    },
    {
      "cell_type": "code",
      "source": [
        "figure = plt.figure(figsize=(8, 8))\n",
        "cols, rows = 3, 3\n",
        "for i in range(1, cols * rows + 1):\n",
        "    sample_idx = torch.randint(len(train_dataset), size=(1,)).item()\n",
        "    img, label1, label2 = train_dataset[sample_idx]\n",
        "    figure.add_subplot(rows, cols, i)\n",
        "    plt.title(f\"{label1}, {label2}\")\n",
        "    plt.axis(\"off\")\n",
        "    plt.imshow(img.squeeze(), cmap=\"viridis\")\n",
        "plt.show()"
      ],
      "metadata": {
        "colab": {
          "base_uri": "https://localhost:8080/",
          "height": 482
        },
        "id": "VWSQYiw5rieF",
        "outputId": "074865f5-6e72-4224-8be3-fe0c4c4b0280"
      },
      "execution_count": 49,
      "outputs": [
        {
          "output_type": "display_data",
          "data": {
            "text/plain": [
              "<Figure size 576x576 with 9 Axes>"
            ],
            "image/png": "[encoded data removed]"
          },
          "metadata": {
            "needs_background": "light"
          }
        }
      ]
    },
    {
      "cell_type": "markdown",
      "source": [
        "### Task 3: Creating the Multi-Task model"
      ],
      "metadata": {
        "id": "IqV3md-Lyd67"
      }
    },
    {
      "cell_type": "markdown",
      "source": [
        "It is now time to create the proper model architecture for Multi-Task learning. Our `forward` function returns two 10-sized outputs - one for each decoder."
      ],
      "metadata": {
        "id": "sUmlY7pmCHU3"
      }
    },
    {
      "cell_type": "code",
      "source": [
        "class MultiTaskModel(nn.Module):\n",
        "  def __init__(self):\n",
        "    super().__init__()\n",
        "\n",
        "    self.conv = nn.Sequential(\n",
        "      nn.Conv2d(in_channels=1, out_channels=10, kernel_size=5, stride=1, padding=2),\n",
        "      nn.ReLU(),\n",
        "      nn.MaxPool2d(kernel_size=2),\n",
        "      nn.Conv2d(in_channels=10, out_channels=20, kernel_size=5, stride=1, padding=2),\n",
        "      nn.ReLU(),\n",
        "      nn.MaxPool2d(kernel_size=2)\n",
        "    )\n",
        "    self.linear = nn.Linear(1620,50)\n",
        "    self.out1 = nn.Linear(50,10)\n",
        "    self.out2 = nn.Linear(50,10)\n",
        "\n",
        "  def forward(self, x):\n",
        "    # propagate through convolutional layers\n",
        "    x = self.conv(x)\n",
        "    # flattening the \"convolutional\" output\n",
        "    x = x.view(x.size(0), -1)\n",
        "    # propagate through FC layer\n",
        "    x = self.linear(x)\n",
        "\n",
        "    # decode first image\n",
        "    x1 = self.out1(x)\n",
        "    # decode second image\n",
        "    x2 = self.out2(x)\n",
        "\n",
        "    return x1, x2"
      ],
      "metadata": {
        "id": "UrKFBKClw06-"
      },
      "execution_count": 50,
      "outputs": []
    },
    {
      "cell_type": "markdown",
      "source": [
        "### Task 4: Training the Multi-Task model"
      ],
      "metadata": {
        "id": "j39jrRUs25N3"
      }
    },
    {
      "cell_type": "markdown",
      "source": [
        "We modify the `train_epoch` function so it can handle two losses. First, when we iterate through the dataset, we now get two different targets. When we run the model, we get two different outputs. Finall loss is computed as a mean of task losses."
      ],
      "metadata": {
        "id": "RnwyIrQYFFog"
      }
    },
    {
      "cell_type": "code",
      "source": [
        "def train_epoch_multi(\n",
        "    model: nn.Module, \n",
        "    train_dataloader: DataLoader, \n",
        "    optimizer: torch.optim.Optimizer, \n",
        "    device: torch.device\n",
        "    ):\n",
        "    '''\n",
        "    This function implements the core components of any Neural Network training regiment.\n",
        "    In our stochastic setting our code follows a very specific \"path\". First, we load the batch\n",
        "    a single batch and zero the optimizer. Then we perform the forward pass, compute the gradients and perform the backward pass. And ...repeat!\n",
        "    '''\n",
        "\n",
        "    running_loss = 0.0\n",
        "    model = model.to(device)\n",
        "    model.train()\n",
        "    for batch_idx, (data, target1, target2) in enumerate(train_dataloader):\n",
        "        # move data and targets to device\n",
        "        data, target1, target2 = data.to(device), target1.to(device), target2.to(device)\n",
        "        # zero the parameter gradients\n",
        "        optimizer.zero_grad()\n",
        "        # do the forward pass\n",
        "        output1, output2 = model(data)\n",
        "        # compute the losses and average them\n",
        "        loss1, loss2 = F.cross_entropy(output1, target1), F.cross_entropy(output2, target2)\n",
        "        loss = (loss1 + loss2) / 2\n",
        "\n",
        "        # compute the gradients\n",
        "        loss.backward()\n",
        "\n",
        "        # perform the gradient step\n",
        "        optimizer.step()\n",
        "        \n",
        "        # print statistics\n",
        "        running_loss += loss.item()\n",
        "    \n",
        "    return running_loss / len(train_dataloader.dataset)"
      ],
      "metadata": {
        "id": "j53r3_ol2LiC"
      },
      "execution_count": 51,
      "outputs": []
    },
    {
      "cell_type": "markdown",
      "source": [
        "We also have to modify the `predict` function. In addition to the loss computation described above, we also change the accuracy implementation. When calculating the number of correct classifications, we distinguish between three cases:\n",
        "\n",
        "- +0: None of the two digits from the image are correctly classified\n",
        "- +1: One of the two digits are correctly classified\n",
        "- +2: Both digits are correctly classified\n",
        "\n",
        "In order to calculate the accuracy, we need to divide the number of correctly classified digits by twice the length of the dataset, since we have twice as many digits than images."
      ],
      "metadata": {
        "id": "4RalqZKcF71K"
      }
    },
    {
      "cell_type": "code",
      "source": [
        "def predict_multi(model: nn.Module, test_dataloader: DataLoader, device: torch.device, verbose=True):\n",
        "    model.eval()\n",
        "    test_loss = 0\n",
        "    correct = 0\n",
        "    with torch.no_grad():\n",
        "        for data, target1, target2 in test_dataloader:\n",
        "            data, target1, target2 = data.to(device), target1.to(device), target2.to(device)\n",
        "            output1, output2 = model(data)\n",
        "            loss1, loss2 = F.cross_entropy(output1, target1), F.cross_entropy(output2, target2)\n",
        "            loss = (loss1 + loss2) / 2\n",
        "            test_loss += loss.item()\n",
        "            pred1 = output1.data.max(1, keepdim=True)[1]\n",
        "            pred2 = output2.data.max(1, keepdim=True)[1]\n",
        "            # the correct classifications are now digit-wise\n",
        "            correct += pred1.eq(target1.data.view_as(pred1)).sum() + pred2.eq(target2.data.view_as(pred2)).sum()\n",
        "\n",
        "    test_loss /= len(test_dataloader.dataset)\n",
        "    # divide by 2*len(test_set)\n",
        "    accuracy = 100.0 * correct / (len(test_dataloader.dataset)*2)\n",
        "\n",
        "    if verbose:\n",
        "        print(\n",
        "            f\"Test set: Avg. loss: {test_loss:.4f}, Accuracy: {correct}/{2*len(test_dataloader.dataset)} ({accuracy:.0f}%)\"\n",
        "        )\n",
        "\n",
        "    return test_loss, accuracy"
      ],
      "metadata": {
        "id": "YYQhn4i7F3-z"
      },
      "execution_count": 52,
      "outputs": []
    },
    {
      "cell_type": "markdown",
      "source": [
        "Instead of `predict`, the `fit_multi` function now calls `predict_multi` function."
      ],
      "metadata": {
        "id": "-qps2h0oHI8w"
      }
    },
    {
      "cell_type": "code",
      "source": [
        "def fit_multi(\n",
        "    model: nn.Module, \n",
        "    train_dataloader: DataLoader, \n",
        "    optimizer: torch.optim.Optimizer, \n",
        "    epochs: int, \n",
        "    device: torch.device,\n",
        "    valid_dataloader: Optional[DataLoader]=None):\n",
        "    '''\n",
        "    the fit method simply calls the train_epoch() method for a \n",
        "    specified number of epochs.\n",
        "    '''\n",
        "\n",
        "    # keep track of the losses in order to visualize them later\n",
        "    # Train for numerous epochs:\n",
        "    train_losses = []\n",
        "    valid_losses = []\n",
        "    valid_accs = []\n",
        "    for epoch in range(epochs):\n",
        "        train_loss = train_epoch_multi(\n",
        "            model=model, \n",
        "            train_dataloader=train_dataloader, \n",
        "            optimizer=optimizer, \n",
        "            device=device\n",
        "        )\n",
        "        train_losses.append(train_loss)\n",
        "\n",
        "        if valid_dataloader is not None:\n",
        "            # a call to predict_multi instead of predict\n",
        "            valid_loss, valid_acc = predict_multi(model, valid_dataloader, device, verbose=False)\n",
        "            valid_losses.append(valid_loss)\n",
        "            valid_accs.append(valid_acc)\n",
        "\n",
        "        if valid_dataloader is None:\n",
        "            print(f\"Epoch {epoch}: Train Loss={train_loss:.4f}\")\n",
        "        else:\n",
        "            print(f\"Epoch {epoch}: Train Loss={train_loss:.4f}, Validation Loss={valid_loss:.4f}, Validation acc={valid_acc:.4f}\")\n",
        "\n",
        "    return train_losses, valid_losses, valid_accs"
      ],
      "metadata": {
        "id": "r3guZs13EsqM"
      },
      "execution_count": 53,
      "outputs": []
    },
    {
      "cell_type": "markdown",
      "source": [
        "We define the hyperparameters, initialize our model and define the optimizer."
      ],
      "metadata": {
        "id": "Ll6pMt8tHS7g"
      }
    },
    {
      "cell_type": "code",
      "source": [
        "LEARNING_RATE = 0.01\n",
        "MOMENTUM = 0.9\n",
        "EPOCHS = 20\n",
        "\n",
        "# Find out which device is available\n",
        "DEVICE = torch.device(\"cuda\" if torch.cuda.is_available() else \"cpu\")\n",
        "print(DEVICE)\n",
        "\n",
        "model_mtm = MultiTaskModel()\n",
        "\n",
        "optimizer_mtm = optim.SGD(model_mtm.parameters(), lr=LEARNING_RATE, momentum=MOMENTUM, nesterov=True)"
      ],
      "metadata": {
        "colab": {
          "base_uri": "https://localhost:8080/"
        },
        "id": "Wef4VTnkDhC4",
        "outputId": "5ab69339-1007-4061-d7d0-c0222a0cb684"
      },
      "execution_count": 54,
      "outputs": [
        {
          "output_type": "stream",
          "name": "stdout",
          "text": [
            "cuda\n"
          ]
        }
      ]
    },
    {
      "cell_type": "markdown",
      "source": [
        "It is time for training!"
      ],
      "metadata": {
        "id": "6pxNqtsII3QB"
      }
    },
    {
      "cell_type": "code",
      "source": [
        "# Training the MultiTask model\n",
        "print(f\"%\"*100)\n",
        "print(f\"Training the MultiTask model\")\n",
        "print(f\"%\"*100)\n",
        "train_losses_mtm, valid_losses_mtm, valid_accs_mtm = fit_multi(\n",
        "        model=model_mtm, \n",
        "        train_dataloader=train_dataloader,\n",
        "        valid_dataloader=valid_dataloader,\n",
        "        optimizer=optimizer_mtm,\n",
        "        epochs=EPOCHS,\n",
        "        device=DEVICE\n",
        "    )"
      ],
      "metadata": {
        "colab": {
          "base_uri": "https://localhost:8080/"
        },
        "id": "gXfk6NZWDmUi",
        "outputId": "bb71044d-1693-4f9d-8635-e7f1e170467a"
      },
      "execution_count": 55,
      "outputs": [
        {
          "output_type": "stream",
          "name": "stdout",
          "text": [
            "%%%%%%%%%%%%%%%%%%%%%%%%%%%%%%%%%%%%%%%%%%%%%%%%%%%%%%%%%%%%%%%%%%%%%%%%%%%%%%%%%%%%%%%%%%%%%%%%%%%%\n",
            "Training the MultiTask model\n",
            "%%%%%%%%%%%%%%%%%%%%%%%%%%%%%%%%%%%%%%%%%%%%%%%%%%%%%%%%%%%%%%%%%%%%%%%%%%%%%%%%%%%%%%%%%%%%%%%%%%%%\n",
            "Epoch 0: Train Loss=0.0022, Validation Loss=0.0022, Validation acc=33.6050\n",
            "Epoch 1: Train Loss=0.0018, Validation Loss=0.0015, Validation acc=53.1550\n",
            "Epoch 2: Train Loss=0.0007, Validation Loss=0.0005, Validation acc=84.5100\n",
            "Epoch 3: Train Loss=0.0004, Validation Loss=0.0004, Validation acc=87.3100\n",
            "Epoch 4: Train Loss=0.0004, Validation Loss=0.0003, Validation acc=89.5650\n",
            "Epoch 5: Train Loss=0.0003, Validation Loss=0.0003, Validation acc=90.6400\n",
            "Epoch 6: Train Loss=0.0003, Validation Loss=0.0003, Validation acc=91.8000\n",
            "Epoch 7: Train Loss=0.0002, Validation Loss=0.0002, Validation acc=92.6450\n",
            "Epoch 8: Train Loss=0.0002, Validation Loss=0.0002, Validation acc=93.2950\n",
            "Epoch 9: Train Loss=0.0002, Validation Loss=0.0002, Validation acc=93.7950\n",
            "Epoch 10: Train Loss=0.0002, Validation Loss=0.0002, Validation acc=94.3000\n",
            "Epoch 11: Train Loss=0.0002, Validation Loss=0.0002, Validation acc=94.7150\n",
            "Epoch 12: Train Loss=0.0002, Validation Loss=0.0002, Validation acc=94.9700\n",
            "Epoch 13: Train Loss=0.0001, Validation Loss=0.0002, Validation acc=95.1050\n",
            "Epoch 14: Train Loss=0.0001, Validation Loss=0.0001, Validation acc=95.5550\n",
            "Epoch 15: Train Loss=0.0001, Validation Loss=0.0001, Validation acc=95.7300\n",
            "Epoch 16: Train Loss=0.0001, Validation Loss=0.0001, Validation acc=95.5600\n",
            "Epoch 17: Train Loss=0.0001, Validation Loss=0.0001, Validation acc=95.9350\n",
            "Epoch 18: Train Loss=0.0001, Validation Loss=0.0001, Validation acc=95.9800\n",
            "Epoch 19: Train Loss=0.0001, Validation Loss=0.0001, Validation acc=95.9800\n"
          ]
        }
      ]
    },
    {
      "cell_type": "markdown",
      "source": [
        "Our model performs very well, with an accuracy of 96%. "
      ],
      "metadata": {
        "id": "cbjHb5zwI_kH"
      }
    },
    {
      "cell_type": "code",
      "source": [
        "print('Predictions using the MultiTask model: ')\n",
        "predict_multi(model=model_mtm, test_dataloader=test_dataloader, device=DEVICE)"
      ],
      "metadata": {
        "colab": {
          "base_uri": "https://localhost:8080/"
        },
        "id": "89r59E7zEh0b",
        "outputId": "d227eb82-7bb5-4d4f-bd8f-98c75b18e875"
      },
      "execution_count": 56,
      "outputs": [
        {
          "output_type": "stream",
          "name": "stdout",
          "text": [
            "Predictions using the MultiTask model: \n",
            "Test set: Avg. loss: 0.0001, Accuracy: 19218/20000 (96%)\n"
          ]
        },
        {
          "output_type": "execute_result",
          "data": {
            "text/plain": [
              "(0.00012198365703225136, tensor(96.0900, device='cuda:0'))"
            ]
          },
          "metadata": {},
          "execution_count": 56
        }
      ]
    },
    {
      "cell_type": "markdown",
      "source": [
        "The performance on the test set lives up to the expectations we got from the validation metrics.\n",
        "\n",
        "Finally, we plot the train/val curves."
      ],
      "metadata": {
        "id": "uxoT_WpUJHXK"
      }
    },
    {
      "cell_type": "code",
      "source": [
        "fig = plt.figure(figsize=(8,6), dpi=80)\n",
        "plt.title('Loss - Multi-Task Model ', fontsize=14)\n",
        "plt.xlabel('Epoch')\n",
        "plt.ylabel('Loss')\n",
        "plt.plot(train_losses_mtm, label='train')\n",
        "plt.plot(valid_losses_mtm, label='val')\n",
        "plt.legend(fontsize=10)"
      ],
      "metadata": {
        "colab": {
          "base_uri": "https://localhost:8080/",
          "height": 464
        },
        "id": "jLXpawVAE3Su",
        "outputId": "667d6a81-feef-41d2-af42-c55ae57b1d5f"
      },
      "execution_count": 57,
      "outputs": [
        {
          "output_type": "execute_result",
          "data": {
            "text/plain": [
              "<matplotlib.legend.Legend at 0x7f6fd4b72f40>"
            ]
          },
          "metadata": {},
          "execution_count": 57
        },
        {
          "output_type": "display_data",
          "data": {
            "text/plain": [
              "<Figure size 640x480 with 1 Axes>"
            ],
            "image/png": "[encoded data removed]"
          },
          "metadata": {
            "needs_background": "light"
          }
        }
      ]
    },
    {
      "cell_type": "markdown",
      "source": [
        "We see that the train/val curves match, hence overfitting did not occur. They monotonically decrease, and increasing the number of epochs would probably yield slightly better results."
      ],
      "metadata": {
        "id": "QKCJc7AnJRaf"
      }
    }
  ],
  "metadata": {
    "colab": {
      "provenance": [],
      "collapsed_sections": [
        "nin18ZUfttp0",
        "jt3n6oqi1rKH"
      ]
    },
    "kernelspec": {
      "display_name": "Python 3 (ipykernel)",
      "language": "python",
      "name": "python3"
    },
    "language_info": {
      "codemirror_mode": {
        "name": "ipython",
        "version": 3
      },
      "file_extension": ".py",
      "mimetype": "text/x-python",
      "name": "python",
      "nbconvert_exporter": "python",
      "pygments_lexer": "ipython3",
      "version": "3.9.12"
    },
    "accelerator": "GPU",
    "gpuClass": "standard"
  },
  "nbformat": 4,
  "nbformat_minor": 0
}