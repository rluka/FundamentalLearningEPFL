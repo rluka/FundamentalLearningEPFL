{
 "cells": [
  {
   "cell_type": "markdown",
   "id": "b57b7f5d-80dc-4d01-8ce4-a5df3b221045",
   "metadata": {},
   "source": [
    "# Homework 2 - Luka Radić\n",
    "### SCIPER: 354502"
   ]
  },
  {
   "cell_type": "markdown",
   "id": "ac1cda8e-8472-4776-9b64-f5e894087720",
   "metadata": {},
   "source": [
    "## Import the libraries needed"
   ]
  },
  {
   "cell_type": "code",
   "execution_count": 1,
   "id": "61862be3-e8ab-44dc-8a7b-dbc41126e60d",
   "metadata": {},
   "outputs": [],
   "source": [
    "%matplotlib inline\n",
    "import matplotlib.pyplot as plt\n",
    "\n",
    "from sklearn.datasets import load_digits\n",
    "from sklearn.model_selection import train_test_split\n",
    "from sklearn.preprocessing import StandardScaler\n",
    "from sklearn.linear_model import LogisticRegression\n",
    "from sklearn.utils import check_random_state\n",
    "from sklearn.model_selection import GridSearchCV\n",
    "from sklearn.model_selection import KFold\n",
    "from sklearn.svm import LinearSVC\n",
    "from sklearn.linear_model import RidgeClassifier\n",
    "from sklearn.ensemble import RandomForestClassifier\n",
    "\n",
    "import numpy as np\n",
    "import time"
   ]
  },
  {
   "cell_type": "markdown",
   "id": "a80a9867-02d2-4e68-be2f-8fcdfcc9f41b",
   "metadata": {
    "tags": []
   },
   "source": [
    "## Exercise 1: Classifying digits with Scikit-learn"
   ]
  },
  {
   "cell_type": "markdown",
   "id": "a8a40667-5e5a-467d-9c41-9fac1d64d45c",
   "metadata": {},
   "source": [
    "### Task 1: Import and prepare the data"
   ]
  },
  {
   "cell_type": "markdown",
   "id": "8744f70d-f4fd-40d6-b3a6-8f1ac60e6e5a",
   "metadata": {},
   "source": [
    "First we import the data and transform the multi-class outputs to binary: 0 (even) and 1 (odd)."
   ]
  },
  {
   "cell_type": "code",
   "execution_count": 2,
   "id": "9dbe4dab-bfe0-4cd7-aeaf-36c208e64cf7",
   "metadata": {},
   "outputs": [],
   "source": [
    "# Loading the digits, and extracting samples and labels\n",
    "digits = load_digits(return_X_y = True)\n",
    "X = digits[0]\n",
    "y = digits[1]\n",
    "y = y & 1 # bitwise AND for checking the parity "
   ]
  },
  {
   "cell_type": "markdown",
   "id": "831e3f26-5f7e-43a5-bd4f-c97f81fb43e9",
   "metadata": {},
   "source": [
    "Then, we split the dataset in the 60-40 train-test ratio. Even though the `train_test_split` function shuffles the data, we shuffle it manually anyway."
   ]
  },
  {
   "cell_type": "code",
   "execution_count": 3,
   "id": "ce2ce3b8-efed-400f-986c-f34da26356fe",
   "metadata": {},
   "outputs": [],
   "source": [
    "train_proportion = 0.6\n",
    "test_proportion = 0.4\n",
    "\n",
    "# Shuffle the data randomly just in case\n",
    "random_state = check_random_state(456)\n",
    "permutation = random_state.permutation(X.shape[0])\n",
    "X = X[permutation]\n",
    "y = y[permutation]\n",
    "\n",
    "# Split the data in 60-40 ratio\n",
    "X_ttrain, X_ttest, y_train, y_test = train_test_split(X,y,train_size=train_proportion,test_size=test_proportion)"
   ]
  },
  {
   "cell_type": "markdown",
   "id": "3b86bcf8-ea53-442a-bf8e-91deaa17c7cd",
   "metadata": {},
   "source": [
    "In both subsets, the ratio of number of class representatives is $\\approx 1$, which means our dataset is balanced i.e. we have approximately the same number of samples from both classes."
   ]
  },
  {
   "cell_type": "code",
   "execution_count": 4,
   "id": "c78fa260-b0ca-40ce-9ef4-8d534736f035",
   "metadata": {},
   "outputs": [
    {
     "name": "stdout",
     "output_type": "stream",
     "text": [
      "Even/Odd ratio for the TRAIN set: 0.9458\n",
      "Even/Odd ratio for the TEST set: 1.0426\n"
     ]
    }
   ],
   "source": [
    "print(\"Even/Odd ratio for the TRAIN set: {:.4f}\".format( sum(y_train==0) / sum(y_train==1) ))\n",
    "print(\"Even/Odd ratio for the TEST set: {:.4f}\".format( sum(y_test==0) / sum(y_test==1) ))"
   ]
  },
  {
   "cell_type": "markdown",
   "id": "1c63d8e9-75e0-4669-b369-1613c24e911e",
   "metadata": {},
   "source": [
    "We scale the inputs in hopes of better performance."
   ]
  },
  {
   "cell_type": "code",
   "execution_count": 5,
   "id": "b6195db1-de74-4f9e-829a-363e300d14dc",
   "metadata": {},
   "outputs": [],
   "source": [
    "scaler = StandardScaler().fit(X_ttrain)\n",
    "X_train = scaler.transform(X_ttrain)\n",
    "X_test = scaler.transform(X_ttest)"
   ]
  },
  {
   "cell_type": "markdown",
   "id": "3e0a7655-36e8-4d8a-a3a7-58e5c3b51d4f",
   "metadata": {},
   "source": [
    "### Task 2: Logistic Regression"
   ]
  },
  {
   "cell_type": "markdown",
   "id": "95bac648-7ab9-492a-a2cf-f40dbbc71ccf",
   "metadata": {},
   "source": [
    "We will first implement the model using L2-regularization, with fixed $\\lambda = 10$. We get the accuracy of around $90\\%$ on the test set, which is a very good result. The sparsity is low, with only around $5\\%$ of weights being 0."
   ]
  },
  {
   "cell_type": "code",
   "execution_count": 6,
   "id": "dcd1fbc7-78be-4c76-8465-494b4baf43a0",
   "metadata": {},
   "outputs": [
    {
     "name": "stdout",
     "output_type": "stream",
     "text": [
      "Logistic Regression ran in 0.059s\n",
      "Percentage of non-zero weights L2: 93.75%\n",
      "Logistic Regression ACCURACY on the TEST set: 91.52%\n"
     ]
    }
   ],
   "source": [
    "t0 = time.time()\n",
    "\n",
    "lr_model = LogisticRegression(C=1e-1, penalty='l2', solver='saga', tol=0.01)\n",
    "lr_model.fit(X_train, y_train)\n",
    "sparsity = np.mean(lr_model.coef_ == 0)\n",
    "acc = lr_model.score(X_test, y_test)\n",
    "\n",
    "run_time = time.time()-t0\n",
    "print(\"Logistic Regression ran in {:.3f}s\".format(run_time))\n",
    "print(\"Percentage of non-zero weights L2: {:.2f}%\".format((1-sparsity)*100))\n",
    "print(\"Logistic Regression ACCURACY on the TEST set: {:.2f}%\".format(acc*100))"
   ]
  },
  {
   "cell_type": "markdown",
   "id": "9368bae2-ea2d-42b0-a661-33821091ce0a",
   "metadata": {},
   "source": [
    "We repeat the training with the same setup, but instead we now use L1-regularization. The accuracy is similar to the case above, but now the sparsity is at around $35\\%$. This indeed makes sense, as L1-regularization (the sum of absolute weights) is constructed to encourage sparsity and focus on the most important features."
   ]
  },
  {
   "cell_type": "code",
   "execution_count": 7,
   "id": "9b0c0f3a-58b6-44c2-96fd-d9c24ccf7713",
   "metadata": {},
   "outputs": [
    {
     "name": "stdout",
     "output_type": "stream",
     "text": [
      "Logistic Regression ran in 0.059s\n",
      "Percentage of non-zero weights L1: 53.12%\n",
      "Logistic Regression ACCURACY on the TEST set: 90.40%\n"
     ]
    }
   ],
   "source": [
    "t0 = time.time()\n",
    "\n",
    "lr_model = LogisticRegression(C=1e-1, penalty='l1', solver='saga', tol=0.01)\n",
    "lr_model.fit(X_train, y_train)\n",
    "sparsity = np.mean(lr_model.coef_ == 0)\n",
    "acc = lr_model.score(X_test, y_test)\n",
    "\n",
    "run_time = time.time()-t0\n",
    "print(\"Logistic Regression ran in {:.3f}s\".format(run_time))\n",
    "print(\"Percentage of non-zero weights L1: {:.2f}%\".format((1-sparsity)*100))\n",
    "print(\"Logistic Regression ACCURACY on the TEST set: {:.2f}%\".format(acc*100))"
   ]
  },
  {
   "cell_type": "markdown",
   "id": "1925f698-80d2-4001-9ab9-f61d773e2155",
   "metadata": {},
   "source": [
    "We now do the hyperparameter optimization using cross-validation, where we try out different values of $\\lambda$, both for L1- and L2- penalties."
   ]
  },
  {
   "cell_type": "code",
   "execution_count": 28,
   "id": "dc679eb1-94ac-4dd4-aac2-1b4f4c9c67ca",
   "metadata": {},
   "outputs": [
    {
     "name": "stdout",
     "output_type": "stream",
     "text": [
      "Fitting 5 folds for each of 6 candidates, totalling 30 fits\n",
      "\n",
      "The optimal *l1* regularization parameter Lambda is 1.0\n",
      "Percentage of non-zero weights *l1*: 87.50%\n",
      "For, *l1* penalty, the ACCURACY on the TRAIN set is: 93.23%\n",
      "For, *l1* penalty, the ACCURACY on the TEST set is: 91.79%\n",
      "\n",
      "Fitting 5 folds for each of 6 candidates, totalling 30 fits\n",
      "\n",
      "The optimal *l2* regularization parameter Lambda is 0.1\n",
      "Percentage of non-zero weights *l2*: 93.75%\n",
      "For, *l2* penalty, the ACCURACY on the TRAIN set is: 93.41%\n",
      "For, *l2* penalty, the ACCURACY on the TEST set is: 91.66%\n",
      "\n"
     ]
    }
   ],
   "source": [
    "lambda_ = np.logspace(-1, 4, num=6)\n",
    "parameters = {'C' : 1/lambda_}\n",
    "pen_vec = ['l1', 'l2']\n",
    "\n",
    "folds = KFold(n_splits = 5, shuffle = True, random_state = 10)\n",
    "\n",
    "for pen in pen_vec:\n",
    "    lr_model = LogisticRegression(C=1e-1, penalty=pen, solver='saga', tol=0.01)\n",
    "    lr_model_cv = GridSearchCV(estimator = lr_model, \n",
    "                            param_grid = parameters, \n",
    "                            scoring= 'accuracy', \n",
    "                            cv = folds, \n",
    "                            verbose = 1,\n",
    "                            return_train_score=True) \n",
    "\n",
    "    lr_model_cv.fit(X_train, y_train)\n",
    "    print()\n",
    "    sparsity = np.mean(lr_model_cv.best_estimator_.coef_ == 0)\n",
    "    \n",
    "    print(f\"The optimal *{pen}* regularization parameter Lambda is {1/lr_model_cv.best_params_['C']}\")\n",
    "    train_acc = np.mean(y_train == lr_model_cv.predict(X_train))\n",
    "    test_acc = np.mean(y_test == lr_model_cv.predict(X_test))\n",
    "    print(\"Percentage of non-zero weights *{}*: {:.2f}%\".format(pen, (1-sparsity)*100))\n",
    "    print(\"For, *{}* penalty, the ACCURACY on the TRAIN set is: {:.2f}%\".format(pen, train_acc*100))\n",
    "    print(\"For, *{}* penalty, the ACCURACY on the TEST set is: {:.2f}%\".format(pen, test_acc*100))\n",
    "    print()\n"
   ]
  },
  {
   "cell_type": "markdown",
   "id": "b1aa22f5-e94a-4d63-b2a8-af25a7fe0c84",
   "metadata": {},
   "source": [
    "As expected, the accuracies for both penalty types are similar, and the number of non-zero weights is always lower for the L1-penalty, no matter how many times we run the algorithm."
   ]
  },
  {
   "cell_type": "markdown",
   "id": "00dcb9d3-3236-40e0-a810-830491ba323c",
   "metadata": {},
   "source": [
    "### Task 3: Ridge and Hinge"
   ]
  },
  {
   "cell_type": "markdown",
   "id": "e78aa89e-1da3-4e54-a5be-6642e3ba37dd",
   "metadata": {},
   "source": [
    "*Ridge* classifier by definition uses the loss in the form *MSE + L2-penalty*. We tune the hyper-parameter $\\lambda$ in a similar manner as before, by checking the values $\\lambda \\in [10, 10^7]$."
   ]
  },
  {
   "cell_type": "code",
   "execution_count": 9,
   "id": "9c7572f6-4597-4ff6-811f-1b7c7536e5cb",
   "metadata": {},
   "outputs": [
    {
     "name": "stdout",
     "output_type": "stream",
     "text": [
      "Fitting 5 folds for each of 7 candidates, totalling 35 fits\n",
      "The optimal regularization parameter Lambda is 10.0\n",
      "The accuracy on the TRAIN set is: 92.39%\n",
      "The accuracy on the TEST set is: 90.13%\n"
     ]
    }
   ],
   "source": [
    "folds = KFold(n_splits = 5, shuffle = True, random_state = 10)\n",
    "alpha = {'alpha' : np.logspace(1, 7, num=7)}\n",
    "\n",
    "ridge_model = RidgeClassifier(max_iter=1000)\n",
    "ridge_model_cv = GridSearchCV(estimator = ridge_model, \n",
    "                        param_grid = alpha, \n",
    "                        scoring= 'accuracy', \n",
    "                        cv = folds, \n",
    "                        verbose = 1,\n",
    "                        return_train_score=True)\n",
    "\n",
    "ridge_model_cv.fit(X_train, y_train)\n",
    "\n",
    "print(f\"The optimal regularization parameter Lambda is {ridge_model_cv.best_params_['alpha']}\")\n",
    "train_acc = np.mean(y_train == ridge_model_cv.predict(X_train))\n",
    "test_acc = np.mean(y_test == ridge_model_cv.predict(X_test))\n",
    "print(\"The accuracy on the TRAIN set is: {:.2f}%\".format(train_acc*100))\n",
    "print(\"The accuracy on the TEST set is: {:.2f}%\".format(test_acc*100))"
   ]
  },
  {
   "cell_type": "markdown",
   "id": "8a76f6e0-5019-4c1c-bc52-ca4299cb2d3b",
   "metadata": {},
   "source": [
    "We see that Ridge classification's accuracy almost coincides with the test performance of the best Logistic regression models."
   ]
  },
  {
   "cell_type": "markdown",
   "id": "a9cc8166-68f2-461e-a68f-d6a1cc5c1681",
   "metadata": {},
   "source": [
    "Now, we implement a Support Vector Machine (SVM) as our classifier, which uses *Hinge* loss. This loss function does not penalize the samples that are correctly classified (right side of the margin), but linearly penalizes the samples inside the margin or on the other side of it. We study $\\lambda \\in [1, 10^4]$."
   ]
  },
  {
   "cell_type": "code",
   "execution_count": 10,
   "id": "bfc7b37e-36a6-4bdd-95f1-95e7258075e5",
   "metadata": {},
   "outputs": [
    {
     "name": "stdout",
     "output_type": "stream",
     "text": [
      "Fitting 5 folds for each of 5 candidates, totalling 25 fits\n",
      "The optimal regularization parameter Lambda is 1.0\n",
      "The accuracy on the TRAIN set is: 93.97%\n",
      "The accuracy on the TEST set is: 91.93%\n"
     ]
    }
   ],
   "source": [
    "folds = KFold(n_splits = 5, shuffle = True, random_state = 10)\n",
    "lambda_ = np.logspace(0, 4, num=5)\n",
    "parameters = {'C': 1/lambda_}\n",
    "\n",
    "hinge_model = LinearSVC(loss=\"hinge\", max_iter=100000)\n",
    "hinge_model_cv = GridSearchCV(estimator = hinge_model, \n",
    "                        param_grid = parameters, \n",
    "                        scoring= 'accuracy', \n",
    "                        cv = folds, \n",
    "                        verbose = 1,\n",
    "                        return_train_score=True)      \n",
    "\n",
    "hinge_model_cv.fit(X_train, y_train)\n",
    "\n",
    "print(f\"The optimal regularization parameter Lambda is {1/hinge_model_cv.best_params_['C']}\")\n",
    "train_acc = np.mean(y_train == hinge_model_cv.predict(X_train))\n",
    "test_acc = np.mean(y_test == hinge_model_cv.predict(X_test))\n",
    "print(\"The accuracy on the TRAIN set is: {:.2f}%\".format(train_acc*100))\n",
    "print(\"The accuracy on the TEST set is: {:.2f}%\".format(test_acc*100))"
   ]
  },
  {
   "cell_type": "markdown",
   "id": "69f9fe66-0ae1-4893-b715-467af81f138d",
   "metadata": {},
   "source": [
    "As before, the test accuracy using SVM has a similar value of around $90\\%$."
   ]
  },
  {
   "cell_type": "markdown",
   "id": "1a649dd8-57e5-41db-89ba-817d4832037d",
   "metadata": {},
   "source": [
    "### Task 4: Random Forest"
   ]
  },
  {
   "cell_type": "markdown",
   "id": "7c43e060-e957-4539-80cd-f79281f8ce55",
   "metadata": {},
   "source": [
    "Random Forest classifier averages the outputs of many decision tree classifiers to improve the predictive accuracy and control over-fitting. Having more trees also reduces the variance of the model. They have proven to be one of the strongest models to deal with structured data. Here, we are trying to optimize the number of trees in the \"forest\", again using cross-validation. We are leaving the `max_depth` parameter to its default value (which expands the tree until the leaves are pure) in order to minimize bias as much as possible."
   ]
  },
  {
   "cell_type": "code",
   "execution_count": 11,
   "id": "955f461b-9190-4b83-8da0-9dfd050afc0a",
   "metadata": {},
   "outputs": [
    {
     "name": "stdout",
     "output_type": "stream",
     "text": [
      "Fitting 5 folds for each of 4 candidates, totalling 20 fits\n",
      "The optimal number of estimators is 1000\n",
      "The accuracy on the TEST set is: 97.50%\n"
     ]
    }
   ],
   "source": [
    "folds = KFold(n_splits = 5, shuffle = True, random_state = 10)\n",
    "parameters = {'n_estimators': np.logspace(1, 4, num=4).astype(int)}\n",
    "\n",
    "rf_model = RandomForestClassifier()\n",
    "rf_model_cv = GridSearchCV(estimator = rf_model, \n",
    "                        param_grid = parameters, \n",
    "                        scoring= 'accuracy', \n",
    "                        cv = folds, \n",
    "                        verbose = 1,\n",
    "                        return_train_score=True)      \n",
    "\n",
    "rf_model_cv.fit(X_train, y_train)\n",
    "\n",
    "print(f\"The optimal number of estimators is {rf_model_cv.best_params_['n_estimators']}\")\n",
    "train_acc = np.mean(y_train == rf_model_cv.predict(X_train))\n",
    "test_acc = np.mean(y_test == rf_model_cv.predict(X_test))\n",
    "#print(\"The accuracy on the TRAIN set is: {:.2f}%\".format(train_acc*100))\n",
    "print(\"The accuracy on the TEST set is: {:.2f}%\".format(test_acc*100))"
   ]
  },
  {
   "cell_type": "markdown",
   "id": "a5b57ccb-c7ad-4a72-a368-f82e644c9ed9",
   "metadata": {},
   "source": [
    "The accuracy on the test set jumped significantly, proving the predictive power of the Random Forest classifier."
   ]
  },
  {
   "cell_type": "markdown",
   "id": "c03d54e9-346d-48bd-bb0e-470dda856d9a",
   "metadata": {},
   "source": [
    "### Task 5: Random Feature"
   ]
  },
  {
   "cell_type": "markdown",
   "id": "6a0473eb-9802-4531-9c48-e8c8c9e19f0b",
   "metadata": {},
   "source": [
    "First of all, we define the functions `sigmoid` - which simply calculates the element-wise sigmoid function on the matrix $X$ - and `transform_input` - which transforms each sample $x_i \\in \\mathbb{R}^d$ into $u_i \\in \\mathbb{R}^D$ as:\n",
    "$$\n",
    "u_i = \\frac{1}{\\sqrt{D}} \\; \\sigma(F \\; x_i)\n",
    "$$\n",
    "where $F$ is a random normally distributed matrix of variance $\\frac{1}{d}$.\n",
    "\n",
    "Since we apply the input transformations on both train and test sets, we will define the matrix $F$ outside of the function, as it needs to be the same for both sets."
   ]
  },
  {
   "cell_type": "code",
   "execution_count": 12,
   "id": "e246a7d9-b57f-4045-b7ba-ed1ddaa77f69",
   "metadata": {},
   "outputs": [],
   "source": [
    "def sigmoid(X):\n",
    "    return 1 / (1 + np.exp(-X))\n",
    "\n",
    "def transform_input(X, D, F):\n",
    "    d = X.shape[1]\n",
    "    U = np.sqrt(1/D) * sigmoid(X @ F.T)\n",
    "    return U"
   ]
  },
  {
   "cell_type": "markdown",
   "id": "ad66e19e-bc5f-463d-a058-39907d02d906",
   "metadata": {},
   "source": [
    "Now, for each value of transformed feature vector dimension $D$, we repeat the same procedure as with regular L2-penalty logistic regression. The only difference is that we transform our sets using the function above, and only then we do scaling again."
   ]
  },
  {
   "cell_type": "code",
   "execution_count": 13,
   "id": "44208bdc-4cfd-4be0-b988-e46aa041a9dd",
   "metadata": {},
   "outputs": [
    {
     "name": "stdout",
     "output_type": "stream",
     "text": [
      "Fitting 5 folds for each of 6 candidates, totalling 30 fits\n",
      "Fitting 5 folds for each of 6 candidates, totalling 30 fits\n",
      "Fitting 5 folds for each of 6 candidates, totalling 30 fits\n",
      "Fitting 5 folds for each of 6 candidates, totalling 30 fits\n",
      "Fitting 5 folds for each of 6 candidates, totalling 30 fits\n",
      "Fitting 5 folds for each of 6 candidates, totalling 30 fits\n",
      "Fitting 5 folds for each of 6 candidates, totalling 30 fits\n",
      "Fitting 5 folds for each of 6 candidates, totalling 30 fits\n",
      "Fitting 5 folds for each of 6 candidates, totalling 30 fits\n",
      "Fitting 5 folds for each of 6 candidates, totalling 30 fits\n",
      "Fitting 5 folds for each of 6 candidates, totalling 30 fits\n",
      "Fitting 5 folds for each of 6 candidates, totalling 30 fits\n",
      "Fitting 5 folds for each of 6 candidates, totalling 30 fits\n",
      "Fitting 5 folds for each of 6 candidates, totalling 30 fits\n",
      "Fitting 5 folds for each of 6 candidates, totalling 30 fits\n",
      "Fitting 5 folds for each of 6 candidates, totalling 30 fits\n",
      "Fitting 5 folds for each of 6 candidates, totalling 30 fits\n",
      "Fitting 5 folds for each of 6 candidates, totalling 30 fits\n",
      "Fitting 5 folds for each of 6 candidates, totalling 30 fits\n",
      "Fitting 5 folds for each of 6 candidates, totalling 30 fits\n",
      "Fitting 5 folds for each of 6 candidates, totalling 30 fits\n",
      "Fitting 5 folds for each of 6 candidates, totalling 30 fits\n",
      "Fitting 5 folds for each of 6 candidates, totalling 30 fits\n",
      "Fitting 5 folds for each of 6 candidates, totalling 30 fits\n",
      "Fitting 5 folds for each of 6 candidates, totalling 30 fits\n",
      "\n",
      "For D=128, the TRAIN accuracy is 96.38%\n",
      "For D=128, the TEST accuracy is 93.05%\n",
      "For D=128, the best LAMBDA is 0.01\n",
      "\n",
      "For D=256, the TRAIN accuracy is 97.50%\n",
      "For D=256, the TEST accuracy is 96.11%\n",
      "For D=256, the best LAMBDA is 1e-06\n",
      "\n",
      "For D=384, the TRAIN accuracy is 98.70%\n",
      "For D=384, the TEST accuracy is 94.71%\n",
      "For D=384, the best LAMBDA is 0.01\n",
      "\n",
      "For D=512, the TRAIN accuracy is 98.52%\n",
      "For D=512, the TEST accuracy is 95.69%\n",
      "For D=512, the best LAMBDA is 1e-07\n",
      "\n",
      "For D=640, the TRAIN accuracy is 98.24%\n",
      "For D=640, the TEST accuracy is 95.13%\n",
      "For D=640, the best LAMBDA is 0.0001\n",
      "\n",
      "For D=768, the TRAIN accuracy is 98.61%\n",
      "For D=768, the TEST accuracy is 96.66%\n",
      "For D=768, the best LAMBDA is 0.001\n",
      "\n",
      "For D=896, the TRAIN accuracy is 98.05%\n",
      "For D=896, the TEST accuracy is 96.38%\n",
      "For D=896, the best LAMBDA is 0.0001\n",
      "\n",
      "For D=1024, the TRAIN accuracy is 99.26%\n",
      "For D=1024, the TEST accuracy is 96.52%\n",
      "For D=1024, the best LAMBDA is 1e-06\n",
      "\n",
      "For D=1152, the TRAIN accuracy is 99.17%\n",
      "For D=1152, the TEST accuracy is 97.08%\n",
      "For D=1152, the best LAMBDA is 1e-07\n",
      "\n",
      "For D=1280, the TRAIN accuracy is 99.17%\n",
      "For D=1280, the TEST accuracy is 96.52%\n",
      "For D=1280, the best LAMBDA is 0.01\n",
      "\n",
      "For D=1408, the TRAIN accuracy is 99.54%\n",
      "For D=1408, the TEST accuracy is 97.08%\n",
      "For D=1408, the best LAMBDA is 0.001\n",
      "\n",
      "For D=1536, the TRAIN accuracy is 99.44%\n",
      "For D=1536, the TEST accuracy is 96.66%\n",
      "For D=1536, the best LAMBDA is 1e-07\n",
      "\n",
      "For D=1664, the TRAIN accuracy is 98.89%\n",
      "For D=1664, the TEST accuracy is 96.52%\n",
      "For D=1664, the best LAMBDA is 0.0001\n",
      "\n",
      "For D=1792, the TRAIN accuracy is 99.17%\n",
      "For D=1792, the TEST accuracy is 96.24%\n",
      "For D=1792, the best LAMBDA is 1e-07\n",
      "\n",
      "For D=1920, the TRAIN accuracy is 99.81%\n",
      "For D=1920, the TEST accuracy is 97.64%\n",
      "For D=1920, the best LAMBDA is 0.0001\n",
      "\n",
      "For D=2048, the TRAIN accuracy is 99.81%\n",
      "For D=2048, the TEST accuracy is 96.94%\n",
      "For D=2048, the best LAMBDA is 1e-07\n",
      "\n",
      "For D=2176, the TRAIN accuracy is 99.54%\n",
      "For D=2176, the TEST accuracy is 97.08%\n",
      "For D=2176, the best LAMBDA is 0.01\n",
      "\n",
      "For D=2304, the TRAIN accuracy is 99.81%\n",
      "For D=2304, the TEST accuracy is 97.64%\n",
      "For D=2304, the best LAMBDA is 1e-06\n",
      "\n",
      "For D=2432, the TRAIN accuracy is 98.79%\n",
      "For D=2432, the TEST accuracy is 96.94%\n",
      "For D=2432, the best LAMBDA is 1e-05\n",
      "\n",
      "For D=2560, the TRAIN accuracy is 99.63%\n",
      "For D=2560, the TEST accuracy is 96.94%\n",
      "For D=2560, the best LAMBDA is 1e-05\n",
      "\n",
      "For D=2688, the TRAIN accuracy is 99.07%\n",
      "For D=2688, the TEST accuracy is 97.22%\n",
      "For D=2688, the best LAMBDA is 0.0001\n",
      "\n",
      "For D=2816, the TRAIN accuracy is 99.35%\n",
      "For D=2816, the TEST accuracy is 97.91%\n",
      "For D=2816, the best LAMBDA is 1e-05\n",
      "\n",
      "For D=2944, the TRAIN accuracy is 99.07%\n",
      "For D=2944, the TEST accuracy is 96.24%\n",
      "For D=2944, the best LAMBDA is 0.01\n",
      "\n",
      "For D=3072, the TRAIN accuracy is 99.44%\n",
      "For D=3072, the TEST accuracy is 97.22%\n",
      "For D=3072, the best LAMBDA is 1e-06\n",
      "\n",
      "For D=3200, the TRAIN accuracy is 99.72%\n",
      "For D=3200, the TEST accuracy is 97.08%\n",
      "For D=3200, the best LAMBDA is 0.0001\n",
      "\n"
     ]
    }
   ],
   "source": [
    "lambda_ = np.logspace(-7, -2, num=6)\n",
    "parameters = {'C' : 1/lambda_}\n",
    "\n",
    "d = X_train.shape[1]\n",
    "D_vec = (np.arange(25)+1) * 2 *d\n",
    "\n",
    "train_accs = []\n",
    "test_accs = []\n",
    "best_hypers = []\n",
    "\n",
    "for D in D_vec:\n",
    "    F = np.random.normal(0, np.sqrt(1/d), (D, d))\n",
    "    U_train = transform_input(X_ttrain, D, F)\n",
    "    U_test = transform_input(X_ttest, D, F)\n",
    "    \n",
    "    scaler = StandardScaler().fit(U_train)\n",
    "    U_train = scaler.transform(U_train)\n",
    "    U_test = scaler.transform(U_test)\n",
    "    \n",
    "    folds = KFold(n_splits = 5, shuffle = True, random_state = 10)\n",
    "\n",
    "    lr_model = LogisticRegression(C=1e5, penalty='l2', solver='sag', tol=0.1)\n",
    "    lr_model_cv = GridSearchCV(estimator = lr_model, \n",
    "                            param_grid = parameters, \n",
    "                            scoring= 'accuracy', \n",
    "                            cv = folds, \n",
    "                            verbose = 1,\n",
    "                            return_train_score=True) \n",
    "\n",
    "    lr_model_cv.fit(U_train, y_train)\n",
    "    \n",
    "    train_accs.append(np.mean(y_train == lr_model_cv.predict(U_train)))\n",
    "    test_accs.append(np.mean(y_test == lr_model_cv.predict(U_test)))\n",
    "    best_hypers.append(1/lr_model_cv.best_params_['C'])\n",
    "\n",
    "print()\n",
    "for i in range(len(D_vec)):\n",
    "    print(\"For D={}, the TRAIN accuracy is {:.2f}%\".format(D_vec[i], train_accs[i]*100))\n",
    "    print(\"For D={}, the TEST accuracy is {:.2f}%\".format(D_vec[i], test_accs[i]*100))\n",
    "    print(f\"For D={D_vec[i]}, the best LAMBDA is {best_hypers[i]}\")\n",
    "    print()"
   ]
  },
  {
   "cell_type": "markdown",
   "id": "54f65492-9e46-4913-a550-c6ce448c5ae5",
   "metadata": {},
   "source": [
    "Furthermore, we plot the accuracy obtained on both the train and test sets."
   ]
  },
  {
   "cell_type": "code",
   "execution_count": 14,
   "id": "cd93e750-f83b-486b-b3fe-960c0af074d8",
   "metadata": {},
   "outputs": [
    {
     "data": {
      "text/plain": [
       "<matplotlib.legend.Legend at 0x22993515a30>"
      ]
     },
     "execution_count": 14,
     "metadata": {},
     "output_type": "execute_result"
    },
    {
     "data": {
      "image/png": "[encoded data removed]",
      "text/plain": [
       "<Figure size 560x400 with 1 Axes>"
      ]
     },
     "metadata": {
      "needs_background": "light"
     },
     "output_type": "display_data"
    }
   ],
   "source": [
    "fig = plt.figure(figsize=(7,5), dpi=80)\n",
    "plt.title('Accuracy', fontsize=16)\n",
    "plt.xlabel('$D$', fontsize=14)\n",
    "plt.plot(D_vec, train_accs, label='train')\n",
    "plt.plot(D_vec, test_accs, label='test')\n",
    "plt.legend(fontsize=12)"
   ]
  },
  {
   "cell_type": "markdown",
   "id": "c477553d-51cd-46ab-b3d4-4e69e5803e6d",
   "metadata": {},
   "source": [
    "Kernel functions are convenient as they can represent the $\\mathbb{R}^\\infty$ feature space, while also being practically implementable. However, the computation of the Kernel matrix is getting very complex as the volume of data grows. One of the soultions is to approximate the feature map with finite number of dimensions $D$ $(\\Phi(x) \\in \\mathbb{R}^D)$ in a way that we defined our transformed vector $u_i$. The larger the $D$ is, the closer we are to dimensionality of $\\infty$ where we have \"full information\", which explains why our accuracies are growing as $D$ increases.\n",
    "\n",
    "We also notice that our test accuracy has improved comparing to all other classifiers (except the Random Forest)."
   ]
  },
  {
   "cell_type": "markdown",
   "id": "089bb675-36f1-40e1-a801-923ecfece079",
   "metadata": {},
   "source": [
    "## Excercise 2: Statistical Learning with Nearest-Neighbors\n",
    "\n",
    "For the purpose of this exercise, we assume that our data is generated from an (unknown) distribution $\\mathbb{P}(X,Y)$ with $X \\in \\mathbb{R}^d$, $Y \\in \\mathbb{R}$ and $\\text{var}(Y)=\\sigma^2$."
   ]
  },
  {
   "cell_type": "markdown",
   "id": "4ae443a4-303d-45ab-b2c8-b985c1bcd4ed",
   "metadata": {},
   "source": [
    "### Task 1: Optimal classifier in terms of minimizing the population risk\n",
    "In order to minimize the expected population risk, we will rewrite the expression using the rules that hold for conditional expectation: \n",
    "$$\n",
    "\\mathbb{E}_{X,Y}\\left((f(X)-Y)^2\\right) = \\mathbb{E}_{X} \\left[ \\mathbb{E}_{Y|X} \\left( Y|X - \\hat{Y} \\right)^2 \\right]\n",
    "$$\n",
    "where $\\hat{Y} = f(X)$.\n",
    "\n",
    "We therefore need to minimize only the inner expectation $\\mathbb{E}_{Y|X} ( Y|X - \\hat{Y} )^2$ w.r.t. $\\hat{Y}$: if we minimize the expression for each fixed $X$, the result will be minimized in total; we will just aggregate individual minimized expectations with $\\mathbb{E}_X$.\n",
    "\n",
    "We set the derivative of the population risk over $\\hat{Y}$ equal to zero:\n",
    "$$\n",
    "-2 \\mathbb{E}_{Y|X} ( Y|X - \\hat{Y} ) = 0\n",
    "$$\n",
    "\n",
    "From here, we finally get the optimal estimator:\n",
    "$$\n",
    "\\hat{Y} = f_{\\text{Bayes}}(X) = \\mathbb{E}(Y|X)\n",
    "$$"
   ]
  },
  {
   "cell_type": "markdown",
   "id": "b78e4c52-9cf8-41c2-a0ed-41eecf601275",
   "metadata": {},
   "source": [
    "### Task 2: Excess risk formulation\n",
    "Let us first write the expressions for the KNN estimator and the excess risk:\n",
    "$$\n",
    "f_{KNN}(X) = \\frac{1}{k} \\sum_{i \\in \\mathcal{N}(X)} y_i\n",
    "$$\n",
    "$$\n",
    "\\Delta R = \\mathcal{R}_{\\text{KNN}} - \\mathcal{R}_{\\text{Bayes}} = \\mathbb{E}_{X,Y,Y^{(i)}}\n",
    "    \\left[ (Y - f_{\\text{KNN}}(X))^2 - (Y - f_{\\text{Bayes}}(X))^2 \\right]\n",
    "$$\n",
    "\n",
    "The excess risk can be rewritten as:\n",
    "$$\n",
    "\\Delta R = \\mathbb{E}_X \n",
    "    \\left[ \n",
    "        \\mathbb{E}_{Y|X,Y^{(i)}} \\left[ \\frac{1}{k^2} \\sum_{i \\in \\mathcal{N}(X)} Y^{(i)^2} + \n",
    "            \\frac{1}{k^2} \\sum_{j \\neq i \\in \\mathcal{N}(X)} Y^{(i)} Y^{(j)}\n",
    "            - \\frac{2}{k} \\sum_{i \\in \\mathcal{N}(X)} Y^{(i)} (Y|X) + (Y|X)^2 \\right]\n",
    "        - \\mathbb{E}_{Y|X,Y^{(i)}} \\left[(Y|X) - \\mathbb{E}(Y|X)\\right]^2\n",
    "    \\right]\n",
    "$$\n",
    "\n",
    "In the next section, we will omit writing the subscript from the expectation $\\mathbb{E}$ for simplicity. If we assume that the realizations are i.i.d., we further get:\n",
    "\n",
    "$$\n",
    "\\Delta R = \\mathbb{E}_X \\left[\n",
    "    \\frac{1}{k^2} \\sum_{i \\in \\mathcal{N}(X)} \\mathbb{E}\\left(Y^{(i)^2}\\right) + \\frac{1}{k^2} \\sum_{j \\neq i \\in \\mathcal{N}(X)} \\mathbb{E}(Y^{(i)}) \\mathbb{E}(Y^{(j)}) - \\frac{2}{k} \\sum_{i \\in \\mathcal{N}(X)} \\mathbb{E}(Y^{(i)}) \\mathbb{E}(Y|X) + \\mathbb{E}(Y|X)^2 - \\sigma^2\n",
    "\\right]\n",
    "$$\n",
    "\n",
    "Since $Y^{(i)} = Y|x_i$, we get $\\mathbb{E}(Y^{(i)}) = f_{\\text{Bayes}}(x_i)$ and $\\mathbb{E}\\left(Y^{(i)^2}\\right) = f_{\\text{Bayes}}^2(x_i) + \\sigma^2$. Analogously, $\\mathbb{E}(Y|X)^2 = f_{\\text{Bayes}}^2(X) + \\sigma^2$.\n",
    "\n",
    "We utilize these conclusions:\n",
    "$$\n",
    "\\Delta R = \\mathbb{E}_X \\left[ \\frac{1}{k^2} \\sum_{i=1}^n \\sigma^2 \\right] + \n",
    "        \\mathbb{E}_X \\left[\n",
    "            \\frac{1}{k^2} \\sum_{i \\in \\mathcal{N}(X)} f_{\\text{Bayes}}^2(x_i) - \\frac{2}{k} f_{\\text{Bayes}}(X) \\sum_{i \\in \\mathcal{N}(X)} f_{\\text{Bayes}}(x_i) + f_{\\text{Bayes}}^2(X)   \n",
    "        \\right]\n",
    "$$\n",
    "\n",
    "Finally, we get:\n",
    "$$\n",
    "\\Delta R = \\frac{\\sigma^2}{k} + \\mathbb{E}_X \\left( \\frac{1}{k} \\sum_{i \\in \\mathcal{N}(X)} f_{\\text{Bayes}}(x_i) - f_{\\text{Bayes}}(X)  \\right)^2\n",
    "$$"
   ]
  },
  {
   "cell_type": "markdown",
   "id": "595759fc-11d4-41c9-ac45-0cfe96d890c0",
   "metadata": {},
   "source": [
    "### Task 3: Excess risk bound\n",
    "\n",
    "The Cauchy-Schwartz inequality states that, for any two vectors $a$ and $b$:\n",
    "$$\n",
    "(a^T b)^2 \\leq \\lVert a \\rVert^2 \\lVert b \\rVert^2\n",
    "$$\n",
    "If we utilize it for the vector of ones $1$ and an arbitrary vector $u$, both of $k$ dimensions, we get:\n",
    "$$\n",
    "(1^T u)^2 \\leq \\lVert 1 \\rVert^2 \\lVert u \\rVert^2 = k \\lVert u \\rVert^2\n",
    "$$\n",
    "which translates to\n",
    "$$\n",
    "\\left(\\sum_{i=1}^k u_i\\right)^2 \\leq k \\sum_{i=1}^k u_i^2\n",
    "$$\n",
    "Now, we apply this result to the bias term of excess risk:\n",
    "$$\n",
    "\\left( \\frac{1}{k} \\sum_{i \\in \\mathcal{N}(X)} f_{\\text{Bayes}}(x_i) - f_{\\text{Bayes}}(X)  \\right)^2 \\leq\n",
    "\\frac{1}{k} \\sum_{i \\in \\mathcal{N}(X)} \\left( f_{\\text{Bayes}}(x_i) - f_{\\text{Bayes}}(X)  \\right)^2\n",
    "$$\n",
    "so, the excess risk is upper-bounded with:\n",
    "$$\n",
    "\\Delta R \\leq \\frac{\\sigma^2}{k} + \\frac{1}{k} \\sum_{i \\in \\mathcal{N}(X)} \\left( f_{\\text{Bayes}}(x_i) - f_{\\text{Bayes}}(X)  \\right)^2\n",
    "$$\n",
    "Let us assume that $f_{\\text{Bayes}}$ **is L-Lipschitz** i.e. $|f_{\\text{Bayes}}(x)-f_{\\text{Bayes}}(y)| \\leq L \\lVert x-y \\rVert$. Using this, we further transform the bound:\n",
    "\n",
    "$$\n",
    "\\Delta R \\leq \\frac{\\sigma^2}{k} + \\frac{L^2}{k} \\sum_{i \\in \\mathcal{N}(X)} \\lVert x_i-X \\rVert^2\n",
    "$$\n",
    "\n",
    "We make another assumption of **the points $x_{1,...,n}$ being evenly spaced on a $d$-dimensional unit (hyper-)cube of volume 1**. Let us first imagine that we are in a homogenous subset of a $d$-dimensional space. We consider the density defined by $\\rho = \\frac{n}{V_{tot}}$, where $n$ is the number of points in that subset, and $V_{tot}$ is the volume. Since our points lie in the (hyper-)cube of volume 1, $\\rho=n$. Let us now consider a \"small\" cube of volume $l^d$; we expect to find $\\rho l^d = n l^d$ points in it, so in order to fit our $k$ nearest neighbors the following has to hold: $k = n l^d$. From here, we get the necessary length of the cube edge:\n",
    "$$\n",
    "l = \\left(\\frac{k}{n}\\right)^{\\frac{1}{d}}\n",
    "$$\n",
    "\n",
    "Now, we use the fact that the points $x_i$ are evenly distributed on the cube: $\\lVert x_i-X \\rVert^2 \\approx l^2 = \\left(\\frac{k}{n}\\right)^{\\frac{2}{d}}$. Finally, our bound becomes:\n",
    "$$\n",
    "\\Delta R \\leq \\frac{\\sigma^2}{k} + L^2 \\left( \\frac{k}{n} \\right) ^ { \\frac{2}{d} }\n",
    "$$\n",
    "\n",
    "We will now analyze the terms present in the bound:\n",
    "\n",
    "As $k$ grows, the variance gets lower, which makes sense as we take into account more samples hence the deviations get less common. On the other hand, the bias grows because we are now averaging over the samples that might not be close to the queried one. Conversely, as $n$ increases, the bias drops as it is now more likely that our samples are closer to us.\n",
    "\n",
    "Also, as $d$ grows, the bias grows as well. This makes sense because we are increasing the information one sample carries, and if we increase it too much, the model could get attached to specific data patterns i.e. overfit. Furthermore, bigger $L$ tells us that the optimal Bayes estimates for two different points can be further away, which applies also to kNN as a non-optimal estimator."
   ]
  },
  {
   "cell_type": "markdown",
   "id": "11ead633",
   "metadata": {},
   "source": [
    "### Task 4:\n",
    "\n",
    "First, we define two functions:\n",
    "- `bias` which implements the bias term from the excess risk given by $L^2 \\left( \\frac{k}{n} \\right)^{\\frac{2}{d}}$\n",
    "- `variance` which calculates the variance term from the excess risk given by $\\frac{\\sigma^2}{k}$\n",
    "\n",
    "$L$ and $\\sigma$ are set to 1."
   ]
  },
  {
   "cell_type": "code",
   "execution_count": 15,
   "id": "0af5a48f",
   "metadata": {},
   "outputs": [],
   "source": [
    "L = 1\n",
    "sigma = 1\n",
    "\n",
    "def bias(k, n, d):\n",
    "    return L*L*(k/n)**(2/d)\n",
    "\n",
    "def variance(k):\n",
    "    return sigma*sigma/k"
   ]
  },
  {
   "cell_type": "markdown",
   "id": "71b73487-c14f-4302-a0bb-1a1d2e54e12e",
   "metadata": {},
   "source": [
    "Now, we fix $n=100$ and $d=1$, and calculate the bias and variance, as well as the complete excess risk, for different values of $k$. Then, we compute the $k_{opt}$ that minimizes the excess risk."
   ]
  },
  {
   "cell_type": "code",
   "execution_count": 16,
   "id": "d385660d",
   "metadata": {},
   "outputs": [
    {
     "name": "stdout",
     "output_type": "stream",
     "text": [
      "The excess risk is minimized for k=16.\n"
     ]
    }
   ],
   "source": [
    "n = 100\n",
    "d = 1\n",
    "\n",
    "k_vec = np.arange(1,80)\n",
    "bias_vec = bias(k_vec, n, d)\n",
    "variance_vec = variance(k_vec)\n",
    "dr_vec = bias_vec + variance_vec\n",
    "\n",
    "k_opt = np.argmin(dr_vec)\n",
    "print(f\"The excess risk is minimized for k={k_opt}.\")"
   ]
  },
  {
   "cell_type": "markdown",
   "id": "cf7139fe-34ba-4f2c-8a2c-9aacdb89feaa",
   "metadata": {},
   "source": [
    "We plot both terms along with the excess risk. For better visualization, the value $k_{opt}$ is also shown."
   ]
  },
  {
   "cell_type": "code",
   "execution_count": 17,
   "id": "3084861d",
   "metadata": {},
   "outputs": [
    {
     "data": {
      "text/plain": [
       "<matplotlib.legend.Legend at 0x2299b381a30>"
      ]
     },
     "execution_count": 17,
     "metadata": {},
     "output_type": "execute_result"
    },
    {
     "data": {
      "image/png": "[encoded data removed]",
      "text/plain": [
       "<Figure size 560x400 with 1 Axes>"
      ]
     },
     "metadata": {
      "needs_background": "light"
     },
     "output_type": "display_data"
    }
   ],
   "source": [
    "fig = plt.figure(figsize=(7,5), dpi=80)\n",
    "plt.title('$n=100$ and $d=1$', fontsize=16)\n",
    "plt.xlabel('$k$', fontsize=14)\n",
    "plt.plot(k_vec, bias_vec, label='bias')\n",
    "plt.plot(k_vec, variance_vec, label='variance')\n",
    "plt.plot(k_vec, dr_vec, label='$\\Delta R$')\n",
    "plt.axvline(k_opt, color=\"r\", linestyle='dashed', label=\"$k_{opt}$\")\n",
    "plt.legend(fontsize=12)"
   ]
  },
  {
   "cell_type": "markdown",
   "id": "2987b284-5d99-4917-ae90-e88a312ddad9",
   "metadata": {},
   "source": [
    "As expected, as $k$ is increasing, the bias increases as well, while the variance decreases. When taking more and more neighbors, the probability of them being further away from the observed sample grows, thus their mean gets \"shifted\" from the theoretical value. On the other hand, by taking more samples we will not deviate much from the results obtained, hence why variance is lower. Of course, the known bias-variance tradeoff must be made, and we obtain the optimal $k$ in terms of minimizing the excess risk at $k_{opt}=16$.\n",
    "\n",
    "Now we want to examine how each of the parameters $n$ and $d$ influence bias and excess risk (variance is fixed and depends only on $k$). When testing for one parameter, we fix the value of the other to isolate its effect on the result.\n",
    "\n",
    "We first test for the number of samples $n$, while we keep $d=1$ fixed. We calculate the bias term, excess risk, and find $k_{opt}$ that minimizes it for a given $(n,d)$ pair."
   ]
  },
  {
   "cell_type": "code",
   "execution_count": 18,
   "id": "5886eea4",
   "metadata": {},
   "outputs": [],
   "source": [
    "# d=1, n-alternating\n",
    "d = 1\n",
    "k_vec = np.arange(1,120)\n",
    "n_vec = np.linspace(100, 300, 5)\n",
    "variance_n = variance(k_vec)\n",
    "\n",
    "k_opt_n_vec = []\n",
    "bias_n = []\n",
    "dr_n = []\n",
    "for n in n_vec:\n",
    "    bias_n.append(bias(k_vec, n, d))\n",
    "    dr_n.append(bias_n[-1] + variance_n)\n",
    "    k_opt_n_vec.append(np.argmin(dr_n[-1]))"
   ]
  },
  {
   "cell_type": "markdown",
   "id": "1cecfa72-b06f-48dd-9435-a00b82d966de",
   "metadata": {},
   "source": [
    "The procedure above is repeated, but now for fixed $n=100$ and variable number of dimensions $d$."
   ]
  },
  {
   "cell_type": "code",
   "execution_count": 19,
   "id": "0db67780",
   "metadata": {},
   "outputs": [],
   "source": [
    "# n=100, d-alternating\n",
    "n = 100\n",
    "k_vec = np.arange(1,120)\n",
    "d_vec = np.linspace(1, 21, 5)\n",
    "\n",
    "variance_d = variance(k_vec)\n",
    "\n",
    "k_opt_d_vec = []\n",
    "bias_d = []\n",
    "dr_d = []\n",
    "for d in d_vec:\n",
    "    bias_d.append(bias(k_vec, n, d))\n",
    "    dr_d.append(bias_d[-1] + variance_d)\n",
    "    k_opt_d_vec.append(np.argmin(dr_d[-1]))"
   ]
  },
  {
   "cell_type": "markdown",
   "id": "3d3a0265-43ed-46c9-9142-ef87dd1cf09f",
   "metadata": {},
   "source": [
    "After the calculations are completed, we plot the bias and excess risk for both cases (variable $n$ ***VS*** variable $d$)."
   ]
  },
  {
   "cell_type": "code",
   "execution_count": 20,
   "id": "9f595ca1",
   "metadata": {},
   "outputs": [
    {
     "data": {
      "text/plain": [
       "Text(0.5, 1.0, 'Fixed $n=100$')"
      ]
     },
     "execution_count": 20,
     "metadata": {},
     "output_type": "execute_result"
    },
    {
     "data": {
      "image/png": "[encoded data removed]",
      "text/plain": [
       "<Figure size 880x320 with 2 Axes>"
      ]
     },
     "metadata": {
      "needs_background": "light"
     },
     "output_type": "display_data"
    },
    {
     "data": {
      "image/png": "[encoded data removed]",
      "text/plain": [
       "<Figure size 880x320 with 2 Axes>"
      ]
     },
     "metadata": {
      "needs_background": "light"
     },
     "output_type": "display_data"
    }
   ],
   "source": [
    "fig = plt.figure(figsize=(11,4), dpi=80)\n",
    "plt.suptitle('Bias plots', fontsize=16)\n",
    "plt.subplot(121)\n",
    "for i in range(len(bias_n)):\n",
    "    plt.plot(k_vec, bias_n[i], label=f\"n={int(n_vec[i])}\")\n",
    "plt.legend(fontsize=10)\n",
    "plt.xlabel('k')\n",
    "plt.title('Fixed $d=1$', fontsize=14)\n",
    "plt.subplot(122)\n",
    "for i in range(len(bias_d)):\n",
    "    plt.plot(k_vec, bias_d[i], label=f\"d={int(d_vec[i])}\")\n",
    "plt.legend(fontsize=10)\n",
    "plt.xlabel('k')\n",
    "plt.title('Fixed $n=100$', fontsize=14)\n",
    "\n",
    "fig = plt.figure(figsize=(11,4), dpi=80)\n",
    "plt.suptitle('Risk plots', fontsize=16)\n",
    "plt.subplot(121)\n",
    "for i in range(len(dr_n)):\n",
    "    plt.plot(k_vec, dr_n[i], label=f\"n={int(n_vec[i])}\")\n",
    "plt.legend(fontsize=10)\n",
    "plt.xlabel('k')\n",
    "plt.title('Fixed $d=1$', fontsize=14)\n",
    "plt.subplot(122)\n",
    "for i in range(len(dr_d)):\n",
    "    plt.plot(k_vec, dr_d[i], label=f\"d={int(d_vec[i])}\")\n",
    "plt.legend(fontsize=10)\n",
    "plt.xlabel('k')\n",
    "plt.title('Fixed $n=100$', fontsize=14)"
   ]
  },
  {
   "cell_type": "markdown",
   "id": "c57b6541-1588-4bc2-bfd3-8899d18320eb",
   "metadata": {},
   "source": [
    "For fixed $d$, the bias (and the risk consequently) is higher when we have lower number of samples $n$ to work with. Note that for $n=100$, the values $k \\geq 100$ physically do not make sense. When we have more samples to work with, there is a greater chance that our (fixed) $k$ nearest neighbors are closer to us than when $n$ is lower (we can think of it as the grid becoming more and more dense), hence the risk is lower.\n",
    "\n",
    "We also observe that both bias and excess risk get higher as we increase the number of dimensions $d$. In other words, we are getting more and more prone to overfitting.\n",
    "\n",
    "Let us now calculate the $k_{opt}$ for each of the discussed cases, which provides a good introduction into the next task."
   ]
  },
  {
   "cell_type": "code",
   "execution_count": 21,
   "id": "75c420e5",
   "metadata": {},
   "outputs": [
    {
     "name": "stdout",
     "output_type": "stream",
     "text": [
      "For d=1 and n=100: 16\tFor d=1 and n=100: 16\n",
      "For d=1 and n=150: 21\tFor d=6 and n=100: 6\n",
      "For d=1 and n=200: 26\tFor d=11 and n=100: 8\n",
      "For d=1 and n=250: 31\tFor d=16 and n=100: 10\n",
      "For d=1 and n=300: 35\tFor d=21 and n=100: 12\n"
     ]
    }
   ],
   "source": [
    "for i in range(len(bias_n)):\n",
    "    print(f\"For d=1 and n={int(n_vec[i])}: {k_opt_n_vec[i]}\", end='\\t')\n",
    "    print(f\"For d={int(d_vec[i])} and n=100: {k_opt_d_vec[i]}\")"
   ]
  },
  {
   "cell_type": "markdown",
   "id": "4cbe88ee-d458-4e5f-a841-2a29916ec122",
   "metadata": {},
   "source": [
    "### Task 5:"
   ]
  },
  {
   "cell_type": "markdown",
   "id": "b6b05390-3cea-4505-9f82-11b530142746",
   "metadata": {},
   "source": [
    "In this task, we compute analytically the $k_{opt}$ that minimizes the excess risk. Since both bias and variance terms are convex, their sum is also convex, so making the first derrivative of the risk w.r.t. $k$ equal to zero will yield a global minimizer:\n",
    "\n",
    "$$\n",
    "L^2 \\frac{2}{d} \\left (\\frac{k}{n} \\right) ^{\\frac{2}{d}-1} \\frac{1}{n} - \\frac{\\sigma^2}{k^2} = 0\n",
    "$$\n",
    "\n",
    "Multiplying both equation sides with $k^2$ yields:\n",
    "$$\n",
    "L^2 \\frac{2}{d} \\frac{k^{\\frac{d+2}{d}}}{n^{\\frac{2}{d}}} = \\sigma^2\n",
    "$$\n",
    "\n",
    "From this, we get the expression for $k_{opt}$:\n",
    "\n",
    "$$\n",
    "k_{opt} = \\left( \\frac{n^{\\frac{2}{d}} d}{2L^2} \\sigma^2 \\right) ^ {\\frac{d}{d+2}}\n",
    "$$\n",
    "\n",
    "We will do an analysis similar to one from *Task 4*, where we observe the influence of one parameter on $k_{opt}$, while we keep the other one fixed. We first define the function `k_optimal` that calculates the expression above."
   ]
  },
  {
   "cell_type": "code",
   "execution_count": 22,
   "id": "097a46ef-21b8-4abc-96bd-2a751faa07a5",
   "metadata": {},
   "outputs": [],
   "source": [
    "def k_optimal(n, d):\n",
    "    return ( n**(2/d)*d/2/L**2 * sigma**2 ) ** (d/(d+2))"
   ]
  },
  {
   "cell_type": "markdown",
   "id": "ff0c9805-7d4a-41f0-aa55-5955a7f9e5d3",
   "metadata": {},
   "source": [
    "We test number of samples $n$ in the range $[1, 1000]$, and number of dimensions $d \\in [1, 100]$ and plot the results."
   ]
  },
  {
   "cell_type": "code",
   "execution_count": 23,
   "id": "6633fe80-a585-4109-b5f7-500961c6d0c9",
   "metadata": {},
   "outputs": [],
   "source": [
    "n_vec = np.linspace(1, 1000, 500)\n",
    "d_vec = np.linspace(1, 100, 100)\n",
    "d0 = 4\n",
    "n0 = 100\n",
    "\n",
    "k_opt_n = k_optimal(n_vec, d0)\n",
    "k_opt_d = k_optimal(n0, d_vec)"
   ]
  },
  {
   "cell_type": "code",
   "execution_count": 24,
   "id": "af4fa399-d9fc-41f9-bbef-bda38a83a1df",
   "metadata": {},
   "outputs": [
    {
     "data": {
      "text/plain": [
       "Text(0.5, 1.0, 'Fixed $n=100$')"
      ]
     },
     "execution_count": 24,
     "metadata": {},
     "output_type": "execute_result"
    },
    {
     "data": {
      "image/png": "[encoded data removed]",
      "text/plain": [
       "<Figure size 880x320 with 2 Axes>"
      ]
     },
     "metadata": {
      "needs_background": "light"
     },
     "output_type": "display_data"
    }
   ],
   "source": [
    "fig = plt.figure(figsize=(11,4), dpi=80)\n",
    "\n",
    "plt.subplot(121)\n",
    "plt.plot(n_vec, k_opt_n, color=\"darkred\")\n",
    "plt.xlabel('n', fontsize=15)\n",
    "plt.ylabel('$k_{opt}$', fontsize=15)\n",
    "plt.title(f'Fixed $d={d0}$', fontsize=14)\n",
    "\n",
    "plt.subplot(122)\n",
    "plt.plot(d_vec, k_opt_d, color=\"darkred\")\n",
    "plt.xlabel('d', fontsize=15)\n",
    "plt.ylabel('$k_{opt}$', fontsize=15)\n",
    "plt.title('Fixed $n=100$', fontsize=14)"
   ]
  },
  {
   "cell_type": "markdown",
   "id": "c5cf3f5a-a54d-4e08-b645-cfa6d252e7f8",
   "metadata": {},
   "source": [
    "When $d$ is fixed, as we increase $n$, $k_{opt}$ increases as well. This makes sense because, when we have more samples to work with, we have the possibility of taking more neighbors (thus more information) into account. We could also see it this way: we increase $k$ to achive the same degree of freedom $(\\frac{n}{k})$ we had with lower $n$. The shape of the function makes sense - the theoretical result for $k_{opt}$ indicates that it is a power function of $n$, and $k_{opt}(n, d \\rightarrow \\infty)$ becomes constant $\\left( n^\\frac{2}{d} \\rightarrow 1,\\;\\frac{d}{d+2} \\rightarrow 1 \\right)$.\n",
    "\n",
    "When we keep $n$ fixed and try out different values for $d$, we get an interesting graph as well. It looks that there is a local minimum for $k_{opt}$ at the begining of the interval. To some extent it makes sense, because very low number of fetures $d$ is not enough for making a decision, so we look for more neighbors. However, as $d$ gets higher, we obtain more information from the sample and the bias-variance tradeoff comes into play. "
   ]
  },
  {
   "cell_type": "markdown",
   "id": "e621a44d-d740-4d1c-a1b6-47a86eb1d776",
   "metadata": {},
   "source": [
    "### Task 6:\n",
    "\n",
    "Let us recall the expressions for the bound and $k_{opt}$:\n",
    "$$\n",
    "\\Delta R \\leq \\frac{\\sigma^2}{k} + L^2 \\left( \\frac{k}{n} \\right) ^ { \\frac{2}{d} }\n",
    "$$\n",
    "$$\n",
    "k_{opt} = \\left( \\frac{n^{\\frac{2}{d}} d}{2L^2} \\sigma^2 \\right) ^ {\\frac{d}{d+2}}\n",
    "$$\n",
    "\n",
    "We can rewrite the expression for $k_{opt}$ as:\n",
    "$$\n",
    "k_{opt} \\; k_{opt}^{\\frac{2}{d}} = \\frac{\\sigma^2 d n^{\\frac{2}{d}}}{2 L^2}\n",
    "$$\n",
    "from which we get:\n",
    "$$\n",
    "\\left( \\frac{k_{opt}}{n} \\right) ^{\\frac{2}{d}} = \\frac{\\sigma^2 d}{2 L^2 k_{opt}}\n",
    "$$\n",
    "We plug this into the excess risk bound:\n",
    "$$\n",
    "L^2 \\frac{\\sigma^2 d}{2 L^2 k_{opt}} + \\frac{\\sigma^2}{k_{opt}} = \\frac{\\sigma^2}{k_{opt}} \\left( \\frac{d}{2} + 1 \\right) = \\frac{\\sigma^2}{k_{opt}}\\;\\frac{d+2}{2}\n",
    "$$\n",
    "\n",
    "Furthermore, we replace the $k_{opt}$ with our result from *Task 5*:\n",
    "\n",
    "$$\n",
    "\\sigma^2 \\; \\left( \\frac{n^{\\frac{2}{d}} d}{2 L^2} \\sigma^2 \\right)^{-\\frac{d}{d+2}}\\frac{d+2}{2} = \\sigma^2 \\; \\frac{n^{-\\frac{2}{d+2}} d^{-\\frac{d}{d+2}}}{(2 L^2)^{-\\frac{d}{d+2}}} \\; \\sigma^{-\\frac{2d}{d+2}} \\; \\frac{d+2}{2}\n",
    "$$\n",
    "\n",
    "Finally, we obtain the final rearranged form of the optimal bound dependent on $n$ and $d$:\n",
    "$$\n",
    "\\Delta R \\leq \\left( \\frac{\\sigma^2}{n} \\right)^\\frac{2}{d+2} \\; \\left( \\frac{2 L^2}{d} \\right)^\\frac{d}{d+2} \\; \\frac{d+2}{2}\n",
    "$$"
   ]
  },
  {
   "cell_type": "markdown",
   "id": "b79cd266-8ed1-479c-9874-2af2a5fa04df",
   "metadata": {},
   "source": [
    "### Task 7:"
   ]
  },
  {
   "cell_type": "markdown",
   "id": "58954b0e-c07d-424b-b0a2-9fd5722a1589",
   "metadata": {},
   "source": [
    "We define the function `optimal_dr` that calculates the optimal excess risk for given $n$ and $d$."
   ]
  },
  {
   "cell_type": "code",
   "execution_count": 25,
   "id": "8440812f-240e-4f72-82b7-b7e6b0812e10",
   "metadata": {},
   "outputs": [],
   "source": [
    "def optimal_dr(n, d):\n",
    "    k_opt = k_optimal(n, d)\n",
    "    return bias(k_opt, n, d) + variance(k_opt)"
   ]
  },
  {
   "cell_type": "markdown",
   "id": "cf5947ae-de9e-4287-80f4-0959ffadbce5",
   "metadata": {},
   "source": [
    "Then, for each $d$ we test, we calculate the excess risk for multiple values of $n$ and search for the first $n$ that crosses the threshold $0.1$. The parameter values we test for are carefully chosen not to make the execution time too long and not to output the results that do not cross the threshold in the intervals tested."
   ]
  },
  {
   "cell_type": "code",
   "execution_count": 26,
   "id": "47bda7ee-b6e6-488b-80fd-7d92bbb1c8f5",
   "metadata": {},
   "outputs": [],
   "source": [
    "n_vec = np.linspace(1, 1000000, 1000000)\n",
    "d_vec = np.linspace(1, 16, 16)\n",
    "\n",
    "res = []\n",
    "for d in d_vec:\n",
    "    risk = optimal_dr(n_vec, d)\n",
    "    n_risk = n_vec[np.argwhere(risk*risk <= 0.1)[0][0]]\n",
    "    res.append(n_risk)"
   ]
  },
  {
   "cell_type": "markdown",
   "id": "3c299ca1-11c2-4f42-80a1-572bbaad04b8",
   "metadata": {},
   "source": [
    "Finally, we plot the results."
   ]
  },
  {
   "cell_type": "code",
   "execution_count": 27,
   "id": "5b1fd509-fe7d-435d-88a3-a29ac556fe47",
   "metadata": {},
   "outputs": [
    {
     "data": {
      "text/plain": [
       "Text(0.5, 1.0, 'Number of samples $n$ to achieve $\\\\Delta R^2 = 0.1$')"
      ]
     },
     "execution_count": 27,
     "metadata": {},
     "output_type": "execute_result"
    },
    {
     "data": {
      "image/png": "[encoded data removed]",
      "text/plain": [
       "<Figure size 560x400 with 1 Axes>"
      ]
     },
     "metadata": {
      "needs_background": "light"
     },
     "output_type": "display_data"
    }
   ],
   "source": [
    "fig = plt.figure(figsize=(7,5), dpi=80)\n",
    "plt.plot(d_vec, res, color=\"darkred\")\n",
    "plt.xlabel('$d$', fontsize=15)\n",
    "plt.ylabel('$n$', fontsize=15)\n",
    "plt.title('Number of samples $n$ to achieve $\\Delta R^2 = 0.1$', fontsize=14)"
   ]
  },
  {
   "cell_type": "markdown",
   "id": "ad94fa61-20a2-47ef-aff3-05ed03a85133",
   "metadata": {},
   "source": [
    "The results obtained represent a phenomenon called *the curse of dimensionality*. Increasing the number of features exponentially increases the number of samples needed, and after $d=10$ the problem becomes unscalable. This is a serious limitation of kNN, which is why we should look for alternatives when we have a large number of dimensions. We could also reduce the dimensionality and still use kNN, but there is always a risk of losing some information in that process."
   ]
  }
 ],
 "metadata": {
  "kernelspec": {
   "display_name": "Python 3 (ipykernel)",
   "language": "python",
   "name": "python3"
  },
  "language_info": {
   "codemirror_mode": {
    "name": "ipython",
    "version": 3
   },
   "file_extension": ".py",
   "mimetype": "text/x-python",
   "name": "python",
   "nbconvert_exporter": "python",
   "pygments_lexer": "ipython3",
   "version": "3.9.12"
  }
 },
 "nbformat": 4,
 "nbformat_minor": 5
}
